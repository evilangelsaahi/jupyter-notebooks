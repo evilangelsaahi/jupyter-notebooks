{
 "cells": [
  {
   "cell_type": "markdown",
   "id": "5ed74fe4-f857-4cdf-b9af-1744b8fd8776",
   "metadata": {
    "tags": []
   },
   "source": [
    "## Arrays"
   ]
  },
  {
   "cell_type": "markdown",
   "id": "48b0e669-b1af-4a67-87a2-550bf73cfb99",
   "metadata": {},
   "source": [
    "#### Isomorphic"
   ]
  },
  {
   "cell_type": "code",
   "execution_count": 4,
   "id": "268176d5-7a5f-4131-bc51-21c169bfeb81",
   "metadata": {},
   "outputs": [],
   "source": [
    "def isIsomorphic(s, t): \n",
    "        return [s.find(i) for i in s] == [t.find(j) for j in t]"
   ]
  },
  {
   "cell_type": "code",
   "execution_count": 5,
   "id": "70dce0a7-46d7-49a3-92af-06759c2a2a79",
   "metadata": {},
   "outputs": [
    {
     "data": {
      "text/plain": [
       "True"
      ]
     },
     "execution_count": 5,
     "metadata": {},
     "output_type": "execute_result"
    }
   ],
   "source": [
    "s = \"paper\"\n",
    "t = \"title\"\n",
    "\n",
    "isIsomorphic(s,t)"
   ]
  },
  {
   "cell_type": "code",
   "execution_count": 7,
   "id": "cb82d019-41ab-4141-9615-ddcfc66bd473",
   "metadata": {},
   "outputs": [
    {
     "data": {
      "text/plain": [
       "[0, 1, 0, 3, 4]"
      ]
     },
     "execution_count": 7,
     "metadata": {},
     "output_type": "execute_result"
    }
   ],
   "source": [
    "[s.find(i) for i in s]"
   ]
  },
  {
   "cell_type": "markdown",
   "id": "cab865dd-b3d1-4dc1-86ab-fe340b799352",
   "metadata": {},
   "source": [
    "####   Minimum Index Sum of Two Lists"
   ]
  },
  {
   "cell_type": "code",
   "execution_count": 25,
   "id": "44304dd1-0294-49be-8008-0e6325e013b1",
   "metadata": {},
   "outputs": [],
   "source": [
    "def findRestaurant(list1: list[str], list2: list[str]) -> list[str]:\n",
    "    d = {l:i for i,l in enumerate(list1)}\n",
    "    sm = {l:i+d[l] for i,l in enumerate(list2) if l in d}\n",
    "    mn = min(v for v in sm.values())\n",
    "    return [k for k,v in sm.items() if v == mn]"
   ]
  },
  {
   "cell_type": "code",
   "execution_count": 26,
   "id": "3a952e57-a5f9-49c8-be15-c4362ae6796b",
   "metadata": {},
   "outputs": [
    {
     "data": {
      "text/plain": [
       "['Shogun']"
      ]
     },
     "execution_count": 26,
     "metadata": {},
     "output_type": "execute_result"
    }
   ],
   "source": [
    "list1 = [\"Shogun\",\"Tapioca Express\",\"Burger King\",\"KFC\"]\n",
    "list2 = [\"KFC\",\"Shogun\",\"Burger King\"]\n",
    "findRestaurant(list1, list2)"
   ]
  },
  {
   "cell_type": "markdown",
   "id": "9dc3adcb-5450-4d5c-9111-449c17152271",
   "metadata": {},
   "source": [
    "#### Intersection of two arrays"
   ]
  },
  {
   "cell_type": "code",
   "execution_count": 19,
   "id": "4f23c600-0f93-431a-ae3f-36179acaad3a",
   "metadata": {},
   "outputs": [],
   "source": [
    "from collections import Counter\n",
    "def intersect(nums1: list[int], nums2: list[int]) -> list[int]:\n",
    "        first = Counter(nums1)\n",
    "        second = Counter(nums2)\n",
    "        res = []\n",
    "        for i in first:\n",
    "            if i in second:\n",
    "                res = res + [i] * min(first[i], second[i])\n",
    "        return res"
   ]
  },
  {
   "cell_type": "code",
   "execution_count": 20,
   "id": "a17879e6-e2b6-47da-937b-6f1c9b2903fc",
   "metadata": {},
   "outputs": [
    {
     "data": {
      "text/plain": [
       "[4, 9]"
      ]
     },
     "execution_count": 20,
     "metadata": {},
     "output_type": "execute_result"
    }
   ],
   "source": [
    "nums1 = [4,9,5]\n",
    "nums2 = [9,4,9,8,4]\n",
    "\n",
    "intersect(nums1, nums2)"
   ]
  },
  {
   "cell_type": "markdown",
   "id": "3d81e6df-7775-4e99-97a0-9bf3c92c89a4",
   "metadata": {},
   "source": [
    "#### Contains duplicates in a list"
   ]
  },
  {
   "cell_type": "code",
   "execution_count": 21,
   "id": "038ad267-17f0-4d2b-be50-d81425fea7ac",
   "metadata": {},
   "outputs": [],
   "source": [
    "def containsNearbyDuplicate(nums: list[int], k: int) -> bool:\n",
    "        d = dict()\n",
    "        \n",
    "        for i,v in enumerate(nums):\n",
    "            if v in d and i-d[v] <= k:\n",
    "                return True\n",
    "            d[v] = i\n",
    "        return False"
   ]
  },
  {
   "cell_type": "code",
   "execution_count": 27,
   "id": "7dacce78-4d58-4426-abd1-943d5f49d790",
   "metadata": {},
   "outputs": [
    {
     "data": {
      "text/plain": [
       "True"
      ]
     },
     "execution_count": 27,
     "metadata": {},
     "output_type": "execute_result"
    }
   ],
   "source": [
    "nums = [1,0,1,1]\n",
    "k = 1\n",
    "containsNearbyDuplicate(nums, k)"
   ]
  },
  {
   "cell_type": "code",
   "execution_count": 24,
   "id": "2110af28-8944-49bc-9fc7-8d2235f12871",
   "metadata": {
    "tags": []
   },
   "outputs": [
    {
     "data": {
      "text/plain": [
       "False"
      ]
     },
     "execution_count": 24,
     "metadata": {},
     "output_type": "execute_result"
    }
   ],
   "source": [
    "nums = [1,2,3,1,2,3]\n",
    "k = 2\n",
    "containsNearbyDuplicate(nums, k)"
   ]
  },
  {
   "cell_type": "markdown",
   "id": "e9b5608c-06dd-4974-9ba9-3f8684e14c18",
   "metadata": {},
   "source": [
    "#### length of longest substring in array"
   ]
  },
  {
   "cell_type": "code",
   "execution_count": 25,
   "id": "6119cf06-b538-4a57-bee3-689c324614a2",
   "metadata": {},
   "outputs": [],
   "source": [
    "def lengthOfLongestSubstring(s: str) -> int:\n",
    "        encountered = dict()\n",
    "        anchor = length = 0\n",
    "        for i, c in enumerate(s):\n",
    "            if c in encountered and encountered[c] >= anchor:\n",
    "                print(\"if\",anchor)\n",
    "                anchor = encountered[c] + 1\n",
    "                print(anchor)\n",
    "            else:\n",
    "                length = max(length, i + 1 - anchor)\n",
    "                print(\"else\", length)\n",
    "            encountered[c] = i\n",
    "            print(encountered)\n",
    "        return length"
   ]
  },
  {
   "cell_type": "code",
   "execution_count": null,
   "id": "1e8cc631-9689-4a65-af36-a2d8b0b2d31e",
   "metadata": {},
   "outputs": [],
   "source": [
    "class Solution:\n",
    "    def lengthOfLongestSubstring(self, s: str) -> int:\n",
    "        charSet = set()\n",
    "        l = 0\n",
    "        res = 0\n",
    "\n",
    "        for r in range(len(s)):\n",
    "            while s[r] in charSet:\n",
    "                charSet.remove(s[l])\n",
    "                l +=1\n",
    "            charSet.add(s[r])\n",
    "            res = max(res, r-l +1)\n",
    "        return res"
   ]
  },
  {
   "cell_type": "code",
   "execution_count": 2,
   "id": "e5460bb1-f454-496a-a0df-57f9e87a3c79",
   "metadata": {},
   "outputs": [
    {
     "data": {
      "text/plain": [
       "3"
      ]
     },
     "execution_count": 2,
     "metadata": {},
     "output_type": "execute_result"
    }
   ],
   "source": [
    "class Solution:\n",
    "    def lengthOfLongestSubstring(self, s: str) -> int:\n",
    "        '''\n",
    "        build a string, if we find a conflict then reset our string by removing all chars before the conflict \n",
    "        '''\n",
    "        b = ''\n",
    "        ans = 0\n",
    "        for char in s:\n",
    "            if char in b:\n",
    "                b = b[b.index(char) + 1:] + char\n",
    "            else:\n",
    "                b += char\n",
    "                ans = max(ans, len(b))\n",
    "        \n",
    "        return ans\n",
    "    \n",
    "Solution().lengthOfLongestSubstring(\"pwwkew\")"
   ]
  },
  {
   "cell_type": "code",
   "execution_count": 26,
   "id": "1089cb44-4852-45ee-9ec4-3d756bf006e5",
   "metadata": {},
   "outputs": [
    {
     "name": "stdout",
     "output_type": "stream",
     "text": [
      "else 1\n",
      "{'p': 0}\n",
      "else 2\n",
      "{'p': 0, 'w': 1}\n",
      "if 0\n",
      "2\n",
      "{'p': 0, 'w': 2}\n",
      "else 2\n",
      "{'p': 0, 'w': 2, 'k': 3}\n",
      "else 3\n",
      "{'p': 0, 'w': 2, 'k': 3, 'e': 4}\n",
      "if 2\n",
      "3\n",
      "{'p': 0, 'w': 5, 'k': 3, 'e': 4}\n"
     ]
    },
    {
     "data": {
      "text/plain": [
       "3"
      ]
     },
     "execution_count": 26,
     "metadata": {},
     "output_type": "execute_result"
    }
   ],
   "source": [
    "lengthOfLongestSubstring(\"pwwkew\")"
   ]
  },
  {
   "cell_type": "code",
   "execution_count": null,
   "id": "def51c72-0a3c-4b99-ad4a-a6195fcc085c",
   "metadata": {},
   "outputs": [],
   "source": []
  },
  {
   "cell_type": "code",
   "execution_count": 14,
   "id": "817baf09-e32c-4af0-b8d3-47d0061e89ff",
   "metadata": {},
   "outputs": [
    {
     "data": {
      "text/plain": [
       "1"
      ]
     },
     "execution_count": 14,
     "metadata": {},
     "output_type": "execute_result"
    }
   ],
   "source": [
    "lengthOfLongestSubstring(\"bbbbb\")"
   ]
  },
  {
   "cell_type": "code",
   "execution_count": 15,
   "id": "ac640956-db9a-475a-a8ff-c1b34c05c83b",
   "metadata": {},
   "outputs": [
    {
     "data": {
      "text/plain": [
       "3"
      ]
     },
     "execution_count": 15,
     "metadata": {},
     "output_type": "execute_result"
    }
   ],
   "source": [
    "lengthOfLongestSubstring(\"abcabcbb\")"
   ]
  },
  {
   "cell_type": "code",
   "execution_count": 16,
   "id": "90a41f7a-c28a-4466-90b6-6eef68dc6564",
   "metadata": {},
   "outputs": [
    {
     "data": {
      "text/plain": [
       "3"
      ]
     },
     "execution_count": 16,
     "metadata": {},
     "output_type": "execute_result"
    }
   ],
   "source": [
    "lengthOfLongestSubstring(\"dvdf\")"
   ]
  },
  {
   "cell_type": "markdown",
   "id": "111a9106-e1e2-4b66-85b0-1c325554c53c",
   "metadata": {},
   "source": [
    "#### 3Sum\n",
    "Sum of 3 numbers equal to a target sum 0 in this case\n",
    "\n",
    "For the main function:\n",
    "\n",
    "Sort the input array nums.\n",
    "Iterate through the array:\n",
    "If the current value is greater than zero, break from the loop. Remaining values cannot sum to zero.\n",
    "If the current value is the same as the one before, skip it.\n",
    "Otherwise, call twoSumII for the current position i.\n",
    "For twoSumII function:\n",
    "\n",
    "Set the low pointer lo to i + 1, and high pointer hi to the last index.\n",
    "While low pointer is smaller than high:\n",
    "If sum of nums[i] + nums[lo] + nums[hi] is less than zero, increment lo.\n",
    "If sum is greater than zero, decrement hi.\n",
    "Otherwise, we found a triplet:\n",
    "Add it to the result res.\n",
    "Decrement hi and increment lo.\n",
    "Increment lo while the next value is the same as before to avoid duplicates in the result.\n",
    "Return the result res."
   ]
  },
  {
   "cell_type": "code",
   "execution_count": null,
   "id": "d118d636-9849-43fe-a230-88f32cd00fad",
   "metadata": {},
   "outputs": [],
   "source": [
    "class Solution:\n",
    "    def threeSum(self, nums: List[int]) -> List[List[int]]:\n",
    "        res = []\n",
    "        nums.sort()\n",
    "        for i in range(len(nums)):\n",
    "            if nums[i] > 0:\n",
    "                break\n",
    "            if i == 0 or nums[i - 1] != nums[i]:\n",
    "                self.twoSumII(nums, i, res)\n",
    "        return res\n",
    "\n",
    "    def twoSumII(self, nums: List[int], i: int, res: List[List[int]]):\n",
    "        lo, hi = i + 1, len(nums) - 1\n",
    "        while (lo < hi):\n",
    "            sum = nums[i] + nums[lo] + nums[hi]\n",
    "            if sum < 0:\n",
    "                lo += 1\n",
    "            elif sum > 0:\n",
    "                hi -= 1\n",
    "            else:\n",
    "                res.append([nums[i], nums[lo], nums[hi]])\n",
    "                lo += 1\n",
    "                hi -= 1\n",
    "                while lo < hi and nums[lo] == nums[lo - 1]:\n",
    "                    lo += 1"
   ]
  },
  {
   "attachments": {
    "67c23267-171f-492d-aeed-82d4df1c1055.png": {
     "image/png": "[encoded data removed]"
    }
   },
   "cell_type": "markdown",
   "id": "8490650b-c740-4577-9685-b14fd62ab737",
   "metadata": {},
   "source": [
    "![image.png](attachment:67c23267-171f-492d-aeed-82d4df1c1055.png)"
   ]
  },
  {
   "cell_type": "code",
   "execution_count": null,
   "id": "6d468c42-d1aa-4282-b6af-64bd0ce5954e",
   "metadata": {},
   "outputs": [],
   "source": [
    "class Solution:\n",
    "    def nextPermutation(self, nums: List[int]) -> None:\n",
    "        \"\"\"\n",
    "        Do not return anything, modify nums in-place instead.\n",
    "        \"\"\"\n",
    "        i = len(nums) -1\n",
    "        \n",
    "        while i > 0 and nums[i-1] >= nums[i]:\n",
    "            i -=1\n",
    "            \n",
    "        if i <= 0:\n",
    "            nums[:] = nums[::-1]\n",
    "        else:\n",
    "            j = len(nums)-1\n",
    "\n",
    "            while nums[j] <= nums[i-1]:\n",
    "                j -=1\n",
    "\n",
    "            nums[i-1], nums[j] = nums[j], nums[i-1]\n",
    "\n",
    "            nums[i:] = nums[len(nums)-1: i-1 : -1]\n",
    "        "
   ]
  },
  {
   "cell_type": "code",
   "execution_count": null,
   "id": "67a27a14-c1d7-4e3c-93c1-23183650850f",
   "metadata": {},
   "outputs": [],
   "source": []
  }
 ],
 "metadata": {
  "kernelspec": {
   "display_name": "Python 3 (ipykernel)",
   "language": "python",
   "name": "python3"
  },
  "language_info": {
   "codemirror_mode": {
    "name": "ipython",
    "version": 3
   },
   "file_extension": ".py",
   "mimetype": "text/x-python",
   "name": "python",
   "nbconvert_exporter": "python",
   "pygments_lexer": "ipython3",
   "version": "3.9.12"
  }
 },
 "nbformat": 4,
 "nbformat_minor": 5
}
