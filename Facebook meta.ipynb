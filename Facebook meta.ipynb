{
 "cells": [
  {
   "cell_type": "markdown",
   "id": "03b51468-47b0-4226-8914-40b0df60a481",
   "metadata": {
    "tags": []
   },
   "source": [
    "### Algo"
   ]
  },
  {
   "cell_type": "markdown",
   "id": "528e1d30-a4aa-4afa-8ecd-094229102739",
   "metadata": {
    "jp-MarkdownHeadingCollapsed": true,
    "tags": []
   },
   "source": [
    "#### rotation chipher"
   ]
  },
  {
   "cell_type": "code",
   "execution_count": 9,
   "id": "d8781b01-aa9b-4896-91e6-f62e89d29795",
   "metadata": {},
   "outputs": [],
   "source": [
    "def rotationalCipher(input, rotation_factor):\n",
    "    # Check if the both parameters exists\n",
    "    if not input or not rotation_factor:\n",
    "        return input\n",
    "    \n",
    "    # Create two lists for capital and small alphabets\n",
    "    cap_alpha = [chr(c) for c in range(ord(\"A\"), ord(\"Z\")+1)]\n",
    "    alpha = [chr(c) for c in range(ord(\"a\"), ord(\"z\")+1)]\n",
    "    #print(len(cap_alpha))\n",
    "    # Initiate an empty list\n",
    "    res = []\n",
    "    \n",
    "    # for loop to check all the characters in input\n",
    "    for c in input:\n",
    "        # if charater is not alpha or number\n",
    "        if not c.isalnum():\n",
    "            res.append(c)\n",
    "        # if its an alphabet\n",
    "        elif c.isalpha():\n",
    "            # if for upper case\n",
    "            if c.isupper():\n",
    "                idx = cap_alpha.index(c) + rotation_factor\n",
    "            # there are 26 alphabets in english so if it increases above 25\n",
    "            # starting from 0 remainder will point towards the next alphabet after rotation\n",
    "                if idx > 25:\n",
    "                    idx %= 26\n",
    "                res.append(cap_alpha[idx])\n",
    "            \n",
    "            # if the character is lower case\n",
    "            else:\n",
    "                idx = alpha.index(c) + rotation_factor\n",
    "                if idx > 25:\n",
    "                    idx %= 26\n",
    "                res.append(alpha[idx])\n",
    "        # if the character is a digit\n",
    "        elif c.isdigit():\n",
    "            res.append(str(int(c) + rotation_factor)[-1])\n",
    "    return \"\".join(res)\n",
    "            "
   ]
  },
  {
   "cell_type": "code",
   "execution_count": 10,
   "id": "dcacfc5d-5d19-4220-bf53-680c3c703608",
   "metadata": {},
   "outputs": [
    {
     "data": {
      "text/plain": [
       "'Cheud-726?'"
      ]
     },
     "execution_count": 10,
     "metadata": {},
     "output_type": "execute_result"
    }
   ],
   "source": [
    "rotationalCipher('Zebra-493?', 3)"
   ]
  },
  {
   "cell_type": "code",
   "execution_count": 5,
   "id": "c14a8bd6-0a86-4985-91ae-cb34c5617100",
   "metadata": {},
   "outputs": [],
   "source": [
    "obj = Solution()"
   ]
  },
  {
   "cell_type": "markdown",
   "id": "a178103a-d652-4fa3-bdde-ef69c3405f8d",
   "metadata": {},
   "source": [
    "#### inorder successor\n",
    "    The inorder successor of a particular node is simply the node that comes after this node during the inorder traversal of the tree."
   ]
  },
  {
   "cell_type": "markdown",
   "id": "b51c05dc-885d-412b-98f7-30ae54c5a7a1",
   "metadata": {},
   "source": [
    "#### binary search algorithm"
   ]
  },
  {
   "cell_type": "code",
   "execution_count": 23,
   "id": "58948b7a-91bd-4469-89eb-652e761df86d",
   "metadata": {},
   "outputs": [],
   "source": [
    "def binary_search(target, arr):\n",
    "    low = 0\n",
    "    high = len(arr)-1\n",
    "    while low <= high:\n",
    "        median = (low+high) // 2 # Floored division\n",
    "        if arr[median] < target:\n",
    "            low = median + 1\n",
    "        else:\n",
    "            high = median - 1\n",
    "        \n",
    "        if (low != len(arr)) and (arr[low] == target):\n",
    "            return True\n",
    "    return False"
   ]
  },
  {
   "cell_type": "code",
   "execution_count": 31,
   "id": "39a99006-0af4-4d28-b7c0-a18dd419e7bc",
   "metadata": {},
   "outputs": [
    {
     "data": {
      "text/plain": [
       "True"
      ]
     },
     "execution_count": 31,
     "metadata": {},
     "output_type": "execute_result"
    }
   ],
   "source": [
    "binary_search(19, [i for i in range(20)])"
   ]
  },
  {
   "cell_type": "code",
   "execution_count": 30,
   "id": "97984957-2170-4dbc-b17f-1589e8ac1078",
   "metadata": {},
   "outputs": [
    {
     "data": {
      "text/plain": [
       "[0, 1, 2, 3, 4, 5, 6, 7, 8, 9, 10, 11, 12, 13, 14, 15, 16, 17, 18, 19]"
      ]
     },
     "execution_count": 30,
     "metadata": {},
     "output_type": "execute_result"
    }
   ],
   "source": [
    "[i for i in range(20)]"
   ]
  },
  {
   "cell_type": "markdown",
   "id": "7424a66c-50fa-4449-b7d5-51be6a31597f",
   "metadata": {
    "tags": []
   },
   "source": [
    "#### longest contiguous array of 1's and 0's"
   ]
  },
  {
   "cell_type": "code",
   "execution_count": 34,
   "id": "41f073d6-2afa-443e-85f5-90a01f2dd292",
   "metadata": {},
   "outputs": [],
   "source": [
    "# replace zero with -1\n",
    "# if the add = 0 or \n",
    "# it repeats the value in dictionary \n",
    "# then we have a sub array of pairs of 0's and 1's\n",
    "\n",
    "def findMaxLength(arr):\n",
    "    d = {}\n",
    "    add = l_arr = 0\n",
    "    \n",
    "    for i in range(len(arr)):\n",
    "        if arr[i] == 1:\n",
    "            add += 1\n",
    "        else:\n",
    "            add += -1 # add -1 instead of 0\n",
    "        \n",
    "        if add == 0:\n",
    "            if l_arr < i+1:\n",
    "                l_arr = i+1\n",
    "        elif add in d:\n",
    "            if l_arr < i - d[add]:\n",
    "                l_arr = i - d[add]\n",
    "        else:\n",
    "            d[add] = i\n",
    "    return l_arr"
   ]
  },
  {
   "cell_type": "code",
   "execution_count": 43,
   "id": "bba3c178-7b31-4d38-a8c5-fddc691f3262",
   "metadata": {},
   "outputs": [
    {
     "data": {
      "text/plain": [
       "26"
      ]
     },
     "execution_count": 43,
     "metadata": {},
     "output_type": "execute_result"
    }
   ],
   "source": [
    "z = [1,1,0,0,1,1,0,1,0,0,1,0,1,0,1,0,1,1,1,1,1,1,1,0,0,0,0,0]\n",
    "findMaxLength(z)"
   ]
  },
  {
   "cell_type": "code",
   "execution_count": 44,
   "id": "2a08f2fc-bc0d-483c-8d2a-61ee6854165d",
   "metadata": {},
   "outputs": [
    {
     "data": {
      "text/plain": [
       "28"
      ]
     },
     "execution_count": 44,
     "metadata": {},
     "output_type": "execute_result"
    }
   ],
   "source": [
    "len(z)"
   ]
  },
  {
   "cell_type": "code",
   "execution_count": 46,
   "id": "580c9414-182e-4dec-a617-1b89bce31cc0",
   "metadata": {},
   "outputs": [
    {
     "data": {
      "text/plain": [
       "['11', '1']"
      ]
     },
     "execution_count": 46,
     "metadata": {},
     "output_type": "execute_result"
    }
   ],
   "source": [
    "\"1101\".split(\"0\")"
   ]
  },
  {
   "cell_type": "markdown",
   "id": "c0ee7950-6132-47da-9cb9-dbac8c6d8c24",
   "metadata": {
    "tags": []
   },
   "source": [
    "#### Contiguous array\n",
    "\n",
    "##### You are given an array arr of N integers. For each index i, you are required to determine the number of contiguous subarrays that fulfill the following conditions:\n",
    "    The value at index i must be the maximum element in the contiguous subarrays, and\n",
    "    These contiguous subarrays must either start from or end on index i.\n",
    "    Signature\n",
    "    int[] countSubarrays(int[] arr)\n",
    "    Input\n",
    "    Array arr is a non-empty list of unique integers that range between 1 to 1,000,000,000\n",
    "    Size N is between 1 and 1,000,000\n",
    "    Output\n",
    "    An array where each index i contains an integer denoting the maximum number of contiguous subarrays of arr[i]\n",
    "    Example:\n",
    "    arr = [3, 4, 1, 6, 2]\n",
    "    output = [1, 3, 1, 5, 1]\n",
    "    Explanation:\n",
    "    For index 0 - [3] is the only contiguous subarray that starts (or ends) with 3, and the maximum value in this subarray is 3.\n",
    "    For index 1 - [4], [3, 4], [4, 1]\n",
    "    For index 2 - [1]\n",
    "    For index 3 - [6], [6, 2], [1, 6], [4, 1, 6], [3, 4, 1, 6]\n",
    "    For index 4 - [2]\n",
    "    So, the answer for the above input is [1, 3, 1, 5, 1]"
   ]
  },
  {
   "cell_type": "code",
   "execution_count": 54,
   "id": "cf4a8c62-88b1-48ba-a417-40421ca6515b",
   "metadata": {},
   "outputs": [],
   "source": [
    "def count_subarrays(arr):\n",
    "    \n",
    "    res = []\n",
    "    # Write your code here  \n",
    "    for i, n in enumerate(arr):\n",
    "        \n",
    "        # every index is a list in itself of len() = 1\n",
    "        count = 0\n",
    "        \n",
    "        # index to right\n",
    "        x = i\n",
    "        while x < len(arr)-1:\n",
    "            if n > arr[x+1]:\n",
    "                count +=1\n",
    "                x +=1\n",
    "            else:\n",
    "                x = len(arr)\n",
    "            \n",
    "        x = i\n",
    "        # index to left\n",
    "        while x > 0:\n",
    "            if n > arr[x-1]:\n",
    "                count +=1\n",
    "                x -=1\n",
    "            else:\n",
    "                x=-1\n",
    "            \n",
    "        \n",
    "        res.append(count+1)\n",
    "    return res"
   ]
  },
  {
   "cell_type": "code",
   "execution_count": 55,
   "id": "cb79877e-ba55-432e-a361-226e6209f982",
   "metadata": {},
   "outputs": [
    {
     "data": {
      "text/plain": [
       "[1, 3, 1, 5, 1]"
      ]
     },
     "execution_count": 55,
     "metadata": {},
     "output_type": "execute_result"
    }
   ],
   "source": [
    "arr = [3, 4, 1, 6, 2]\n",
    "count_subarrays(arr)"
   ]
  },
  {
   "cell_type": "code",
   "execution_count": 81,
   "id": "76681971-a9cb-406d-8f66-f3c110fcbee8",
   "metadata": {},
   "outputs": [
    {
     "data": {
      "text/plain": [
       "[0, 1, 2, 3, 4]"
      ]
     },
     "execution_count": 81,
     "metadata": {},
     "output_type": "execute_result"
    }
   ],
   "source": [
    "[i for i in range(0,5)]"
   ]
  },
  {
   "cell_type": "code",
   "execution_count": 69,
   "id": "9a37a95b-6a4a-4599-8cae-5b684233c86e",
   "metadata": {},
   "outputs": [
    {
     "data": {
      "text/plain": [
       "[0]"
      ]
     },
     "execution_count": 69,
     "metadata": {},
     "output_type": "execute_result"
    }
   ],
   "source": [
    "[i for i in range(0,-1,-1)]"
   ]
  },
  {
   "cell_type": "markdown",
   "id": "84620b17-6db6-4b3d-9aa8-5a3aec8f596b",
   "metadata": {
    "tags": []
   },
   "source": [
    "#### Pair sums\n",
    "    Given a list of n integers arr[0..(n-1)], determine the number of different pairs of elements within it which sum to k.\n",
    "    If an integer appears in the list multiple times, each copy is considered to be different; that is, two pairs are considered different if one pair includes at least one array index which the other doesn't, even if they include the same values.\n",
    "    Signature\n",
    "    int numberOfWays(int[] arr, int k)\n",
    "    Input\n",
    "    n is in the range [1, 100,000].\n",
    "    Each value arr[i] is in the range [1, 1,000,000,000].\n",
    "    k is in the range [1, 1,000,000,000].\n",
    "    Output\n",
    "    Return the number of different pairs of elements which sum to k.\n",
    "    Example 1\n",
    "    n = 5\n",
    "    k = 6\n",
    "    arr = [1, 2, 3, 4, 3]\n",
    "    output = 2\n",
    "    The valid pairs are 2+4 and 3+3.\n",
    "    Example 2\n",
    "    n = 5\n",
    "    k = 6\n",
    "    arr = [1, 5, 3, 3, 3]\n",
    "    output = 4\n",
    "    There's one valid pair 1+5, and three different valid pairs 3+3 (the 3rd and 4th elements, 3rd and 5th elements, and 4th and 5th elements)"
   ]
  },
  {
   "cell_type": "code",
   "execution_count": 102,
   "id": "3e4b61c7-e2b0-4873-b6df-7ae695cc393f",
   "metadata": {},
   "outputs": [],
   "source": [
    "def numberOfWays(arr, k):\n",
    "    count = 0\n",
    "    # Write your code here\n",
    "    for i, n in enumerate(arr):\n",
    "        x = i\n",
    "        while x < len(arr)-1:\n",
    "            if n + arr[x+1] == k:\n",
    "                count +=1\n",
    "            x +=1\n",
    "    return count\n"
   ]
  },
  {
   "cell_type": "code",
   "execution_count": 104,
   "id": "4a85b41b-e194-4b01-adab-14abe43008b0",
   "metadata": {},
   "outputs": [
    {
     "data": {
      "text/plain": [
       "4"
      ]
     },
     "execution_count": 104,
     "metadata": {},
     "output_type": "execute_result"
    }
   ],
   "source": [
    "arr = arr = [1, 5, 3, 3, 3]\n",
    "k = 6\n",
    "numberOfWays(arr, k)"
   ]
  },
  {
   "cell_type": "code",
   "execution_count": 105,
   "id": "f0bebb42-22cf-4f0c-95d1-8689569c804a",
   "metadata": {},
   "outputs": [
    {
     "data": {
      "text/plain": [
       "2"
      ]
     },
     "execution_count": 105,
     "metadata": {},
     "output_type": "execute_result"
    }
   ],
   "source": [
    "arr = [1, 2, 3, 4, 3]\n",
    "k = 6\n",
    "\n",
    "numberOfWays(arr, k)"
   ]
  },
  {
   "cell_type": "code",
   "execution_count": 106,
   "id": "c074e21b-64ff-499b-a392-0f459173c509",
   "metadata": {},
   "outputs": [],
   "source": [
    "l = [i for i in range(0,5)]"
   ]
  },
  {
   "cell_type": "code",
   "execution_count": 109,
   "id": "aac1e5af-34ec-4226-ad08-e88ddc8ab7d3",
   "metadata": {},
   "outputs": [
    {
     "data": {
      "text/plain": [
       "[0, 1, 2, 3, 4]"
      ]
     },
     "execution_count": 109,
     "metadata": {},
     "output_type": "execute_result"
    }
   ],
   "source": [
    "l"
   ]
  },
  {
   "cell_type": "code",
   "execution_count": 114,
   "id": "c1d67997-b924-42d1-a73d-a7a366c5c917",
   "metadata": {},
   "outputs": [
    {
     "data": {
      "text/plain": [
       "[0, 1, 2, 3]"
      ]
     },
     "execution_count": 114,
     "metadata": {},
     "output_type": "execute_result"
    }
   ],
   "source": [
    "l[:-1]"
   ]
  },
  {
   "cell_type": "code",
   "execution_count": 117,
   "id": "aeabdbc8-30ea-48c2-bce7-c5ceecac560b",
   "metadata": {},
   "outputs": [],
   "source": [
    "def are_they_equal(array_a, array_b):\n",
    "  # Write your code here\n",
    "  if sorted(array_a) == sorted(array_b):\n",
    "    return True\n",
    "  else:\n",
    "    return False"
   ]
  },
  {
   "cell_type": "code",
   "execution_count": 118,
   "id": "64cf6097-0627-4ee0-84da-2675a6afc17d",
   "metadata": {},
   "outputs": [
    {
     "data": {
      "text/plain": [
       "True"
      ]
     },
     "execution_count": 118,
     "metadata": {},
     "output_type": "execute_result"
    }
   ],
   "source": [
    "a_1 = [1, 2, 3, 4]\n",
    "b_1 = [1, 4, 3, 2]\n",
    "are_they_equal(a_1, b_1)"
   ]
  },
  {
   "cell_type": "code",
   "execution_count": 120,
   "id": "a9323b8d-9280-49d1-9afc-8ab1e20e30d0",
   "metadata": {},
   "outputs": [
    {
     "data": {
      "text/plain": [
       "False"
      ]
     },
     "execution_count": 120,
     "metadata": {},
     "output_type": "execute_result"
    }
   ],
   "source": [
    "a_1 == b_1"
   ]
  },
  {
   "cell_type": "code",
   "execution_count": 119,
   "id": "a32ea825-ca21-4627-88e5-21e64dde3385",
   "metadata": {},
   "outputs": [
    {
     "data": {
      "text/plain": [
       "False"
      ]
     },
     "execution_count": 119,
     "metadata": {},
     "output_type": "execute_result"
    }
   ],
   "source": [
    "a_2 = [1, 2, 3, 4]\n",
    "b_2 = [1, 2, 3, 5]  \n",
    "are_they_equal(a_2, b_2)"
   ]
  },
  {
   "cell_type": "code",
   "execution_count": 121,
   "id": "8c7e40d2-fd78-4f36-beb0-b80165f242e4",
   "metadata": {},
   "outputs": [
    {
     "data": {
      "text/plain": [
       "False"
      ]
     },
     "execution_count": 121,
     "metadata": {},
     "output_type": "execute_result"
    }
   ],
   "source": [
    "a_2 == b_2"
   ]
  },
  {
   "cell_type": "markdown",
   "id": "d52e57a4-b4f6-4ea0-80a5-e624b183268d",
   "metadata": {},
   "source": [
    "#### Sliding window"
   ]
  },
  {
   "cell_type": "code",
   "execution_count": 35,
   "id": "20eeb2ef-cb5c-48e9-a664-44bdce4ecd3b",
   "metadata": {},
   "outputs": [
    {
     "data": {
      "text/plain": [
       "6"
      ]
     },
     "execution_count": 35,
     "metadata": {},
     "output_type": "execute_result"
    }
   ],
   "source": [
    "# longest non-repeating substring\n",
    "def substring(s) -> int:\n",
    "    charSet = set()\n",
    "    l = 0\n",
    "    res = 0\n",
    "    \n",
    "    for r in range(len(s)):\n",
    "        while s[r] in charSet:\n",
    "            charSet.remove(s[l])\n",
    "            l +=1\n",
    "        charSet.add(s[r])\n",
    "        res = max(res, r-l +1)\n",
    "    return res\n",
    "substring(\"aaabbsawefbbs\")"
   ]
  },
  {
   "cell_type": "code",
   "execution_count": null,
   "id": "a6ef985b-1d83-4e1d-b127-8108e86dbd7e",
   "metadata": {},
   "outputs": [],
   "source": [
    "# smallest substring with all characters\n",
    "\n",
    "def minWindow(s: str, t: str) -> str:\n",
    "    "
   ]
  },
  {
   "cell_type": "code",
   "execution_count": null,
   "id": "b81900aa-88a2-47a6-b77f-43148377d4ed",
   "metadata": {},
   "outputs": [],
   "source": [
    "def letterCombinations(self, digits: str) -> List[str]:\n",
    "        lookup = {\n",
    "            \"2\": [\"a\", \"b\", \"c\"],\n",
    "            \"3\": [\"d\", \"e\", \"f\"],\n",
    "            \"4\": [\"g\", \"h\", \"i\"],\n",
    "            \"5\": [\"j\", \"k\", \"l\"],\n",
    "            \"6\": [\"m\", \"n\", \"o\"],\n",
    "            \"7\": [\"p\", \"q\", \"r\", \"s\"],\n",
    "            \"8\": [\"t\", \"u\", \"v\"],\n",
    "            \"9\": [\"w\", \"x\", \"y\", \"z\"]\n",
    "        }\n",
    "        \n",
    "        letter_lists = []\n",
    "        for ch in digits:\n",
    "            letter_lists.append(lookup[ch])\n",
    "            \n",
    "        while len(letter_lists) > 1:\n",
    "            l1 = letter_lists.pop()\n",
    "            l2 = letter_lists.pop()\n",
    "            combos = []\n",
    "            for i in l1:\n",
    "                for j in l2:\n",
    "                    combos.append(j + i)\n",
    "            letter_lists.append(combos)\n",
    "        #print(letter_lists)\n",
    "        return [] if not letter_lists else letter_lists[0]"
   ]
  },
  {
   "cell_type": "code",
   "execution_count": 1,
   "id": "374fa6e8-df59-439a-8f80-986249684cfc",
   "metadata": {},
   "outputs": [],
   "source": [
    "fruits = ['orange', 'apple', 'pear', 'banana', 'kiwi', 'apple', 'banana']"
   ]
  },
  {
   "cell_type": "code",
   "execution_count": 4,
   "id": "d2e5c234-62d6-43b8-962e-20a1eb7b7da8",
   "metadata": {},
   "outputs": [
    {
     "data": {
      "text/plain": [
       "6"
      ]
     },
     "execution_count": 4,
     "metadata": {},
     "output_type": "execute_result"
    }
   ],
   "source": [
    "fruits.index('banana', 4)"
   ]
  },
  {
   "cell_type": "code",
   "execution_count": 5,
   "id": "bdf4fd24-bdd7-4f84-8176-5e95ee5efbfa",
   "metadata": {},
   "outputs": [
    {
     "data": {
      "text/plain": [
       "2"
      ]
     },
     "execution_count": 5,
     "metadata": {},
     "output_type": "execute_result"
    }
   ],
   "source": [
    "fruits.count('banana')"
   ]
  },
  {
   "cell_type": "markdown",
   "id": "357a06f8-0130-46e0-9e55-8db6976dff99",
   "metadata": {},
   "source": [
    "#### Valid Parentheses\n",
    "    Given a string s containing just the characters '(', ')', '{', '}', '[' and ']', determine if the input string is valid.\n",
    "\n",
    "    An input string is valid if:\n",
    "\n",
    "    Open brackets must be closed by the same type of brackets.\n",
    "    Open brackets must be closed in the correct order.\n"
   ]
  },
  {
   "cell_type": "code",
   "execution_count": null,
   "id": "1daa062d-5cf6-4dd0-83c7-75ef68e21996",
   "metadata": {},
   "outputs": [],
   "source": [
    "def isValid(s: str) -> bool:\n",
    "        while \"()\" in s or \"[]\" in s or \"{}\" in s:\n",
    "            s=s.replace(\"()\",\"\").replace(\"[]\",\"\").replace(\"{}\",\"\")\n",
    "        return s==''\n",
    "\n",
    "def isValid(s: str) -> bool:\n",
    "        stack=[]\n",
    "        dct={\"}\":\"{\",\"]\":\"[\",\")\":\"(\"}\n",
    "        \n",
    "        for i in s:\n",
    "            # look for only the closing brackes in dct keys\n",
    "            if i in dct:\n",
    "                if stack and stack[-1]==dct[i]:\n",
    "                    stack.pop()\n",
    "                else:\n",
    "                    # more closing brackets exist in stack\n",
    "                    return False\n",
    "            else:\n",
    "                # appending the stack\n",
    "                stack.append(i)\n",
    "        return stack==[]"
   ]
  },
  {
   "cell_type": "markdown",
   "id": "d3112074-7ad1-4102-8d9b-379f297705f0",
   "metadata": {
    "jp-MarkdownHeadingCollapsed": true,
    "tags": []
   },
   "source": [
    "### Linked list\n",
    "\n",
    "#### Floyd’s Cycle Detection Algorithm"
   ]
  },
  {
   "cell_type": "code",
   "execution_count": 7,
   "id": "4d42eb97-2963-47f6-9ec0-b0a7fd54c196",
   "metadata": {},
   "outputs": [],
   "source": [
    "class ListNode:\n",
    "    def __init__(self, x):    \n",
    "        self.val = x\n",
    "        self.next = None"
   ]
  },
  {
   "cell_type": "code",
   "execution_count": 8,
   "id": "7f460328-15c2-48e6-a6dc-0a2c0a7413c6",
   "metadata": {},
   "outputs": [],
   "source": [
    "# Definition for singly-linked list.\n",
    "# class ListNode:\n",
    "#     def __init__(self, x):\n",
    "#         self.val = x\n",
    "#         self.next = None\n",
    "\n",
    "def hasCycle(self, head: ListNode) -> bool:\n",
    "        if head is None:\n",
    "            return False\n",
    "        slow = head\n",
    "        fast = head.next\n",
    "        while slow != fast:\n",
    "            if fast is None or fast.next is None:\n",
    "                return False\n",
    "            slow = slow.next\n",
    "            fast = fast.next.next\n",
    "        return True"
   ]
  },
  {
   "cell_type": "code",
   "execution_count": 9,
   "id": "4e5a0a88-c25e-4402-ae49-1b4328d26ba9",
   "metadata": {},
   "outputs": [],
   "source": [
    "# Definition for singly-linked list.\n",
    "# class ListNode:\n",
    "#     def __init__(self, x):\n",
    "#         self.val = x\n",
    "#         self.next = None\n",
    "\n",
    "class Solution:\n",
    "    def getIntersect(self, head):\n",
    "        tortoise = head\n",
    "        hare = head\n",
    "\n",
    "        # A fast pointer will either loop around a cycle and meet the slow\n",
    "        # pointer or reach the `null` at the end of a non-cyclic list.\n",
    "        while hare is not None and hare.next is not None:\n",
    "            tortoise = tortoise.next\n",
    "            hare = hare.next.next\n",
    "            if tortoise == hare:\n",
    "                return tortoise\n",
    "\n",
    "        return None\n",
    "\n",
    "    def detectCycle(self, head):\n",
    "        if head is None:\n",
    "            return None\n",
    "\n",
    "        # If there is a cycle, the fast/slow pointers will intersect at some\n",
    "        # node. Otherwise, there is no cycle, so we cannot find an entrance to\n",
    "        # a cycle.\n",
    "        intersect = self.getIntersect(head)\n",
    "        if intersect is None:\n",
    "            return None\n",
    "\n",
    "        # To find the entrance to the cycle, we have two pointers traverse at\n",
    "        # the same speed -- one from the front of the list, and the other from\n",
    "        # the point of intersection.\n",
    "        ptr1 = head\n",
    "        ptr2 = intersect\n",
    "        while ptr1 != ptr2:\n",
    "            ptr1 = ptr1.next\n",
    "            ptr2 = ptr2.next\n",
    "\n",
    "        return ptr1\n"
   ]
  },
  {
   "cell_type": "code",
   "execution_count": 14,
   "id": "56300c61-9841-4533-aeae-a3bcf475d567",
   "metadata": {},
   "outputs": [],
   "source": [
    "def removeNthFromEnd(self, head: ListNode, n: int) -> ListNode:\n",
    "        length = 0\n",
    "        node = head\n",
    "        \n",
    "        while node != None:\n",
    "            node = node.next\n",
    "            length +=1\n",
    "            \n",
    "        if length == n:\n",
    "            return head.next\n",
    "        \n",
    "        nBefore = length - n -1\n",
    "        node = head\n",
    "        \n",
    "        for i in range (nBefore):\n",
    "            node = node.next\n",
    "        \n",
    "        # node.next updates the address pointer\n",
    "        node.next = node.next.next\n",
    "        \n",
    "        return head"
   ]
  },
  {
   "cell_type": "code",
   "execution_count": 15,
   "id": "a3521533-6a80-4b46-9678-25afbd581d39",
   "metadata": {},
   "outputs": [],
   "source": [
    "def reversellist(head: ListNode):\n",
    "    prev = None\n",
    "    cur = head\n",
    "    \n",
    "    while cur:\n",
    "        n = cur.next\n",
    "        cur.next = prev\n",
    "        prev = cur\n",
    "        cur = n\n",
    "        \n",
    "    return head"
   ]
  },
  {
   "cell_type": "code",
   "execution_count": 16,
   "id": "29cb4844-ed0b-4970-aa96-b5261f55db94",
   "metadata": {},
   "outputs": [],
   "source": [
    "def removeElements(self, head: ListNode, val: int) -> ListNode:\n",
    "        sentinel = ListNode(0)\n",
    "        sentinel.next = head\n",
    "        \n",
    "        prev, curr = sentinel, head\n",
    "        while curr:\n",
    "            if curr.val == val:\n",
    "                prev.next = curr.next\n",
    "            else:\n",
    "                prev = curr\n",
    "            curr = curr.next\n",
    "        \n",
    "        return sentinel.next"
   ]
  },
  {
   "cell_type": "code",
   "execution_count": 18,
   "id": "d16d200e-3b6d-4343-bcd6-bc19700cf280",
   "metadata": {},
   "outputs": [],
   "source": [
    "def oddEvenList(self, head: ListNode) -> ListNode:\n",
    "        if head is None:\n",
    "             return None\n",
    "        odd = head\n",
    "        even = head.next\n",
    "        evenHead = even\n",
    "        \n",
    "        while even != None and even.next != None:\n",
    "            odd.next = even.next\n",
    "            odd = odd.next\n",
    "            even.next = odd.next\n",
    "            even = even.next\n",
    "            \n",
    "        odd.next = evenHead\n",
    "        return head"
   ]
  },
  {
   "cell_type": "code",
   "execution_count": 19,
   "id": "1e279cfb-04e1-4dd1-8d59-6982f2557c7d",
   "metadata": {},
   "outputs": [],
   "source": [
    "def isPalindrome(self, head: ListNode) -> bool:\n",
    "        vals = []\n",
    "        current_node = head\n",
    "        while current_node is not None:\n",
    "            vals.append(current_node.val)\n",
    "            current_node = current_node.next\n",
    "        return vals == vals[::-1]"
   ]
  },
  {
   "cell_type": "markdown",
   "id": "c585506f-cfe4-4a16-9df5-dc67b986d727",
   "metadata": {
    "tags": []
   },
   "source": [
    "#### double linked list"
   ]
  },
  {
   "cell_type": "code",
   "execution_count": 20,
   "id": "1825c2b0-b91f-4b80-8589-43ac31dfcb31",
   "metadata": {},
   "outputs": [],
   "source": [
    "def mergeTwoLists(self, l1, l2):\n",
    "        # maintain an unchanging reference to node ahead of the return node.\n",
    "        prehead = ListNode(-1)\n",
    "\n",
    "        prev = prehead\n",
    "        while l1 and l2:\n",
    "            if l1.val <= l2.val:\n",
    "                prev.next = l1\n",
    "                l1 = l1.next\n",
    "            else:\n",
    "                prev.next = l2\n",
    "                l2 = l2.next            \n",
    "            prev = prev.next\n",
    "\n",
    "        # At least one of l1 and l2 can still have nodes at this point, so connect\n",
    "        # the non-null list to the end of the merged list.\n",
    "        prev.next = l1 if l1 is not None else l2\n",
    "\n",
    "        return prehead.next"
   ]
  },
  {
   "cell_type": "code",
   "execution_count": 21,
   "id": "a916c40d-abc7-4bc4-a74d-aea4266eec25",
   "metadata": {},
   "outputs": [],
   "source": [
    "# Merge Two Sorted Lists by recursion\n",
    "def mergeTwoLists(self, l1, l2):\n",
    "        if l1 is None:\n",
    "            return l2\n",
    "        elif l2 is None:\n",
    "            return l1\n",
    "        elif l1.val < l2.val:\n",
    "            l1.next = self.mergeTwoLists(l1.next, l2)\n",
    "            return l1\n",
    "        else:\n",
    "            l2.next = self.mergeTwoLists(l1, l2.next)\n",
    "            return l2\n",
    "        "
   ]
  },
  {
   "cell_type": "markdown",
   "id": "c1f42c89-f2eb-434b-8a50-e82d557c2c50",
   "metadata": {},
   "source": [
    "#### Stack and queue"
   ]
  },
  {
   "cell_type": "markdown",
   "id": "e6fc9c9b-ed6c-4648-9679-db7340e203e6",
   "metadata": {},
   "source": [
    "Given an array of integers temperatures represents the daily temperatures, return an array answer such that answer[i] is the number of days you have to wait after the ith day to get a warmer temperature. If there is no future day for which this is possible, keep answer[i] == 0 instead.\n",
    "\n",
    " \n",
    "\n",
    "Example 1:\n",
    "\n",
    "Input: temperatures = [73,74,75,71,69,72,76,73]\n",
    "\n",
    "Output: [1,1,4,2,1,1,0,0]\n"
   ]
  },
  {
   "cell_type": "code",
   "execution_count": null,
   "id": "fe4a34c8-d2ea-4510-a262-34b7232c4f89",
   "metadata": {},
   "outputs": [],
   "source": [
    "class Solution:\n",
    "    def dailyTemperatures(self, T):\n",
    "        ans = [0] * len(T)\n",
    "        stack = []\n",
    "        for i, t in enumerate(T):\n",
    "            while stack and T[stack[-1]] < t:\n",
    "                cur = stack.pop()\n",
    "                ans[cur] = i - cur\n",
    "            stack.append(i)\n",
    "            print(i,\" -------------\")\n",
    "        return ans\n"
   ]
  },
  {
   "cell_type": "markdown",
   "id": "660a4c70-d594-45f2-9318-af588857653b",
   "metadata": {},
   "source": [
    "Evaluate the value of an arithmetic expression in Reverse Polish Notation.\n",
    "\n",
    "Valid operators are +, -, *, and /. Each operand may be an integer or another expression.\n",
    "\n",
    "Note that division between two integers should truncate toward zero.\n",
    "\n",
    "It is guaranteed that the given RPN expression is always valid. That means the expression would always evaluate to a result, and there will not be any division by zero operation."
   ]
  },
  {
   "cell_type": "code",
   "execution_count": null,
   "id": "6cd5a63e-af23-4c02-bd54-fd4b95487ca2",
   "metadata": {},
   "outputs": [],
   "source": [
    "def evalRPN(self, tokens: List[str]) -> int:\n",
    "\n",
    "        operations = {\n",
    "            \"+\": lambda a, b: a + b,\n",
    "            \"-\": lambda a, b: a - b,\n",
    "            \"/\": lambda a, b: int(a / b),\n",
    "            \"*\": lambda a, b: a * b\n",
    "        }\n",
    "        \n",
    "        current_position = 0\n",
    "        \n",
    "        while len(tokens) > 1:\n",
    "            \n",
    "            # Move the current position pointer to the next operator.\n",
    "            while tokens[current_position] not in \"+-*/\":\n",
    "                current_position += 1\n",
    "        \n",
    "            # Extract the operator and numbers from the list.\n",
    "            operator = tokens[current_position]\n",
    "            number_1 = int(tokens[current_position - 2])\n",
    "            number_2 = int(tokens[current_position - 1])\n",
    "            \n",
    "            # Calculate the result to overwrite the operator with.\n",
    "            operation = operations[operator]\n",
    "            tokens[current_position] = operation(number_1, number_2)\n",
    "            \n",
    "            # Remove the numbers and move the pointer to the position\n",
    "            # after the new number we just added.\n",
    "            tokens.pop(current_position - 2)\n",
    "            tokens.pop(current_position - 2)\n",
    "            current_position -= 1\n",
    "        \n",
    "        return tokens[0]\n"
   ]
  },
  {
   "cell_type": "code",
   "execution_count": null,
   "id": "a1293394-7f63-4c19-850d-fa7bcf393c1f",
   "metadata": {},
   "outputs": [],
   "source": []
  },
  {
   "cell_type": "markdown",
   "id": "7dac6092-33f2-4d74-8547-03e9013a9d63",
   "metadata": {
    "jp-MarkdownHeadingCollapsed": true,
    "tags": []
   },
   "source": [
    "### Binary tree algorithms"
   ]
  },
  {
   "cell_type": "markdown",
   "id": "3d1530ae-6058-4ced-8133-741b82c96be5",
   "metadata": {
    "tags": []
   },
   "source": [
    "#### Binary search tree"
   ]
  },
  {
   "cell_type": "code",
   "execution_count": 1,
   "id": "0f4362d6-2446-4baf-817c-4d19c2e732fc",
   "metadata": {},
   "outputs": [],
   "source": [
    "class TreeNode:\n",
    "    \n",
    "    def __init__(self, x):\n",
    "        \n",
    "        self.val = x\n",
    "        self.left = None\n",
    "        self.right = None\n",
    "# check if the tree is a valid BST\n",
    "import math\n",
    "class Solution:\n",
    "    def isValidBST(self, root : TreeNode) -> bool:\n",
    "        def validate(node, low = -math.inf, high = math.inf):\n",
    "            # Empty trees are valid BST\n",
    "            if not node:\n",
    "                return True\n",
    "            # The current node's value must be between low and high\n",
    "            if node.val <= low or node.val >= high:\n",
    "                return False\n",
    "            \n",
    "            # The left and right subtree must also be valid:\n",
    "            return (validate(node.left, low, node.val) and validate(node.right, node.val, high))\n",
    "        \n",
    "        return validate(root)"
   ]
  },
  {
   "cell_type": "code",
   "execution_count": 6,
   "id": "2e591558-1852-40aa-8c13-3cfc896b8f46",
   "metadata": {},
   "outputs": [],
   "source": [
    "# define the node class\n",
    "\n",
    "class TreeNode:\n",
    "    def __init__(self, x):    \n",
    "        self.data = x\n",
    "        self.left = None\n",
    "        self.right = None"
   ]
  },
  {
   "cell_type": "markdown",
   "id": "29d467e9-a4c3-45c5-af7a-1541d90ac3fb",
   "metadata": {
    "tags": []
   },
   "source": [
    "#### depth of tree"
   ]
  },
  {
   "cell_type": "code",
   "execution_count": null,
   "id": "eb176269-aee3-49bf-8b50-e56d652b4eb5",
   "metadata": {},
   "outputs": [],
   "source": [
    "def topBottommaxDepth(root: TreeNode) -> int:\n",
    "    #res = 0\n",
    "    if root == None:\n",
    "        return 0\n",
    "    left = maxDepth(root.left)\n",
    "    right = maxDepth(root.right)\n",
    "\n",
    "    return max(left, right) + 1"
   ]
  },
  {
   "cell_type": "markdown",
   "id": "ab276bf4-2e29-4acd-8fd1-3b37cdfb151b",
   "metadata": {
    "tags": []
   },
   "source": [
    "#### symmetric trees are mirror images of the left and right "
   ]
  },
  {
   "cell_type": "code",
   "execution_count": 16,
   "id": "240909f0-5f23-41f5-99a0-7db7833e4fa3",
   "metadata": {},
   "outputs": [],
   "source": [
    "def isSymmetric(self, root: TreeNode) -> bool:\n",
    "    \n",
    "    def isMirror(t1: TreeNode, t2: TreeNode):\n",
    "        \n",
    "        if t1 == None and t2 == None:\n",
    "            return True\n",
    "        if t1 == None or t2 == None:\n",
    "            return False\n",
    "        return t1.val == t2.val and isMirror(t1.right, t2.left) and isMirror(t1.left, t2.right)\n",
    "    return isMirror(root, root)"
   ]
  },
  {
   "cell_type": "markdown",
   "id": "4a110f60-8a18-4147-a084-199a6050513c",
   "metadata": {
    "tags": []
   },
   "source": [
    "#### Given the root of a binary tree and an integer targetSum,\n",
    "#### return true if the tree has a root-to-leaf path such that adding up all the values along the path equals targetSum"
   ]
  },
  {
   "cell_type": "code",
   "execution_count": null,
   "id": "40b097e0-e449-407c-bb61-33374438e000",
   "metadata": {},
   "outputs": [],
   "source": [
    "def hasPathSum(self, root, sum):\n",
    "    if not root:\n",
    "        return False\n",
    "\n",
    "    sum -= root.val\n",
    "    if not root.left and not root.right:  # if reach a leaf\n",
    "        return sum == 0\n",
    "    return self.hasPathSum(root.left, sum) or self.hasPathSum(root.right, sum)"
   ]
  },
  {
   "cell_type": "code",
   "execution_count": null,
   "id": "2b3c8c9c-7596-457f-bfd2-c74c9d633fe9",
   "metadata": {},
   "outputs": [],
   "source": []
  },
  {
   "cell_type": "code",
   "execution_count": null,
   "id": "f729e6c5-b257-4f53-9fcc-90d8fdebbd09",
   "metadata": {},
   "outputs": [],
   "source": [
    "res = 0\n",
    "def bottomUPmaxDepth(root: TreeNode, depth: int) -> int:\n",
    "    \n",
    "    if root == None:\n",
    "        return 0\n",
    "    if root.left == None and root.right == None:\n",
    "        res = max(res, depth)\n",
    "    bottomUPmaxDepth(root.left, depth+1)\n",
    "    bottomUPmaxDepth(root.right, depth+1)\n",
    "    return res"
   ]
  },
  {
   "cell_type": "markdown",
   "id": "6918e68e-4c31-4bd6-82d0-70ffa3dbf0cf",
   "metadata": {
    "tags": []
   },
   "source": [
    "#### BFS breadth first search ---- we use queue\n",
    "##### Level order traversal\n",
    "\n",
    "#### DFS depth first search ---- we use stack\n",
    "##### pre-order traversal, in-order traversal and post-order traversal"
   ]
  },
  {
   "cell_type": "code",
   "execution_count": 7,
   "id": "e8aae08a-7b96-4f4d-9bec-8a8153b08930",
   "metadata": {},
   "outputs": [],
   "source": [
    "# Level order traversal\n",
    "def levelOrder(self, root: TreeNode) -> [int]:\n",
    "        if root == None:\n",
    "            return []\n",
    "        op_list = []\n",
    "        queue = [root] # contains all nodes\n",
    "        \n",
    "        while queue:\n",
    "            level_len = len(queue)\n",
    "            #print(len(queue))\n",
    "            temp_list = [] # temporary list to store all the level nodes\n",
    "            for i in range(level_len):\n",
    "                node = queue.pop(0) # remove nodes from left\n",
    "                temp_list.append(node.val) # append node value for each level\n",
    "                # keeps a check on the next level nodes\n",
    "                if node.left:\n",
    "                    queue.append(node.left) # append que to check for children\n",
    "                if node.right:\n",
    "                    queue.append(node.right)\n",
    "            op_list.append(temp_list)\n",
    "        return op_list"
   ]
  },
  {
   "cell_type": "code",
   "execution_count": 9,
   "id": "2fccd0ea-45cc-419a-84e4-58b3613e5c69",
   "metadata": {},
   "outputs": [],
   "source": [
    "# Python program to for tree traversals\n",
    " \n",
    "# A class that represents an individual node in a\n",
    "# Binary Tree\n",
    " \n",
    "\n",
    "class Node:\n",
    "    def __init__(self, key):\n",
    "        self.left = None\n",
    "        self.right = None\n",
    "        self.val = key\n",
    " \n",
    " \n",
    "# A function to do inorder tree traversal\n",
    "def printInorder(root):\n",
    " \n",
    "    if root:\n",
    " \n",
    "        # First recur on left child\n",
    "        printInorder(root.left)\n",
    " \n",
    "        # then print the data of node\n",
    "        print(root.val),\n",
    " \n",
    "        # now recur on right child\n",
    "        printInorder(root.right)\n",
    " \n",
    " \n",
    "# A function to do postorder tree traversal\n",
    "def printPostorder(root):\n",
    " \n",
    "    if root:\n",
    " \n",
    "        # First recur on left child\n",
    "        printPostorder(root.left)\n",
    " \n",
    "        # the recur on right child\n",
    "        printPostorder(root.right)\n",
    " \n",
    "        # now print the data of node\n",
    "        print(root.val),\n",
    " \n",
    " \n",
    "# A function to do preorder tree traversal\n",
    "def printPreorder(root):\n",
    " \n",
    "    if root:\n",
    " \n",
    "        # First print the data of node\n",
    "        print(root.val),\n",
    " \n",
    "        # Then recur on left child\n",
    "        printPreorder(root.left)\n",
    " \n",
    "        # Finally recur on right child\n",
    "        printPreorder(root.right)\n",
    " \n",
    " \n",
    "# Driver code"
   ]
  },
  {
   "cell_type": "markdown",
   "id": "e6d53894-8533-45d9-a7c9-3d895c4c664d",
   "metadata": {
    "jp-MarkdownHeadingCollapsed": true,
    "tags": []
   },
   "source": [
    "#### construct tree from pre and in-order traversals"
   ]
  },
  {
   "cell_type": "code",
   "execution_count": null,
   "id": "1da2dfbd-ca7e-401d-a99e-69b839e9161c",
   "metadata": {},
   "outputs": [],
   "source": [
    "# preorder and inorder\n",
    "def buildTree(preorder: list, inorder: list) -> TreeNode:\n",
    "    if not preorder or not inorder:\n",
    "        return None\n",
    "    root = TreeNode(preorder[0])\n",
    "    mid = inorder.index(preorder[0])\n",
    "    root.left = buildTree(preorder[1:mid+1], inorder[:mid])\n",
    "    root.right = buildTree(preorder[mid+1:], inorder[mid:1:])\n",
    "    return root"
   ]
  },
  {
   "cell_type": "code",
   "execution_count": null,
   "id": "583e60c5-c945-4242-ba37-6d4bc6ff78d3",
   "metadata": {},
   "outputs": [],
   "source": [
    "# postorder and inorder\n",
    "def buildTree(postorder: list, inorder: list) -> TreeNode:\n",
    "    if not postorder or not inorder:\n",
    "        return None\n",
    "    root = TreeNode(postorder[-1])\n",
    "    mid = inorder.index(postorder[-1])\n",
    "    root.left = buildTree(postorder[1:mid+1], inorder[:mid])\n",
    "    root.right = buildTree(postorder[mid+1:], inorder[mid:1:])\n",
    "    return root"
   ]
  },
  {
   "cell_type": "markdown",
   "id": "27c4e737-8e0c-4c2b-a717-6f258d315d5f",
   "metadata": {
    "tags": []
   },
   "source": [
    "#### flatten the tree"
   ]
  },
  {
   "cell_type": "code",
   "execution_count": null,
   "id": "12f8a5d8-e0d6-4004-bdf9-e25b5380470d",
   "metadata": {},
   "outputs": [],
   "source": [
    "def flattenTree(self, node):\n",
    "        \n",
    "        # Handle the null scenario\n",
    "        if not node:\n",
    "            return None\n",
    "        \n",
    "        # For a leaf node, we simply return the\n",
    "        # node as is.\n",
    "        if not node.left and not node.right:\n",
    "            return node\n",
    "        \n",
    "        # Recursively flatten the left subtree\n",
    "        leftTail = self.flattenTree(node.left)\n",
    "        \n",
    "        # Recursively flatten the right subtree\n",
    "        rightTail = self.flattenTree(node.right)\n",
    "        \n",
    "        # If there was a left subtree, we shuffle the connections\n",
    "        # around so that there is nothing on the left side\n",
    "        # anymore.\n",
    "        if leftTail:\n",
    "            leftTail.right = node.right\n",
    "            node.right = node.left\n",
    "            node.left = None\n",
    "        \n",
    "        # We need to return the \"rightmost\" node after we are\n",
    "        # done wiring the new connections. \n",
    "        return rightTail if rightTail else leftTail\n",
    "    \n",
    "def flatten(self, root: TreeNode) -> None:\n",
    "    \"\"\"\n",
    "    Do not return anything, modify root in-place instead.\n",
    "    \"\"\"\n",
    "\n",
    "    self.flattenTree(root)"
   ]
  },
  {
   "cell_type": "code",
   "execution_count": null,
   "id": "c752dc80-8fd5-4abf-8a02-ea2abddc53b9",
   "metadata": {},
   "outputs": [],
   "source": [
    "# max path sum in tree\n",
    "def maxPathSum(self, root: Optional[TreeNode]) -> int:\n",
    "        \n",
    "        def maxSum(root):\n",
    "            if not root:\n",
    "                return 0\n",
    "            l_sum = maxSum(root.left)\n",
    "            r_sum = maxSum(root.right)\n",
    "            l = max(0, l_sum)\n",
    "            r = max(0, r_sum)\n",
    "            res[0] = max(res[0], root.val + l + r)\n",
    "            return root.val + max(l, r)\n",
    "        \n",
    "        res = [-float('inf')]\n",
    "        maxSum(root)\n",
    "        #print(type(res[0]))\n",
    "        return res[0]"
   ]
  },
  {
   "cell_type": "markdown",
   "id": "65179863-54c1-4cde-9cc0-08f9126fbcb4",
   "metadata": {
    "tags": []
   },
   "source": [
    "### Heap"
   ]
  },
  {
   "cell_type": "code",
   "execution_count": null,
   "id": "1369d856-f24c-496f-af50-5749f6e193ac",
   "metadata": {},
   "outputs": [],
   "source": [
    "#   Kth Largest Element in an Array\n",
    "def findKthLargest(nums: List[int], k: int) -> int:\n",
    "        return heapq.nlargest(k, nums)[-1]\n"
   ]
  },
  {
   "cell_type": "code",
   "execution_count": null,
   "id": "15da2827-c252-48ee-b362-b332fdf8dc44",
   "metadata": {},
   "outputs": [],
   "source": [
    "# Top K Frequent Elements\n",
    "def topKFrequent(self, nums: List[int], k: int) -> List[int]: \n",
    "        # O(1) time \n",
    "        if k == len(nums):\n",
    "            return nums\n",
    "        \n",
    "        # 1. build hash map : character and how often it appears\n",
    "        # O(N) time\n",
    "        count = Counter(nums)   \n",
    "        # 2-3. build heap of top k frequent elements and\n",
    "        # convert it into an output array\n",
    "        # O(N log k) time\n",
    "        return heapq.nlargest(k, count.keys(), key=count.get) "
   ]
  },
  {
   "cell_type": "code",
   "execution_count": null,
   "id": "7cbd266c-d0a8-4a52-9373-fa7c4a3b5620",
   "metadata": {},
   "outputs": [],
   "source": [
    "#   Kth Largest Element in a Stream\n",
    "\n",
    "class KthLargest:\n",
    "    def __init__(self, k: int, nums: List[int]):\n",
    "        self.k = k\n",
    "        self.heap = nums\n",
    "        heapq.heapify(self.heap)\n",
    "        \n",
    "        while len(self.heap) > k:\n",
    "            heapq.heappop(self.heap)\n",
    "\n",
    "    def add(self, val: int) -> int:\n",
    "        heapq.heappush(self.heap, val)\n",
    "        if len(self.heap) > self.k:\n",
    "            heapq.heappop(self.heap)\n",
    "        return self.heap[0]"
   ]
  },
  {
   "cell_type": "markdown",
   "id": "bdbb122e-9597-4eca-81b4-cfc9ff929600",
   "metadata": {
    "tags": []
   },
   "source": [
    "#### Last Stone Weight\n",
    "    You are given an array of integers stones where stones[i] is the weight of the ith stone.\n",
    "\n",
    "    We are playing a game with the stones. On each turn, we choose the heaviest two stones and smash them together. Suppose the heaviest two stones have weights x and y with x <= y. The result of this smash is:\n",
    "\n",
    "    If x == y, both stones are destroyed, and\n",
    "    If x != y, the stone of weight x is destroyed, and the stone of weight y has new weight y - x.\n",
    "    At the end of the game, there is at most one stone left."
   ]
  },
  {
   "cell_type": "code",
   "execution_count": null,
   "id": "73d7dfdb-a871-4d72-bcff-4bf68a030197",
   "metadata": {},
   "outputs": [],
   "source": [
    "def lastStoneWeight(stones: List[int]) -> int:\n",
    "\n",
    "        # Make all the stones negative. We want to do this *in place*, to keep the\n",
    "        # space complexity of this algorithm at O(1). :-)\n",
    "        for i in range(len(stones)):\n",
    "            stones[i] *= -1\n",
    "\n",
    "        # Heapify all the stones.\n",
    "        heapq.heapify(stones)\n",
    "\n",
    "        # While there is more than one stone left, remove the two\n",
    "        # largest, smash them together, and insert the result\n",
    "        # back into the heap if it is non-zero.\n",
    "        while len(stones) > 1:\n",
    "            stone_1 = heapq.heappop(stones)\n",
    "            stone_2 = heapq.heappop(stones)\n",
    "            if stone_1 != stone_2:\n",
    "                heapq.heappush(stones, stone_1 - stone_2)\n",
    "\n",
    "        # Check if there is a stone left to return. Convert it back\n",
    "        # to positive.\n",
    "        return -heapq.heappop(stones) if stones else 0"
   ]
  },
  {
   "cell_type": "markdown",
   "id": "a0f5aa52-6d41-46b2-a95b-021a3fff971c",
   "metadata": {
    "tags": []
   },
   "source": [
    "#### The K Weakest Rows in a Matrix\n",
    "    [[1,1,0,0,0],\n",
    "     [1,1,1,1,0],\n",
    "     [1,0,0,0,0],\n",
    "     [1,1,0,0,0],\n",
    "     [1,1,1,1,1]], "
   ]
  },
  {
   "cell_type": "code",
   "execution_count": null,
   "id": "cef99499-beb6-44d4-82b7-0442202d7e9d",
   "metadata": {},
   "outputs": [],
   "source": [
    "def kWeakestRows(self, mat: List[List[int]], k: int) -> List[int]:\n",
    "        heap = [] #maxheap\n",
    "        heapq.heapify(heap)\n",
    "        \n",
    "        \n",
    "        for i in range(len(mat)):\n",
    "            val = sum(mat[i])\n",
    "            heapq.heappush(heap,(val,i))\n",
    "            print(heap)\n",
    "        #print(heap)\n",
    "        ans = []\n",
    "        for i in range(k):\n",
    "            val = heapq.heappop(heap)\n",
    "            ans.append(val[1])\n",
    "            \n",
    "        return ans"
   ]
  },
  {
   "cell_type": "markdown",
   "id": "51b34ed3-07a6-4bea-a960-47c1eb58758a",
   "metadata": {
    "tags": []
   },
   "source": [
    "### Graphs"
   ]
  },
  {
   "cell_type": "code",
   "execution_count": 1,
   "id": "918dbd48-b397-4796-ad6a-9ca712a1f753",
   "metadata": {},
   "outputs": [],
   "source": [
    "# UnionFind class for quick find operation\n",
    "class UnionFind:\n",
    "    def __init__(self, size):\n",
    "        self.root = [i for i in range(size)]\n",
    "\n",
    "    def find(self, x):\n",
    "        return self.root[x] # O(1)\n",
    "\n",
    "    def union(self, x, y): # O(N)\n",
    "        rootX = self.find(x)\n",
    "        rootY = self.find(y)\n",
    "        if rootX != rootY:\n",
    "            for i in range(len(self.root)):\n",
    "                if self.root[i] == rootY: # in case of union\n",
    "                    self.root[i] = rootX  # element at i-th place is replaced by the new assigned root value\n",
    "\n",
    "    def connected(self, x, y):\n",
    "        return self.find(x) == self.find(y)"
   ]
  },
  {
   "cell_type": "code",
   "execution_count": null,
   "id": "03881f91-5497-49f5-9df0-cfab926234f7",
   "metadata": {},
   "outputs": [],
   "source": [
    "# UnionFind class for quick union operation\n",
    "class UnionFind:\n",
    "    def __init__(self, size):\n",
    "        self.root = [i for i in range(size)]\n",
    "\n",
    "    def find(self, x):\n",
    "        while x != self.root[x]:\n",
    "            x = self.root[x]\n",
    "        return x\n",
    "\n",
    "    def union(self, x, y):\n",
    "        rootX = self.find(x)\n",
    "        rootY = self.find(y)\n",
    "        if rootX != rootY:\n",
    "            self.root[rootY] = rootX\n",
    "\n",
    "    def connected(self, x, y):\n",
    "        return self.find(x) == self.find(y)\n"
   ]
  },
  {
   "cell_type": "code",
   "execution_count": null,
   "id": "d4dff5e6-c220-42cd-8942-5664bc2a1122",
   "metadata": {},
   "outputs": [],
   "source": [
    "# UnionFind class for union by rank operation\n",
    "class UnionFind:\n",
    "    def __init__(self, size):\n",
    "        self.root = [i for i in range(size)]\n",
    "        self.rank = [1] * size\n",
    "\n",
    "    def find(self, x):\n",
    "        while x != self.root[x]:\n",
    "            x = self.root[x]\n",
    "        return x\n",
    "\t\t\n",
    "    def union(self, x, y):\n",
    "        rootX = self.find(x)\n",
    "        rootY = self.find(y)\n",
    "        if rootX != rootY:\n",
    "            if self.rank[rootX] > self.rank[rootY]:\n",
    "                self.root[rootY] = rootX\n",
    "            elif self.rank[rootX] < self.rank[rootY]:\n",
    "                self.root[rootX] = rootY\n",
    "            else:\n",
    "                self.root[rootY] = rootX\n",
    "                self.rank[rootX] += 1\n",
    "\n",
    "    def connected(self, x, y):\n",
    "        return self.find(x) == self.find(y)"
   ]
  },
  {
   "cell_type": "code",
   "execution_count": null,
   "id": "4cc8eca0-fc7d-4482-9245-80aea91f325c",
   "metadata": {},
   "outputs": [],
   "source": [
    "# UnionFind class with Path Compression and Union by Rank\n",
    "class UnionFind:\n",
    "    def __init__(self, size):\n",
    "        self.root = [i for i in range(size)]\n",
    "        # Use a rank array to record the height of each vertex, i.e., the \"rank\" of each vertex.\n",
    "        # The initial \"rank\" of each vertex is 1, because each of them is\n",
    "        # a standalone vertex with no connection to other vertices.\n",
    "        self.rank = [1] * size\n",
    "\n",
    "    # The find function here is the same as that in the disjoint set with path compression.\n",
    "    def find(self, x):\n",
    "        if x == self.root[x]:\n",
    "            return x\n",
    "        self.root[x] = self.find(self.root[x])\n",
    "        return self.root[x]\n",
    "\n",
    "    # The union function with union by rank\n",
    "    def union(self, x, y):\n",
    "        rootX = self.find(x)\n",
    "        rootY = self.find(y)\n",
    "        if rootX != rootY:\n",
    "            if self.rank[rootX] > self.rank[rootY]:\n",
    "                self.root[rootY] = rootX\n",
    "            elif self.rank[rootX] < self.rank[rootY]:\n",
    "                self.root[rootX] = rootY\n",
    "            else:\n",
    "                self.root[rootY] = rootX\n",
    "                self.rank[rootX] += 1\n",
    "\n",
    "    def connected(self, x, y):\n",
    "        return self.find(x) == self.find(y)\n",
    "\n"
   ]
  },
  {
   "cell_type": "code",
   "execution_count": null,
   "id": "3859380b-59d5-44e6-b83f-fc44b787eb32",
   "metadata": {},
   "outputs": [],
   "source": [
    "# All Paths From Source to Target recurssion solution\n",
    "\n",
    "def allPathsSourceTarget(graph: List[List[int]]) -> List[List[int]]:\n",
    "\n",
    "    target = len(graph) - 1\n",
    "    results = []\n",
    "\n",
    "    def backtrack(currNode, path):\n",
    "        # if we reach the target, no need to explore further.\n",
    "        if currNode == target:\n",
    "            results.append(list(path))\n",
    "            return\n",
    "        # explore the neighbor nodes one after another.\n",
    "        for nextNode in graph[currNode]:\n",
    "            path.append(nextNode)\n",
    "            backtrack(nextNode, path)\n",
    "            path.pop()\n",
    "    # kick of the backtracking, starting from the source node (0).\n",
    "    path = deque([0])\n",
    "    backtrack(0, path)\n",
    "\n",
    "    return results"
   ]
  },
  {
   "cell_type": "markdown",
   "id": "eb9adac1-c9ef-4300-9707-58d95bb1ce7d",
   "metadata": {},
   "source": [
    "#### depth first search"
   ]
  },
  {
   "cell_type": "code",
   "execution_count": null,
   "id": "5d40c37b-7d9c-4045-ae3b-26b664bc6821",
   "metadata": {},
   "outputs": [],
   "source": [
    "# All Paths From Source to Target DFS solution\n",
    "\n",
    "def allPathsSourcetoTarget(self, graph: List[List[int]]) -> List[List[int]]:\n",
    "        def dfs(node):\n",
    "            path.append(node)\n",
    "            if node == len(graph) - 1:\n",
    "                paths.append(path.copy())\n",
    "                return\n",
    "\n",
    "            next_nodes = graph[node]\n",
    "            for next_node in next_nodes:\n",
    "                dfs(next_node)\n",
    "                path.pop()\n",
    "\n",
    "        paths = []\n",
    "        path = []\n",
    "        if not graph or len(graph) == 0:\n",
    "            return paths\n",
    "        dfs(0)\n",
    "        return paths"
   ]
  },
  {
   "attachments": {
    "8e889ae0-beb7-4fc4-947a-2f0f46d10d31.png": {
     "image/png": "[encoded data removed]"
    }
   },
   "cell_type": "markdown",
   "id": "e5dc00c1-f647-4d93-a504-1d84e23cca9b",
   "metadata": {},
   "source": [
    "#### Clone graph\n",
    "##### graph is undirected and each list contains the adjacent nodes/ vertices \n",
    "##### input format adjList = [[2,4],[1,3],[2,4],[1,3]]\n",
    "\n",
    "![image.png](attachment:8e889ae0-beb7-4fc4-947a-2f0f46d10d31.png)"
   ]
  },
  {
   "cell_type": "code",
   "execution_count": null,
   "id": "9ecebd07-c816-45f7-93df-25ac6d871da5",
   "metadata": {},
   "outputs": [],
   "source": [
    "\"\"\"\n",
    "# Definition for a Node.\n",
    "class Node(object):\n",
    "    def __init__(self, val, neighbors):\n",
    "        self.val = val\n",
    "        self.neighbors = neighbors\n",
    "\"\"\"\n",
    "class Solution(object):\n",
    "\n",
    "    def __init__(self):\n",
    "        # Dictionary to save the visited node and it's respective clone\n",
    "        # as key and value respectively. This helps to avoid cycles.\n",
    "        self.visited = {}\n",
    "\n",
    "    def cloneGraph(self, node):\n",
    "        \"\"\"\n",
    "        :type node: Node\n",
    "        :rtype: Node\n",
    "        \"\"\"\n",
    "        if not node:\n",
    "            return node\n",
    "\n",
    "        # If the node was already visited before.\n",
    "        # Return the clone from the visited dictionary.\n",
    "        if node in self.visited:\n",
    "            return self.visited[node]\n",
    "\n",
    "        # Create a clone for the given node.\n",
    "        # Note that we don't have cloned neighbors as of now, hence [].\n",
    "        clone_node = Node(node.val, [])\n",
    "\n",
    "        # The key is original node and value being the clone node.\n",
    "        self.visited[node] = clone_node\n",
    "\n",
    "        # Iterate through the neighbors to generate their clones\n",
    "        # and prepare a list of cloned neighbors to be added to the cloned node.\n",
    "        if node.neighbors:\n",
    "            clone_node.neighbors = [self.cloneGraph(n) for n in node.neighbors]\n",
    "\n",
    "        return clone_node"
   ]
  },
  {
   "cell_type": "code",
   "execution_count": null,
   "id": "100e628f-f757-4625-8843-09923c4c3253",
   "metadata": {},
   "outputs": [],
   "source": [
    "\"\"\"\n",
    "# Definition for a Node.\n",
    "class Node(object):\n",
    "    def __init__(self, val, neighbors):\n",
    "        self.val = val\n",
    "        self.neighbors = neighbors\n",
    "\"\"\"\n",
    "from collections import deque\n",
    "class Solution(object):\n",
    "\n",
    "    def cloneGraph(self, node):\n",
    "        \"\"\"\n",
    "        :type node: Node\n",
    "        :rtype: Node\n",
    "        \"\"\"\n",
    "\n",
    "        if not node:\n",
    "            return node\n",
    "\n",
    "        # Dictionary to save the visited node and it's respective clone\n",
    "        # as key and value respectively. This helps to avoid cycles.\n",
    "        visited = {}\n",
    "\n",
    "        # Put the first node in the queue\n",
    "        queue = deque([node])\n",
    "        # Clone the node and put it in the visited dictionary.\n",
    "        visited[node] = Node(node.val, [])\n",
    "\n",
    "        # Start BFS traversal\n",
    "        while queue:\n",
    "            # Pop a node say \"n\" from the from the front of the queue.\n",
    "            n = queue.popleft()\n",
    "            # Iterate through all the neighbors of the node\n",
    "            for neighbor in n.neighbors:\n",
    "                if neighbor not in visited:\n",
    "                    # Clone the neighbor and put in the visited, if not present already\n",
    "                    visited[neighbor] = Node(neighbor.val, [])\n",
    "                    # Add the newly encountered node to the queue.\n",
    "                    queue.append(neighbor)\n",
    "                # Add the clone of the neighbor to the neighbors of the clone node \"n\".\n",
    "                visited[n].neighbors.append(visited[neighbor])\n",
    "\n",
    "        # Return the clone of the node from visited.\n",
    "        return visited[node]"
   ]
  },
  {
   "attachments": {
    "4f635b6e-b162-43bc-926c-46c40f6c462a.png": {
     "image/png": "[encoded data removed]"
    }
   },
   "cell_type": "markdown",
   "id": "ace5412d-c4ea-4022-81a6-c6ccc027b511",
   "metadata": {},
   "source": [
    "You are given a list of airline tickets where tickets[i] = [fromi, toi] represent the departure and the arrival airports of one flight. Reconstruct the itinerary in order and return it.\n",
    "\n",
    "All of the tickets belong to a man who departs from \"JFK\", thus, the itinerary must begin with \"JFK\". If there are multiple valid itineraries, you should return the itinerary that has the smallest lexical order when read as a single string.\n",
    "\n",
    "For example, the itinerary [\"JFK\", \"LGA\"] has a smaller lexical order than [\"JFK\", \"LGB\"].\n",
    "You may assume all tickets form at least one valid itinerary. You must use all the tickets once and only once.\n",
    "\n",
    "![image.png](attachment:4f635b6e-b162-43bc-926c-46c40f6c462a.png)\n",
    "\n",
    "\n",
    "Input: tickets = [[\"MUC\",\"LHR\"],[\"JFK\",\"MUC\"],[\"SFO\",\"SJC\"],[\"LHR\",\"SFO\"]]\n",
    "Output: [\"JFK\",\"MUC\",\"LHR\",\"SFO\",\"SJC\"]"
   ]
  },
  {
   "cell_type": "code",
   "execution_count": null,
   "id": "ce821dd9-d83d-4a64-ace0-265961fb819e",
   "metadata": {},
   "outputs": [],
   "source": [
    "class Solution(object):\n",
    "    \"\"\"  \"\"\"\n",
    "    def findItinerary(self, tickets):\n",
    "        targets = collections.defaultdict(list)\n",
    "        print(sorted(tickets)[::-1])\n",
    "        for a, b in sorted(tickets)[::-1]:\n",
    "            targets[a] += b,\n",
    "        route = []\n",
    "        print(targets)\n",
    "        \n",
    "        def visit(airport):\n",
    "            print(airport)\n",
    "            while targets[airport]:\n",
    "                visit(targets[airport].pop())\n",
    "            route.append(airport)\n",
    "        visit('JFK')\n",
    "        print(route)\n",
    "        return route[::-1]"
   ]
  },
  {
   "cell_type": "code",
   "execution_count": null,
   "id": "05e8a372-9602-4a43-ba34-34dd04541d0c",
   "metadata": {},
   "outputs": [],
   "source": [
    "class Solution(object):\n",
    "    def findItinerary(self, tickets):\n",
    "        \"\"\"\n",
    "        :type tickets: List[List[str]]\n",
    "        :rtype: List[str]\n",
    "        \"\"\"\n",
    "        from collections import defaultdict\n",
    "        self.flightMap = defaultdict(list)\n",
    "\n",
    "        for ticket in tickets:\n",
    "            origin, dest = ticket[0], ticket[1]\n",
    "            self.flightMap[origin].append(dest)\n",
    "\n",
    "        # sort the itinerary based on the lexical order\n",
    "        for origin, itinerary in self.flightMap.items():\n",
    "        # Note that we could have multiple identical flights, i.e. same origin and destination.\n",
    "            itinerary.sort(reverse=True)\n",
    "\n",
    "        self.result = []\n",
    "        self.DFS('JFK')\n",
    "\n",
    "        # reconstruct the route backwards\n",
    "        return self.result[::-1]\n",
    "\n",
    "    def DFS(self, origin):\n",
    "        destList = self.flightMap[origin]\n",
    "        while destList:\n",
    "            #while we visit the edge, we trim it off from graph.\n",
    "            nextDest = destList.pop()\n",
    "            self.DFS(nextDest)\n",
    "        self.result.append(origin)"
   ]
  },
  {
   "cell_type": "code",
   "execution_count": null,
   "id": "26fd9275-d68a-4ab9-9c79-ec6f9bbf0a00",
   "metadata": {},
   "outputs": [],
   "source": [
    "class Solution:\n",
    "    def validPath(self, n: int, edges: List[List[int]], start: int, end: int) -> bool:\n",
    "        neighbors = defaultdict(list)\n",
    "        for n1, n2 in edges:\n",
    "            neighbors[n1].append(n2)\n",
    "            neighbors[n2].append(n1)\n",
    "            \n",
    "        def dfs(node, end, seen):\n",
    "            if node == end:\n",
    "                return True\n",
    "            if node in seen:\n",
    "                return False\n",
    "            \n",
    "            seen.add(node)\n",
    "            for n in neighbors[node]:\n",
    "                if dfs(n, end, seen):\n",
    "                    return True\n",
    "                \n",
    "            return False\n",
    "        \n",
    "        seen = set()    \n",
    "        return dfs(start, end, seen)"
   ]
  },
  {
   "attachments": {
    "8c911c11-496d-466e-8f0c-84b4eaf5c3f5.png": {
     "image/png": "[encoded data removed]"
    }
   },
   "cell_type": "markdown",
   "id": "d4404b8c-b1fe-4a5f-b124-3074c5fe4dbf",
   "metadata": {},
   "source": [
    "You are given a perfect binary tree where all leaves are on the same level, and every parent has two children. The binary tree has the following definition:\n",
    "\n",
    "struct Node {\n",
    "\n",
    "int val;\n",
    "\n",
    "Node *left;\n",
    "\n",
    "Node *right;\n",
    "\n",
    "Node *next;\n",
    "\n",
    "}\n",
    "\n",
    "Populate each next pointer to point to its next right node. If there is no next right node, the next pointer should be set to NULL.\n",
    "\n",
    "Initially, all next pointers are set to NULL.\n",
    "\n",
    "![image.png](attachment:8c911c11-496d-466e-8f0c-84b4eaf5c3f5.png)"
   ]
  },
  {
   "cell_type": "code",
   "execution_count": null,
   "id": "aebe3db2-5a7a-48be-9930-7282e13b7dc7",
   "metadata": {},
   "outputs": [],
   "source": [
    "def connect1(self, root):\n",
    "    if root and root.left and root.right:\n",
    "        root.left.next = root.right\n",
    "        if root.next:\n",
    "            root.right.next = root.next.left\n",
    "        self.connect(root.left)\n",
    "        self.connect(root.right)\n",
    " \n",
    "# BFS       \n",
    "def connect2(self, root):\n",
    "    if not root:\n",
    "        return \n",
    "    queue = [root]\n",
    "    while queue:\n",
    "        curr = queue.pop(0)\n",
    "        if curr.left and curr.right:\n",
    "            curr.left.next = curr.right\n",
    "            if curr.next:\n",
    "                curr.right.next = curr.next.left\n",
    "            queue.append(curr.left)\n",
    "            queue.append(curr.right)\n",
    "    \n",
    "# DFS \n",
    "def connect(self, root):\n",
    "    if not root:\n",
    "        return \n",
    "    stack = [root]\n",
    "    while stack:\n",
    "        curr = stack.pop()\n",
    "        if curr.left and curr.right:\n",
    "            curr.left.next = curr.right\n",
    "            if curr.next:\n",
    "                curr.right.next = curr.next.left\n",
    "            stack.append(curr.right)\n",
    "            stack.append(curr.left)"
   ]
  },
  {
   "cell_type": "markdown",
   "id": "82343604-9d30-4d62-826c-9d6ade76236f",
   "metadata": {},
   "source": [
    "Given an m x n 2D binary grid grid which represents a map of '1's (land) and '0's (water), return the number of islands.\n",
    "\n",
    "An island is surrounded by water and is formed by connecting adjacent lands horizontally or vertically. You may assume all four edges of the grid are all surrounded by water.\n",
    "\n",
    " \n",
    "\n",
    "Example 1:\n",
    "\n",
    "Input: grid = [\n",
    "\n",
    "  [\"1\",\"1\",\"1\",\"1\",\"0\"],\n",
    "\n",
    "[\"1\",\"1\",\"0\",\"1\",\"0\"],\n",
    "\n",
    "[\"1\",\"1\",\"0\",\"0\",\"0\"],\n",
    "\n",
    "[\"0\",\"0\",\"0\",\"0\",\"0\"]\n",
    "\n",
    "]\n",
    "\n",
    "Output: 1"
   ]
  },
  {
   "cell_type": "code",
   "execution_count": null,
   "id": "924b1bd1-f549-4338-9946-3ce32cbbb2cb",
   "metadata": {},
   "outputs": [],
   "source": []
  },
  {
   "cell_type": "code",
   "execution_count": null,
   "id": "5179ca5d-001e-4691-a50b-4dbb467f7f9e",
   "metadata": {},
   "outputs": [],
   "source": [
    "class Solution:\n",
    "    def numIslands(self, grid):\n",
    "        if not grid:\n",
    "            return 0\n",
    "\n",
    "        count = 0\n",
    "        for i in range(len(grid)):\n",
    "            for j in range(len(grid[0])):\n",
    "                if grid[i][j] == '1':\n",
    "                    self.dfs(grid, i, j)\n",
    "                    count += 1\n",
    "        return count\n",
    "\n",
    "    def dfs(self, grid, i, j):\n",
    "        if i<0 or j<0 or i>=len(grid) or j>=len(grid[0]) or grid[i][j] != '1':\n",
    "            return\n",
    "        grid[i][j] = '#'\n",
    "        self.dfs(grid, i+1, j)\n",
    "        self.dfs(grid, i-1, j)\n",
    "        self.dfs(grid, i, j+1)\n",
    "        self.dfs(grid, i, j-1)"
   ]
  },
  {
   "cell_type": "markdown",
   "id": "39353df1-36eb-4c50-9198-9994de325747",
   "metadata": {
    "tags": []
   },
   "source": [
    "#### Breadth first search"
   ]
  },
  {
   "cell_type": "code",
   "execution_count": null,
   "id": "617ca89c-c4dd-42ee-82c3-31eb1efe38b7",
   "metadata": {},
   "outputs": [],
   "source": [
    "def validPath(self, n: int, edges: List[List[int]], start: int, end: int) -> bool:\n",
    "        neighbors = defaultdict(list)\n",
    "        for n1, n2 in edges:\n",
    "            neighbors[n1].append(n2)\n",
    "            neighbors[n2].append(n1)\n",
    "            \n",
    "        q = deque([start])\n",
    "        seen = set([start])\n",
    "        while q:\n",
    "            node = q.popleft()            \n",
    "            if node == end:\n",
    "                return True            \n",
    "            for n in neighbors[node]:\n",
    "                if n not in seen:\n",
    "                    seen.add(n)\n",
    "                    q.append(n)\n",
    "                \n",
    "        return False"
   ]
  },
  {
   "cell_type": "code",
   "execution_count": null,
   "id": "12b4fab4-2076-4ad4-9d2e-dc4b2fa1d12c",
   "metadata": {},
   "outputs": [],
   "source": [
    "from collections import deque\n",
    "from pprint import pprint\n",
    "        \n",
    "class Solution:\n",
    "    def wallsAndGates(self, rooms: List[List[int]]) -> None:\n",
    "        empty = 2147483647\n",
    "        gate = 0\n",
    "        # steps taken in all four directions\n",
    "        directions = [[1,0],\n",
    "                   [-1,0],\n",
    "                   [0,1],\n",
    "                   [0,-1]]\n",
    "        #pprint(rooms)\n",
    "        row = len(rooms)\n",
    "        \n",
    "        if row == 0: return\n",
    "        \n",
    "        col = len(rooms[0])\n",
    "        \n",
    "        que = deque([])\n",
    "        \n",
    "        for i in range(row):\n",
    "            for j in range(col):\n",
    "                if rooms[i][j] == gate:\n",
    "                    que.append([i,j])\n",
    "                    \n",
    "        # implemention BFS using queue FIFO\n",
    "        while que:\n",
    "            #print(que)\n",
    "            vertex = que.popleft() #FIFO\n",
    "            for d in directions:\n",
    "                r = vertex[0] + d[0]\n",
    "                c = vertex[1] + d[1]\n",
    "                \n",
    "                # check for matrix out of bound and not empty spaces\n",
    "                if r < 0 or c < 0 or r >= row or c >= col or rooms[r][c] != empty:\n",
    "                    continue\n",
    "                # continue keyword skips the code below and iterate\n",
    "                rooms[r][c] = rooms[vertex[0]][vertex[1]] + 1\n",
    "                que.append([r, c])"
   ]
  },
  {
   "attachments": {
    "de71dfe8-d707-4bbc-af56-58cb7fa02158.png": {
     "image/png": "[encoded data removed]"
    }
   },
   "cell_type": "markdown",
   "id": "2fd813e9-a585-4ef2-b420-925c618ba609",
   "metadata": {},
   "source": [
    "Given an n x n binary matrix grid, return the length of the shortest clear path in the matrix. If there is no clear path, return -1.\n",
    "\n",
    "A clear path in a binary matrix is a path from the top-left cell (i.e., (0, 0)) to the bottom-right cell (i.e., (n - 1, n - 1)) such that:\n",
    "\n",
    "All the visited cells of the path are 0.\n",
    "All the adjacent cells of the path are 8-directionally connected (i.e., they are different and they share an edge or a corner).\n",
    "The length of a clear path is the number of visited cells of this path.\n",
    "\n",
    "![image.png](attachment:de71dfe8-d707-4bbc-af56-58cb7fa02158.png)\n",
    "\n",
    "Input: \n",
    "grid = [[0,0,0],[1,1,0],[1,1,0]]\n",
    "\n",
    "Output: 4"
   ]
  },
  {
   "cell_type": "code",
   "execution_count": null,
   "id": "4d11f6e1-8369-40a8-8e99-30d1e75696fd",
   "metadata": {},
   "outputs": [],
   "source": [
    "class Solution:\n",
    "    def shortestPathBinaryMatrix(self, grid: List[List[int]]) -> int:\n",
    "        \n",
    "        max_row = len(grid) - 1\n",
    "        max_col = len(grid[0]) - 1\n",
    "        directions = [\n",
    "            (-1, -1), (-1, 0), (-1, 1), (0, -1), (0, 1), (1, -1), (1, 0), (1, 1)]\n",
    "        \n",
    "        # Helper function to find the neighbors of a given cell.\n",
    "        def get_neighbours(row, col):\n",
    "            for row_difference, col_difference in directions:\n",
    "                new_row = row + row_difference\n",
    "                new_col = col + col_difference\n",
    "                if not(0 <= new_row <= max_row and 0 <= new_col <= max_col):\n",
    "                    continue\n",
    "                if grid[new_row][new_col] != 0:\n",
    "                    continue\n",
    "                yield (new_row, new_col)\n",
    "        \n",
    "        # Check that the first and last cells are open. \n",
    "        if grid[0][0] != 0 or grid[max_row][max_col] != 0:\n",
    "            return -1\n",
    "        \n",
    "        # Set up the BFS.\n",
    "        queue = deque()\n",
    "        queue.append((0, 0))\n",
    "        grid[0][0] = 1 \n",
    "        \n",
    "        # Carry out the BFS.\n",
    "        while queue:\n",
    "            row, col = queue.popleft()\n",
    "            distance = grid[row][col]\n",
    "            if (row, col) == (max_row, max_col):\n",
    "                print(grid)\n",
    "                return distance\n",
    "            for neighbour_row, neighbour_col in get_neighbours(row, col):\n",
    "                grid[neighbour_row][neighbour_col] = distance + 1\n",
    "                queue.append((neighbour_row, neighbour_col))\n",
    "        \n",
    "        # There was no path.\n",
    "        return -1        "
   ]
  },
  {
   "cell_type": "markdown",
   "id": "0769e61f-78e7-44a6-9ed5-40780a5eb18d",
   "metadata": {
    "jp-MarkdownHeadingCollapsed": true,
    "tags": []
   },
   "source": [
    "### Arrays"
   ]
  },
  {
   "cell_type": "code",
   "execution_count": 2,
   "id": "fbabeb98-71fc-4d07-914a-526298f5a5e2",
   "metadata": {},
   "outputs": [],
   "source": [
    "# converts the given string into a signed 32-bit integer.\n",
    "\n",
    "def myAtoi(s: str) -> int:\n",
    "        INT_MAX = pow(2,31) - 1 \n",
    "        INT_MIN = -pow(2,31)\n",
    "        \n",
    "        ans, n = 0, len(s)\n",
    "        founddigits = False\n",
    "        positive = True\n",
    "        \n",
    "        # Read leading space\n",
    "        i = 0\n",
    "        while i<n and s[i]==' ':\n",
    "            i += 1\n",
    "        \n",
    "        # Read sign\n",
    "        if i<n and s[i] in '+-':\n",
    "            positive = s[i] == '+'\n",
    "            i += 1\n",
    "        \n",
    "        # Read digits\n",
    "        while i<len(s) and s[i].isdigit():\n",
    "            ans = 10*ans + int(s[i])\n",
    "            i += 1\n",
    "            \n",
    "        return min(INT_MAX, ans) if positive else max(INT_MIN, -ans)"
   ]
  },
  {
   "cell_type": "code",
   "execution_count": 5,
   "id": "78d060bf-f5d7-4b7d-811a-903c83c31a01",
   "metadata": {},
   "outputs": [],
   "source": [
    "# if larger number on right we subtract from number on left otherwise always add\n",
    "# example : IX is 10-1 = 9, and XI is 10+1 = 11\n",
    "values = {\n",
    "    \"I\": 1,\n",
    "    \"V\": 5,\n",
    "    \"X\": 10,\n",
    "    \"L\": 50,\n",
    "    \"C\": 100,\n",
    "    \"D\": 500,\n",
    "    \"M\": 1000,\n",
    "}\n",
    "\n",
    "class Solution:\n",
    "    def romanToInt(self, s: str) -> int:\n",
    "        total = values.get(s[-1])\n",
    "        for i in reversed(range(len(s) - 1)):\n",
    "            if values[s[i]] < values[s[i + 1]]:\n",
    "                total -= values[s[i]]\n",
    "            else:\n",
    "                total += values[s[i]]\n",
    "        return total"
   ]
  },
  {
   "cell_type": "markdown",
   "id": "a6d66754-46fa-44f1-8dbc-5b956a39324f",
   "metadata": {},
   "source": [
    "#### three sum problem"
   ]
  },
  {
   "cell_type": "code",
   "execution_count": null,
   "id": "555e178d-4734-40fd-a80e-a8d656a69f7e",
   "metadata": {},
   "outputs": [],
   "source": [
    "def threeSum(self, nums: List[int]) -> List[List[int]]:\n",
    "\n",
    "\tres = set()\n",
    "\n",
    "\t#1. Split nums into three lists: negative numbers, positive numbers, and zeros\n",
    "\tn, p, z = [], [], []\n",
    "\tfor num in nums:\n",
    "\t\tif num > 0:\n",
    "\t\t\tp.append(num)\n",
    "\t\telif num < 0: \n",
    "\t\t\tn.append(num)\n",
    "\t\telse:\n",
    "\t\t\tz.append(num)\n",
    "\n",
    "\t#2. Create a separate set for negatives and positives for O(1) look-up times\n",
    "\tN, P = set(n), set(p)\n",
    "\n",
    "\t#3. If there is at least 1 zero in the list, add all cases where -num exists in N and num exists in P\n",
    "\t#   i.e. (-3, 0, 3) = 0\n",
    "\tif z:\n",
    "\t\tfor num in P:\n",
    "\t\t\tif -1*num in N:\n",
    "\t\t\t\tres.add((-1*num, 0, num))\n",
    "\n",
    "\t#3. If there are at least 3 zeros in the list then also include (0, 0, 0) = 0\n",
    "\tif len(z) >= 3:\n",
    "\t\tres.add((0,0,0))\n",
    "\n",
    "\t#4. For all pairs of negative numbers (-3, -1), check to see if their complement (4)\n",
    "\t#   exists in the positive number set\n",
    "\tfor i in range(len(n)):\n",
    "\t\tfor j in range(i+1,len(n)):\n",
    "\t\t\ttarget = -1*(n[i]+n[j])\n",
    "\t\t\tif target in P:\n",
    "\t\t\t\tres.add(tuple(sorted([n[i],n[j],target])))\n",
    "\n",
    "\t#5. For all pairs of positive numbers (1, 1), check to see if their complement (-2)\n",
    "\t#   exists in the negative number set\n",
    "\tfor i in range(len(p)):\n",
    "\t\tfor j in range(i+1,len(p)):\n",
    "\t\t\ttarget = -1*(p[i]+p[j])\n",
    "\t\t\tif target in N:\n",
    "\t\t\t\tres.add(tuple(sorted([p[i],p[j],target])))\n",
    "\n",
    "\treturn res"
   ]
  },
  {
   "cell_type": "markdown",
   "id": "ad7c5ad0-2c16-4fc0-b185-90cae5506ce1",
   "metadata": {
    "tags": []
   },
   "source": [
    "#### next permutation"
   ]
  },
  {
   "cell_type": "markdown",
   "id": "dcb219b5-d941-4ac3-a30e-e51e24e7262d",
   "metadata": {
    "tags": []
   },
   "source": [
    "def next_permutation(nums: list) -> None:\n",
    "        \"\"\"\n",
    "        Do not return anything, modify nums in-place instead.\n",
    "        \"\"\"\n",
    "        i = len(nums) -1\n",
    "        \n",
    "        while i > 0 and nums[i-1] >= nums[i]:\n",
    "            i -=1\n",
    "            \n",
    "        if i <= 0:\n",
    "            nums[:] = nums[::-1]\n",
    "        else:\n",
    "            j = len(nums)-1\n",
    "\n",
    "            while nums[j] <= nums[i-1]:\n",
    "                j -=1\n",
    "\n",
    "            nums[i-1], nums[j] = nums[j], nums[i-1]\n",
    "\n",
    "            nums[i:] = nums[len(nums)-1: i-1 : -1]\n",
    "        return nums"
   ]
  },
  {
   "cell_type": "code",
   "execution_count": 22,
   "id": "4140d122-50b3-4cb0-895a-ccd0d6df0331",
   "metadata": {},
   "outputs": [
    {
     "data": {
      "text/plain": [
       "[0, 3, 3, 8, 5]"
      ]
     },
     "execution_count": 22,
     "metadata": {},
     "output_type": "execute_result"
    }
   ],
   "source": [
    "arr = [0, 3, 3, 5, 8]\n",
    "next_permutation(arr)"
   ]
  },
  {
   "cell_type": "code",
   "execution_count": 31,
   "id": "ffec2df5-998c-4ec5-b998-92d087e70321",
   "metadata": {},
   "outputs": [],
   "source": [
    "import collections\n",
    "def groupAnagrams(strs):\n",
    "        ans = collections.defaultdict(list)\n",
    "        for s in strs:\n",
    "            ans[tuple(sorted(s))].append(s)\n",
    "        return list(ans.values())"
   ]
  },
  {
   "cell_type": "code",
   "execution_count": 32,
   "id": "fd302a8a-1fd8-43a1-81ca-03a59b151404",
   "metadata": {},
   "outputs": [
    {
     "data": {
      "text/plain": [
       "[['are', 'ear', 'era'], ['bat', 'tab'], ['code']]"
      ]
     },
     "execution_count": 32,
     "metadata": {},
     "output_type": "execute_result"
    }
   ],
   "source": [
    "strs = [\"are\", \"bat\", \"ear\", \"code\", \"tab\", \"era\"]\n",
    "\n",
    "groupAnagrams(strs)"
   ]
  },
  {
   "cell_type": "markdown",
   "id": "4a6fda1d-e6a7-4f1a-81d0-ee1e588702b7",
   "metadata": {},
   "source": [
    "#### minimum window substring"
   ]
  },
  {
   "cell_type": "code",
   "execution_count": 37,
   "id": "640dff50-4e30-4a6b-bb70-ca8687184e16",
   "metadata": {},
   "outputs": [],
   "source": [
    "import collections\n",
    "\n",
    "def minWindow(s: str, t: str):\n",
    "    # check if t is not empty\n",
    "    if t == \"\": return \"\"\n",
    "    \n",
    "    # count the number of characters in t\n",
    "    countT = collections.Counter(t)\n",
    "    # initiate the empty window dictionary for mapping\n",
    "    window = {}\n",
    "    # initiate the what we have and vs needed characters count\n",
    "    have, need = 0, len(countT)\n",
    "    res, resLen = [-1,-1], float('infinity')\n",
    "    l = 0\n",
    "    # for loop to scan through the string s\n",
    "    for r in range(len(s)):\n",
    "        # add each character to window map dictionary\n",
    "        window[s[r]] = 1 + window.get(s[r], 0)\n",
    "        \n",
    "        # if scanned is the one we need in window as given in t\n",
    "        if s[r] in countT and window[s[r]] == countT[s[r]]:\n",
    "            have += 1\n",
    "        \n",
    "        # when have and needed characters become equal\n",
    "        while have == need:\n",
    "            # update the results\n",
    "            if (r-l+1) < resLen:\n",
    "                resLen = r-l+1\n",
    "                res = [l,r]\n",
    "            \n",
    "            # move window from left side to get minimum window while checking for the have == need\n",
    "            window[s[l]] -=1\n",
    "            # if windows character count decreses from required as mentioned on the countT\n",
    "            if s[l] in countT and window[s[l]] < countT[s[l]]:\n",
    "                have -=1\n",
    "            l+=1 # move pointer to left\n",
    "    # store the value of l and r pointers\n",
    "    l, r = res\n",
    "    return s[l:r+1]"
   ]
  },
  {
   "cell_type": "markdown",
   "id": "d5a95ec6-7863-4dd3-b671-1f6b2fa407bf",
   "metadata": {},
   "source": [
    "##### exactly one edit in s to get same string as t (add, delete or replace)"
   ]
  },
  {
   "cell_type": "code",
   "execution_count": 38,
   "id": "e477ff9a-5b65-4fb5-aed3-ca77287d134d",
   "metadata": {},
   "outputs": [],
   "source": [
    "def isOneEditDistance(s: str, t: str) -> bool:\n",
    "        if abs(len(s) - len(t)) > 1 or s == t:\n",
    "            return False\n",
    "        \n",
    "        i = j = 0\n",
    "        notEqual = False\n",
    "        \n",
    "        while i < len(s) and j < len(t):\n",
    "            if s[i] == t[j]:\n",
    "                i += 1\n",
    "                j += 1\n",
    "            else:\n",
    "                if notEqual:\n",
    "                    return False\n",
    "                notEqual = True\n",
    "                if len(s) <= len(t):\n",
    "                    j += 1\n",
    "                if len(s) >= len(t):\n",
    "                    i += 1\n",
    "            \n",
    "        return True"
   ]
  },
  {
   "cell_type": "markdown",
   "id": "db9a2928-e97f-41a2-858a-f3ce5025d705",
   "metadata": {
    "tags": []
   },
   "source": [
    "#### Product of Array Except Self\n",
    "    Given an integer array nums,\n",
    "    return an array answer such that answer[i] is equal to the product of all the elements of nums except nums[i]."
   ]
  },
  {
   "cell_type": "code",
   "execution_count": null,
   "id": "cadec34a-016a-4263-a11f-d3560a9aac72",
   "metadata": {},
   "outputs": [],
   "source": [
    "def productExceptSelf(nums: list) -> list:\n",
    "        length = len(nums)\n",
    "        result = [1] * length\n",
    "        result [0] = 1\n",
    "        for i in range(1, length):\n",
    "            result[i] = result[i-1]*nums[i-1]\n",
    "        \n",
    "        factor = 1\n",
    "        for i in range(length-1, -1, -1):\n",
    "            result[i]  = result[i] * factor\n",
    "            factor *= nums[i]\n",
    "            \n",
    "        return result"
   ]
  },
  {
   "cell_type": "markdown",
   "id": "775a2eca-6712-46f5-a5db-23aa59b35517",
   "metadata": {},
   "source": [
    "####   Longest Substring with At Most K Distinct Characters"
   ]
  },
  {
   "cell_type": "code",
   "execution_count": 51,
   "id": "196425db-e07a-4b2e-bcc8-6fd04b3f37fc",
   "metadata": {},
   "outputs": [],
   "source": [
    "def lengthOfLongestSubstringKDistinct(s: str, k: int) -> int:\n",
    "        n = len(s)\n",
    "        if n * k == 0:\n",
    "            return 0\n",
    "\n",
    "        # sliding window left and right pointers\n",
    "        left, right = 0, 0\n",
    "        # hashmap character -> its rightmost position\n",
    "        # in the sliding window\n",
    "        hashmap = defaultdict()\n",
    "\n",
    "        max_len = 1\n",
    "\n",
    "        while right < n:\n",
    "            # add new character and move right pointer\n",
    "            hashmap[s[right]] = right\n",
    "            right += 1\n",
    "\n",
    "            if len(hashmap) == k + 1:\n",
    "                # delete the leftmost character\n",
    "                del_idx = min(hashmap.values())\n",
    "                del hashmap[s[del_idx]]\n",
    "                # move left pointer of the slidewindow\n",
    "                left = del_idx + 1\n",
    "\n",
    "            max_len = max(max_len, right - left)\n",
    "\n",
    "        return max_len"
   ]
  },
  {
   "cell_type": "code",
   "execution_count": 53,
   "id": "f16cd37b-79f0-44b6-bed5-b7e5414ff140",
   "metadata": {},
   "outputs": [],
   "source": [
    "class Solution:\n",
    "    def validate_IPv4(self, IP: str) -> str:\n",
    "        nums = IP.split('.')\n",
    "        for x in nums:\n",
    "            # Validate integer in range (0, 255):\n",
    "            # 1. length of chunk is between 1 and 3\n",
    "            if len(x) == 0 or len(x) > 3:\n",
    "                return \"Neither\"\n",
    "            # 2. no extra leading zeros\n",
    "            # 3. only digits are allowed\n",
    "            # 4. less than 255\n",
    "            if x[0] == '0' and len(x) != 1 or not x.isdigit() or int(x) > 255:\n",
    "                return \"Neither\"\n",
    "        return \"IPv4\"\n",
    "    \n",
    "    def validate_IPv6(self, IP: str) -> str:\n",
    "        nums = IP.split(':')\n",
    "        hexdigits = '0123456789abcdefABCDEF'\n",
    "        for x in nums:\n",
    "            # Validate hexadecimal in range (0, 2**16):\n",
    "            # 1. at least one and not more than 4 hexdigits in one chunk\n",
    "            # 2. only hexdigits are allowed: 0-9, a-f, A-F\n",
    "            if len(x) == 0 or len(x) > 4 or not all(c in hexdigits for c in x):\n",
    "                return \"Neither\"\n",
    "        return \"IPv6\"\n",
    "        \n",
    "    def validIPAddress(self, IP: str) -> str:\n",
    "        if IP.count('.') == 3:\n",
    "            return self.validate_IPv4(IP)\n",
    "        elif IP.count(':') == 7:\n",
    "            return self.validate_IPv6(IP)\n",
    "        else:\n",
    "            return \"Neither\""
   ]
  },
  {
   "cell_type": "code",
   "execution_count": null,
   "id": "37a0f620-ed63-4bb4-bdd9-7cbb1662b0f1",
   "metadata": {},
   "outputs": [],
   "source": [
    "#### after removing 1 character\n",
    "\n",
    "\n",
    "def validPalindrome(s: str) -> bool:\n",
    "    def check_palindrome(s, i, j):\n",
    "        while i < j:\n",
    "            if s[i] != s[j]:\n",
    "                return False\n",
    "            i += 1\n",
    "            j -= 1\n",
    "\n",
    "        return True\n",
    "\n",
    "    i = 0\n",
    "    j = len(s) - 1\n",
    "    while i < j:\n",
    "        # Found a mismatched pair - try both deletions\n",
    "        if s[i] != s[j]:\n",
    "            return check_palindrome(s, i, j - 1) or check_palindrome(s, i + 1, j)\n",
    "        i += 1\n",
    "        j -= 1\n",
    "\n",
    "    return True"
   ]
  },
  {
   "cell_type": "code",
   "execution_count": null,
   "id": "e3d11518-64d6-4d7e-8492-45538193abcf",
   "metadata": {},
   "outputs": [],
   "source": []
  },
  {
   "cell_type": "code",
   "execution_count": null,
   "id": "8c47ce5f-ee72-438c-910e-ee7bd5abb55d",
   "metadata": {},
   "outputs": [],
   "source": []
  }
 ],
 "metadata": {
  "kernelspec": {
   "display_name": "Python 3 (ipykernel)",
   "language": "python",
   "name": "python3"
  },
  "language_info": {
   "codemirror_mode": {
    "name": "ipython",
    "version": 3
   },
   "file_extension": ".py",
   "mimetype": "text/x-python",
   "name": "python",
   "nbconvert_exporter": "python",
   "pygments_lexer": "ipython3",
   "version": "3.9.12"
  },
  "toc-autonumbering": false,
  "toc-showcode": true,
  "toc-showmarkdowntxt": false
 },
 "nbformat": 4,
 "nbformat_minor": 5
}
