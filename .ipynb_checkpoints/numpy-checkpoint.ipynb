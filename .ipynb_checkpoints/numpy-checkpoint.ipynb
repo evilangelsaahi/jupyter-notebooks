{
 "cells": [
  {
   "cell_type": "code",
   "execution_count": 36,
   "id": "ee7ed552-b443-4837-a398-39a95e44f5e0",
   "metadata": {},
   "outputs": [],
   "source": [
    "import numpy as np"
   ]
  },
  {
   "cell_type": "code",
   "execution_count": 37,
   "id": "df45372c-0ef2-48be-8907-cb43401c86a9",
   "metadata": {},
   "outputs": [],
   "source": [
    "num = [[1,2,3],[4,5,6]]"
   ]
  },
  {
   "cell_type": "code",
   "execution_count": 38,
   "id": "f57e105f-3048-40ef-87b1-7160bfefb6cb",
   "metadata": {},
   "outputs": [],
   "source": [
    "num = np.array(num)"
   ]
  },
  {
   "cell_type": "code",
   "execution_count": 39,
   "id": "637fd2bf-4514-4547-9566-0035d1396ab8",
   "metadata": {},
   "outputs": [
    {
     "data": {
      "text/plain": [
       "(2, 3)"
      ]
     },
     "execution_count": 39,
     "metadata": {},
     "output_type": "execute_result"
    }
   ],
   "source": [
    "num.shape"
   ]
  },
  {
   "cell_type": "code",
   "execution_count": 40,
   "id": "7d6cae4a-eb0a-43a0-9208-d51b97175080",
   "metadata": {},
   "outputs": [
    {
     "name": "stdout",
     "output_type": "stream",
     "text": [
      "[[1 2 3]\n",
      " [4 5 6]]\n"
     ]
    }
   ],
   "source": [
    "print(num)"
   ]
  },
  {
   "cell_type": "code",
   "execution_count": 41,
   "id": "98a9161f-ade6-47a3-b21b-ac5142317345",
   "metadata": {},
   "outputs": [
    {
     "data": {
      "text/plain": [
       "array([0., 0., 0., 0., 0.])"
      ]
     },
     "execution_count": 41,
     "metadata": {},
     "output_type": "execute_result"
    }
   ],
   "source": [
    "np.zeros(5)"
   ]
  },
  {
   "cell_type": "code",
   "execution_count": 42,
   "id": "f4d3bdcf-6a65-4603-af25-3d4045685305",
   "metadata": {},
   "outputs": [
    {
     "data": {
      "text/plain": [
       "array([[0., 0., 0.],\n",
       "       [0., 0., 0.]])"
      ]
     },
     "execution_count": 42,
     "metadata": {},
     "output_type": "execute_result"
    }
   ],
   "source": [
    "np.zeros((2,3))"
   ]
  },
  {
   "cell_type": "code",
   "execution_count": 43,
   "id": "c9b53e5a-d675-4973-9664-03040d62f9ad",
   "metadata": {},
   "outputs": [
    {
     "data": {
      "text/plain": [
       "array([[1., 0., 0., 0.],\n",
       "       [0., 1., 0., 0.],\n",
       "       [0., 0., 1., 0.],\n",
       "       [0., 0., 0., 1.]])"
      ]
     },
     "execution_count": 43,
     "metadata": {},
     "output_type": "execute_result"
    }
   ],
   "source": [
    "np.eye(4)"
   ]
  },
  {
   "cell_type": "code",
   "execution_count": 44,
   "id": "1923dd13-faea-4cb6-bb2e-39bd3d562f92",
   "metadata": {},
   "outputs": [
    {
     "data": {
      "text/plain": [
       "array([12, 13, 10, 14])"
      ]
     },
     "execution_count": 44,
     "metadata": {},
     "output_type": "execute_result"
    }
   ],
   "source": [
    "# random integers between a range\n",
    "np.random.randint(1,15,4)"
   ]
  },
  {
   "cell_type": "code",
   "execution_count": 45,
   "id": "aa3631f3-6109-4b3c-a1f0-d72cc73825a9",
   "metadata": {},
   "outputs": [
    {
     "data": {
      "text/plain": [
       "array([[1, 0, 0, 0],\n",
       "       [0, 2, 0, 0],\n",
       "       [0, 0, 3, 0],\n",
       "       [0, 0, 0, 4]])"
      ]
     },
     "execution_count": 45,
     "metadata": {},
     "output_type": "execute_result"
    }
   ],
   "source": [
    "# diagonal matrix\n",
    "np.diag([1,2,3,4])"
   ]
  },
  {
   "cell_type": "code",
   "execution_count": 46,
   "id": "e97b1093-877f-4a8b-aecd-8ed99e96849d",
   "metadata": {},
   "outputs": [
    {
     "name": "stdout",
     "output_type": "stream",
     "text": [
      "[19 14 10 11]\n"
     ]
    }
   ],
   "source": [
    "np.random.seed(10)\n",
    "rand_num = np.random.randint(10,20,4)\n",
    "print(rand_num)"
   ]
  },
  {
   "cell_type": "code",
   "execution_count": 77,
   "id": "d8710396-e18f-41f9-9df1-7523e1387f5c",
   "metadata": {},
   "outputs": [],
   "source": [
    "# size= is tuple with size 3d, 2d and 1d\n",
    "# first parameter is number of arrays for 3d otheriwse\n",
    "# row X columns\n",
    "array_3d = np.random.randint(1, 10, size=(2,3,3))"
   ]
  },
  {
   "cell_type": "code",
   "execution_count": 78,
   "id": "3e4c6477-4a64-4320-bfda-49e2cb7e0985",
   "metadata": {},
   "outputs": [
    {
     "name": "stdout",
     "output_type": "stream",
     "text": [
      "[[[3 1 5]\n",
      "  [6 5 7]\n",
      "  [1 5 7]]\n",
      "\n",
      " [[5 9 1]\n",
      "  [8 2 8]\n",
      "  [2 2 6]]]\n"
     ]
    }
   ],
   "source": [
    "print(array_3d)"
   ]
  },
  {
   "cell_type": "code",
   "execution_count": 95,
   "id": "41f5d56b-453a-4eb0-8d9c-dec81305bed5",
   "metadata": {},
   "outputs": [
    {
     "data": {
      "text/plain": [
       "array([[0, 1, 2],\n",
       "       [3, 4, 5],\n",
       "       [6, 7, 8]])"
      ]
     },
     "execution_count": 95,
     "metadata": {},
     "output_type": "execute_result"
    }
   ],
   "source": [
    "# start parameter is not required, stop is reqired\n",
    "# 3rd param step is optional too\n",
    "#np.arange(9).reshape(3,3)\n",
    "np.arange(0,9,1).reshape(3,3)"
   ]
  },
  {
   "cell_type": "code",
   "execution_count": 102,
   "id": "02f478bc-787b-4abf-a47f-e98ad3b78ccf",
   "metadata": {},
   "outputs": [
    {
     "data": {
      "text/plain": [
       "array([[[0.23790885, 0.24518122, 0.66259289],\n",
       "        [0.34850521, 0.38484321, 0.8204148 ],\n",
       "        [0.89502231, 0.27295464, 0.87500905]],\n",
       "\n",
       "       [[0.87807834, 0.7863288 , 0.00560908],\n",
       "        [0.25295794, 0.19336645, 0.41092213],\n",
       "        [0.44670616, 0.79374467, 0.7232333 ]]])"
      ]
     },
     "execution_count": 102,
     "metadata": {},
     "output_type": "execute_result"
    }
   ],
   "source": [
    "# random number between 0 and 1\n",
    "np.random.rand(2,3,3)"
   ]
  },
  {
   "cell_type": "code",
   "execution_count": 104,
   "id": "84eba87d-8161-4828-a1dc-111465911afa",
   "metadata": {},
   "outputs": [],
   "source": [
    "array_exmp= np.array([[1,2],[4,5]])"
   ]
  },
  {
   "cell_type": "code",
   "execution_count": 107,
   "id": "3f4fe7fe-42df-4dfe-b5e6-2dcd3e2df583",
   "metadata": {},
   "outputs": [
    {
     "data": {
      "text/plain": [
       "2"
      ]
     },
     "execution_count": 107,
     "metadata": {},
     "output_type": "execute_result"
    }
   ],
   "source": [
    "array_exmp[0][1]"
   ]
  },
  {
   "cell_type": "code",
   "execution_count": 111,
   "id": "867fb1a1-961e-4f85-b521-ff6ad6713940",
   "metadata": {},
   "outputs": [
    {
     "data": {
      "text/plain": [
       "array([], dtype=int64)"
      ]
     },
     "execution_count": 111,
     "metadata": {},
     "output_type": "execute_result"
    }
   ],
   "source": [
    "array_exmp[array_exmp==6]"
   ]
  },
  {
   "cell_type": "code",
   "execution_count": 113,
   "id": "222ce171-2042-46c6-ad75-c4c22df847c6",
   "metadata": {},
   "outputs": [
    {
     "data": {
      "text/plain": [
       "14"
      ]
     },
     "execution_count": 113,
     "metadata": {},
     "output_type": "execute_result"
    }
   ],
   "source": [
    "# Dot product\n",
    "f = np.array([1,2])\n",
    "g = np.array([4,5])\n",
    "### 1*4+2*5 = 14\n",
    "np.dot(f, g)"
   ]
  },
  {
   "cell_type": "code",
   "execution_count": 118,
   "id": "44ef0d2c-4c95-4a9e-9c58-0e19b8614ba9",
   "metadata": {},
   "outputs": [
    {
     "name": "stdout",
     "output_type": "stream",
     "text": [
      "array of z value is : \n",
      " [[1 2]\n",
      " [3 4]\n",
      " [5 6]]\n"
     ]
    }
   ],
   "source": [
    "x=np.array([[1,2],[3,4]])\n",
    "y=np.array([[5,6]])\n",
    "z=np.concatenate((x,y))\n",
    "\n",
    "print('array of z value is : \\n', z)"
   ]
  },
  {
   "cell_type": "code",
   "execution_count": 120,
   "id": "e1063519-b6ed-480f-897c-7a5141901ae9",
   "metadata": {},
   "outputs": [
    {
     "name": "stdout",
     "output_type": "stream",
     "text": [
      "\n",
      "array of z value is with o axis : [1 2 3 4 5 6]\n"
     ]
    }
   ],
   "source": [
    "x=np.array([[1,2],[3,4]])\n",
    "y=np.array([[5,6]])\n",
    "z=np.concatenate((x,y),axis=None) #\n",
    "\n",
    "print('\\narray of z value is with o axis :',z) \n",
    "# [ 1 2 3 4 5 6]\n",
    "\n"
   ]
  },
  {
   "cell_type": "code",
   "execution_count": 123,
   "id": "b62447a2-320c-4f57-9f5f-0e477b51d641",
   "metadata": {},
   "outputs": [
    {
     "name": "stdout",
     "output_type": "stream",
     "text": [
      "Input probability :  [0.23, 0.09, 1.2, 1.24, 9.99]\n",
      "Output probability :  [0. 0. 1. 1. 9.]\n"
     ]
    }
   ],
   "source": [
    "arr_num = [0.23, 0.09, 1.2, 1.24, 9.99]\n",
    "print('Input probability : ',arr_num)\n",
    "out_arr = np.fix(arr_num)\n",
    "print('Output probability : ',out_arr)\n",
    "\n"
   ]
  },
  {
   "cell_type": "code",
   "execution_count": 126,
   "id": "06699e91-009e-4d89-999f-4d68b0050970",
   "metadata": {},
   "outputs": [
    {
     "name": "stdout",
     "output_type": "stream",
     "text": [
      "\n",
      " sorting of numpy array : \n",
      " [[2 5 6]\n",
      " [1 8 9]]\n"
     ]
    }
   ],
   "source": [
    " num_arr = np.array([[5,6,2],[9,8,1]])\n",
    "print('\\n sorting of numpy array : \\n'\n",
    "      ,np.sort(num_arr))"
   ]
  },
  {
   "cell_type": "code",
   "execution_count": 131,
   "id": "efb71e67-5ba7-4a7d-8ab5-f436651deece",
   "metadata": {},
   "outputs": [
    {
     "name": "stdout",
     "output_type": "stream",
     "text": [
      "\n",
      " result \n",
      " [[ 9 16 21]\n",
      " [24 25 24]\n",
      " [21 16  9]]\n"
     ]
    }
   ],
   "source": [
    "array1=np.array([[1,2,3],[4,5,6],[7,8,9]],ndmin=2)\n",
    "array2=np.array([[9,8,7],[6,5,4],[3,2,1]],ndmin=2)\n",
    "result=np.multiply(array1,array2)\n",
    "print('\\n result \\n',result)"
   ]
  },
  {
   "cell_type": "code",
   "execution_count": 135,
   "id": "4371b342-c14f-4d8d-86e3-688ae9207ca5",
   "metadata": {},
   "outputs": [
    {
     "name": "stdout",
     "output_type": "stream",
     "text": [
      "\n",
      " append function with axis = 0\n",
      " [[ 1  2  3]\n",
      " [ 4  5  6]\n",
      " [ 7  8  9]\n",
      " [11 21 31]\n",
      " [42 52 62]\n",
      " [73 83 93]]\n"
     ]
    }
   ],
   "source": [
    "# axis 0 = rows, 1 = columns\n",
    "a=np.array([[1, 2, 3], [4, 5, 6], [7, 8, 9]])\n",
    "b=np.array([[11, 21, 31], [42, 52, 62], [73, 83, 93]])\n",
    "c=np.append(a,b,axis=0)\n",
    "print('\\n append function with axis = 0\\n',c)"
   ]
  },
  {
   "cell_type": "code",
   "execution_count": 141,
   "id": "0e197c4f-3784-47a6-a9b0-1c5951a62c1a",
   "metadata": {},
   "outputs": [
    {
     "name": "stdout",
     "output_type": "stream",
     "text": [
      "[[1 2]\n",
      " [4 5]\n",
      " [7 8]]\n",
      "[[1 4 7]\n",
      " [2 5 8]]\n"
     ]
    }
   ],
   "source": [
    "# transpose\n",
    "aa= np.array([[1,2],[4,5],[7,8]])\n",
    "print(aa)\n",
    "bb=np.transpose(aa, (1,0))\n",
    "print(bb)"
   ]
  },
  {
   "cell_type": "code",
   "execution_count": 164,
   "id": "bc83f870-6dcd-4332-a223-1264c7fe4b4f",
   "metadata": {},
   "outputs": [
    {
     "name": "stdout",
     "output_type": "stream",
     "text": [
      "\n",
      " [[[1 7 5]\n",
      "  [8 2 6]\n",
      "  [2 4 7]]\n",
      "\n",
      " [[4 2 1]\n",
      "  [8 1 4]\n",
      "  [3 8 6]]]\n"
     ]
    },
    {
     "data": {
      "text/plain": [
       "array([[[1, 4],\n",
       "        [8, 8],\n",
       "        [2, 3]],\n",
       "\n",
       "       [[7, 2],\n",
       "        [2, 1],\n",
       "        [4, 8]],\n",
       "\n",
       "       [[5, 1],\n",
       "        [6, 4],\n",
       "        [7, 6]]])"
      ]
     },
     "execution_count": 164,
     "metadata": {},
     "output_type": "execute_result"
    }
   ],
   "source": [
    "x = np.random.randint(1, 10, size=(2,3,3))\n",
    "print('\\n',x)\n",
    "np.transpose(x)\n"
   ]
  },
  {
   "cell_type": "code",
   "execution_count": 165,
   "id": "9bb7a779-bfcc-4adc-b6a7-5163fbcec186",
   "metadata": {},
   "outputs": [
    {
     "data": {
      "text/plain": [
       "array([1, 3, 5, 7, 9])"
      ]
     },
     "execution_count": 165,
     "metadata": {},
     "output_type": "execute_result"
    }
   ],
   "source": [
    "# Extract all odd numbers from arr\n",
    "\n",
    "# Input\n",
    "arr = np.array([0, 1, 2, 3, 4, 5, 6, 7, 8, 9])\n",
    "\n",
    "# Solution\n",
    "arr[arr % 2 == 1]\n",
    "\n",
    "# Output: array([1, 3, 5, 7, 9])"
   ]
  },
  {
   "cell_type": "code",
   "execution_count": 169,
   "id": "25662c6f-60ed-4230-a736-be27ede4e66b",
   "metadata": {},
   "outputs": [
    {
     "name": "stdout",
     "output_type": "stream",
     "text": [
      "[0 1 2 3 4 5 6 7 8 9]\n"
     ]
    },
    {
     "data": {
      "text/plain": [
       "array([ 0, -1,  2, -1,  4, -1,  6, -1,  8, -1])"
      ]
     },
     "execution_count": 169,
     "metadata": {},
     "output_type": "execute_result"
    }
   ],
   "source": [
    "arr = np.arange(10)\n",
    "out = np.where(arr % 2 == 1, -1, arr)\n",
    "print(arr)\n",
    "out"
   ]
  },
  {
   "cell_type": "code",
   "execution_count": 171,
   "id": "05d3948e-d5b7-4fd9-b277-ae47d2082f52",
   "metadata": {},
   "outputs": [
    {
     "data": {
      "text/plain": [
       "array([0, 1, 0, 1, 0, 1, 0, 1, 0, 1])"
      ]
     },
     "execution_count": 171,
     "metadata": {},
     "output_type": "execute_result"
    }
   ],
   "source": [
    "arr % 2"
   ]
  },
  {
   "cell_type": "code",
   "execution_count": 185,
   "id": "f6a6bbf8-ad05-4795-b992-66927edd60f3",
   "metadata": {},
   "outputs": [
    {
     "name": "stdout",
     "output_type": "stream",
     "text": [
      "[[0 1 2 3 4]\n",
      " [5 6 7 8 9]] \n",
      "\n",
      "[[5 5 5 5 5]\n",
      " [5 5 5 5 5]] \n",
      "\n",
      "[[0 1 2 3 4]\n",
      " [5 6 7 8 9]\n",
      " [5 5 5 5 5]\n",
      " [5 5 5 5 5]] \n",
      "\n",
      "[[0 1 2 3 4]\n",
      " [5 6 7 8 9]\n",
      " [5 5 5 5 5]\n",
      " [5 5 5 5 5]] \n",
      "\n",
      "[[0 1 2 3 4]\n",
      " [5 6 7 8 9]\n",
      " [5 5 5 5 5]\n",
      " [5 5 5 5 5]] \n",
      "\n"
     ]
    }
   ],
   "source": [
    "a = np.arange(10).reshape(2,-1)\n",
    "b = np.repeat(5, 10).reshape(2,-1)\n",
    "\n",
    "print(a,'\\n')\n",
    "print(b, '\\n')\n",
    "# Answers\n",
    "# Method 1:\n",
    "print(np.concatenate([a, b], axis=0), '\\n')\n",
    "\n",
    "# Method 2:\n",
    "print(np.vstack([a, b]), '\\n')\n",
    "\n",
    "# Method 3:\n",
    "print(np.r_[a, b], '\\n')"
   ]
  },
  {
   "cell_type": "code",
   "execution_count": 187,
   "id": "5bb2671f-208b-4696-926b-545ef04a45a0",
   "metadata": {},
   "outputs": [
    {
     "name": "stdout",
     "output_type": "stream",
     "text": [
      "[[0 1 2 3 4 5 5 5 5 5]\n",
      " [5 6 7 8 9 5 5 5 5 5]] \n",
      "\n"
     ]
    }
   ],
   "source": [
    "# concatenate horizontally\n",
    "print(np.concatenate([a, b], axis=1), '\\n')"
   ]
  },
  {
   "cell_type": "code",
   "execution_count": 188,
   "id": "84268fad-138a-481d-acd6-778f85c606ca",
   "metadata": {},
   "outputs": [
    {
     "data": {
      "text/plain": [
       "array([2, 4])"
      ]
     },
     "execution_count": 188,
     "metadata": {},
     "output_type": "execute_result"
    }
   ],
   "source": [
    "# How to get the common items between two python numpy arrays?\n",
    "\n",
    "a = np.array([1,2,3,2,3,4,3,4,5,6])\n",
    "b = np.array([7,2,10,2,7,4,9,4,9,8])\n",
    "np.intersect1d(a,b)"
   ]
  },
  {
   "cell_type": "code",
   "execution_count": 191,
   "id": "129c5ef0-6302-4bd1-b7d0-31ce053b7804",
   "metadata": {},
   "outputs": [
    {
     "data": {
      "text/plain": [
       "array([1, 2, 3, 4])"
      ]
     },
     "execution_count": 191,
     "metadata": {},
     "output_type": "execute_result"
    }
   ],
   "source": [
    "a = np.array([1,2,3,4,5])\n",
    "b = np.array([5,6,7,12,9])\n",
    "\n",
    "# From 'a' remove all of 'b'\n",
    "np.setdiff1d(a,b)\n"
   ]
  },
  {
   "cell_type": "code",
   "execution_count": 192,
   "id": "46493608-1ca5-462d-8d30-20005e76f6ba",
   "metadata": {},
   "outputs": [
    {
     "data": {
      "text/plain": [
       "(array([1, 3, 5, 7]),)"
      ]
     },
     "execution_count": 192,
     "metadata": {},
     "output_type": "execute_result"
    }
   ],
   "source": [
    "# How to get the positions where elements of two arrays match?\n",
    "\n",
    "a = np.array([1,2,3,2,3,4,3,4,5,6])\n",
    "b = np.array([7,2,10,2,7,4,9,4,9,8])\n",
    "\n",
    "np.where(a == b)"
   ]
  },
  {
   "cell_type": "code",
   "execution_count": 194,
   "id": "6ffbb4b2-8741-40ba-bcb8-ca768d8fbb3a",
   "metadata": {},
   "outputs": [
    {
     "name": "stdout",
     "output_type": "stream",
     "text": [
      "[ 0  1  2  3  4  5  6  7  8  9 10 11 12 13 14]\n",
      "[ 5  6  7  8  9 10]\n",
      "[ 5  6  7  8  9 10]\n"
     ]
    }
   ],
   "source": [
    "a = np.arange(15)\n",
    "print(a)\n",
    "# Method 1\n",
    "index = np.where((a >= 5) & (a <= 10))\n",
    "print(a[index])\n",
    "\n",
    "# Method 2:\n",
    "index = np.where(np.logical_and(a>=5, a<=10))\n",
    "print(a[index])"
   ]
  },
  {
   "cell_type": "code",
   "execution_count": 197,
   "id": "ffe77b0f-9b26-4e62-9c4c-70838acdb870",
   "metadata": {},
   "outputs": [
    {
     "data": {
      "text/plain": [
       "array([[2, 1, 0],\n",
       "       [5, 4, 3],\n",
       "       [8, 7, 6]])"
      ]
     },
     "execution_count": 197,
     "metadata": {},
     "output_type": "execute_result"
    }
   ],
   "source": [
    "# How to swap two columns in a 2D numpy array?\n",
    "\n",
    "# Input\n",
    "arr = np.arange(9).reshape(3,3)\n",
    "arr\n",
    "\n",
    "# Solution\n",
    "arr[:, [2,1,0]]"
   ]
  },
  {
   "cell_type": "code",
   "execution_count": 198,
   "id": "59385a46-1940-484e-9796-7ed1094c925e",
   "metadata": {},
   "outputs": [
    {
     "data": {
      "text/plain": [
       "array([[3, 4, 5],\n",
       "       [0, 1, 2],\n",
       "       [6, 7, 8]])"
      ]
     },
     "execution_count": 198,
     "metadata": {},
     "output_type": "execute_result"
    }
   ],
   "source": [
    "# How to swap two rows in a 2d numpy array?\n",
    "\n",
    "# Input\n",
    "arr = np.arange(9).reshape(3,3)\n",
    "\n",
    "# Solution\n",
    "arr[[1,0,2], :]"
   ]
  },
  {
   "cell_type": "code",
   "execution_count": null,
   "id": "b9c0cb77-d0cb-4cab-b0f2-1193d17d9117",
   "metadata": {},
   "outputs": [],
   "source": []
  },
  {
   "cell_type": "code",
   "execution_count": 23,
   "id": "8c470426-33e0-423b-af40-49aa69ad37c5",
   "metadata": {},
   "outputs": [
    {
     "name": "stdout",
     "output_type": "stream",
     "text": [
      "5\n"
     ]
    }
   ],
   "source": [
    "ratings = [2,1,3]\n",
    "\n",
    "rankings(ratings)"
   ]
  },
  {
   "cell_type": "code",
   "execution_count": 29,
   "id": "9c958b08-a510-46c4-937a-f8195b92f3a7",
   "metadata": {},
   "outputs": [
    {
     "name": "stdout",
     "output_type": "stream",
     "text": [
      "7\n"
     ]
    }
   ],
   "source": [
    "ratings = [0,2,3,4]\n",
    "rankings(ratings)"
   ]
  },
  {
   "cell_type": "code",
   "execution_count": 27,
   "id": "47af74f7-235e-44dc-ad57-f615a23220a7",
   "metadata": {},
   "outputs": [],
   "source": [
    "import copy\n",
    "def rankings(ratings):\n",
    "    z = copy.copy(ratings)\n",
    "    z.append('inf')\n",
    "    gems = len(ratings)\n",
    "    \n",
    "    for i in range(len(ratings)):\n",
    "        if ratings[i] == 'inf': break\n",
    "        \n",
    "        elif ratings[i] != z[i+1]:\n",
    "            gems+=1\n",
    "        else:\n",
    "            pass\n",
    "    gems = gems-1\n",
    "    print(gems)"
   ]
  },
  {
   "cell_type": "code",
   "execution_count": null,
   "id": "885c1ba1-6e2e-4d3b-bc3b-bb51e465332c",
   "metadata": {},
   "outputs": [],
   "source": []
  },
  {
   "cell_type": "code",
   "execution_count": 30,
   "id": "af9655e9-ed43-45ef-b54e-52f05b908311",
   "metadata": {},
   "outputs": [
    {
     "ename": "NameError",
     "evalue": "name 'handle_a' is not defined",
     "output_type": "error",
     "traceback": [
      "\u001b[0;31m---------------------------------------------------------------------------\u001b[0m",
      "\u001b[0;31mNameError\u001b[0m                                 Traceback (most recent call last)",
      "\u001b[0;32m/var/folders/45/hnnz1xdn3476wb54b2qkmn6c0000gn/T/ipykernel_72945/835342974.py\u001b[0m in \u001b[0;36m<module>\u001b[0;34m\u001b[0m\n\u001b[1;32m     12\u001b[0m \u001b[0;34m\u001b[0m\u001b[0m\n\u001b[1;32m     13\u001b[0m \u001b[0mcond\u001b[0m\u001b[0;34m=\u001b[0m\u001b[0;34m'condition_a'\u001b[0m\u001b[0;34m\u001b[0m\u001b[0;34m\u001b[0m\u001b[0m\n\u001b[0;32m---> 14\u001b[0;31m \u001b[0mprint\u001b[0m \u001b[0;34m(\u001b[0m\u001b[0moptimize_ifelse\u001b[0m\u001b[0;34m(\u001b[0m\u001b[0mcond\u001b[0m\u001b[0;34m)\u001b[0m\u001b[0;34m)\u001b[0m\u001b[0;34m\u001b[0m\u001b[0;34m\u001b[0m\u001b[0m\n\u001b[0m\u001b[1;32m     15\u001b[0m \u001b[0;34m\u001b[0m\u001b[0m\n\u001b[1;32m     16\u001b[0m \u001b[0;34m\u001b[0m\u001b[0m\n",
      "\u001b[0;32m/var/folders/45/hnnz1xdn3476wb54b2qkmn6c0000gn/T/ipykernel_72945/835342974.py\u001b[0m in \u001b[0;36moptimize_ifelse\u001b[0;34m(cond)\u001b[0m\n\u001b[1;32m      2\u001b[0m \u001b[0;34m\u001b[0m\u001b[0m\n\u001b[1;32m      3\u001b[0m     switcher = {\n\u001b[0;32m----> 4\u001b[0;31m         \u001b[0;34m'condition_a'\u001b[0m\u001b[0;34m:\u001b[0m \u001b[0mhandle_a\u001b[0m\u001b[0;34m(\u001b[0m\u001b[0;34m)\u001b[0m\u001b[0;34m,\u001b[0m\u001b[0;34m\u001b[0m\u001b[0;34m\u001b[0m\u001b[0m\n\u001b[0m\u001b[1;32m      5\u001b[0m         \u001b[0;34m'condition_b'\u001b[0m\u001b[0;34m:\u001b[0m \u001b[0mhandle_b\u001b[0m\u001b[0;34m(\u001b[0m\u001b[0;34m)\u001b[0m\u001b[0;34m,\u001b[0m\u001b[0;34m\u001b[0m\u001b[0;34m\u001b[0m\u001b[0m\n\u001b[1;32m      6\u001b[0m \u001b[0;34m\u001b[0m\u001b[0m\n",
      "\u001b[0;31mNameError\u001b[0m: name 'handle_a' is not defined"
     ]
    }
   ],
   "source": [
    "def optimize_ifelse(cond):\n",
    "\n",
    "    switcher = {\n",
    "        'condition_a': handle_a(),\n",
    "        'condition_b': handle_b(),\n",
    "\n",
    "    }\n",
    "    return switcher.get(cond, handle_default())\n",
    "\n",
    "\n",
    "# In this example below, we are passing cond = 'condition_a' and we call the optimized function \"optimize_ifelse\", it will try to match this value with keys in the switcher and would call the appropriate function. if nothing matches, it will call handle_default() function which is equivalent to else statement in the question above. This way the code is more optimized and clean.\n",
    "\n",
    "cond='condition_a'\n",
    "print (optimize_ifelse(cond))\n",
    " \n",
    "\n"
   ]
  },
  {
   "cell_type": "code",
   "execution_count": null,
   "id": "8d49ed05-6d65-4d05-bc59-d7c7a232c81c",
   "metadata": {},
   "outputs": [],
   "source": []
  },
  {
   "cell_type": "code",
   "execution_count": null,
   "id": "f7b9be1c-40f6-46f8-95a7-0c218931d903",
   "metadata": {},
   "outputs": [],
   "source": [
    "import copy\n",
    "import numpy as np\n",
    "\n",
    "def sorted_list(x):\n",
    "#   z = copy.copy(x)    \n",
    "#   y = []\n",
    "\n",
    "    \"\"\"y = np.array(x)\n",
    "    indexes = np.argsort(y)\n",
    "    print(indexes)\n",
    "        \"\"\"\n",
    "    \n",
    "    z = []\n",
    "    for num in x:\n",
    "        z.append(num)\n",
    "    x.sort()\n",
    "    y = []\n",
    "    for num1 in z:\n",
    "        for num in x:\n",
    "            if num1 == num:\n",
    "                y.append(x.index(num1) + 1)\n",
    "    print(y)\n",
    "    \n",
    "sorted_list([6,3,16,1,11])\n",
    "\n"
   ]
  }
 ],
 "metadata": {
  "kernelspec": {
   "display_name": "Python 3 (ipykernel)",
   "language": "python",
   "name": "python3"
  },
  "language_info": {
   "codemirror_mode": {
    "name": "ipython",
    "version": 3
   },
   "file_extension": ".py",
   "mimetype": "text/x-python",
   "name": "python",
   "nbconvert_exporter": "python",
   "pygments_lexer": "ipython3",
   "version": "3.9.7"
  }
 },
 "nbformat": 4,
 "nbformat_minor": 5
}
