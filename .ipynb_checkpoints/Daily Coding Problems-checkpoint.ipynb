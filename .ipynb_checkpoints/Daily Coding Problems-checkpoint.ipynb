{
 "cells": [
  {
   "cell_type": "code",
   "execution_count": 21,
   "metadata": {},
   "outputs": [],
   "source": [
    "import numpy as np\n",
    "import random\n",
    "import itertools as it\n",
    "from functools import wraps, partial"
   ]
  },
  {
   "cell_type": "code",
   "execution_count": 22,
   "metadata": {},
   "outputs": [],
   "source": [
    "def is_prime(n):\n",
    "    if n in (2, 3):\n",
    "        return True\n",
    "    if n % 2 == 0:\n",
    "        return False\n",
    "    stop = round(n**0.5) + 1\n",
    "    for divisor in range(3, stop, 2):\n",
    "        if n % divisor == 0:\n",
    "            return False\n",
    "    return True"
   ]
  },
  {
   "cell_type": "markdown",
   "metadata": {},
   "source": [
    "## Day 1\n",
    "Good morning! Here's your coding interview problem for today.\n",
    "\n",
    "This problem was recently asked by Google.\n",
    "\n",
    "Given a list of numbers and a number k, return whether any two numbers from the list add up to k.\n",
    "\n",
    "For example, given [10, 15, 3, 7] and k of 17, return true since 10 + 7 is 17."
   ]
  },
  {
   "cell_type": "code",
   "execution_count": 4,
   "metadata": {},
   "outputs": [
    {
     "data": {
      "text/plain": [
       "(True, (10, 7))"
      ]
     },
     "execution_count": 4,
     "metadata": {},
     "output_type": "execute_result"
    }
   ],
   "source": [
    "#%%writefile day1.py\n",
    "import itertools as it\n",
    "def day1(A, k):\n",
    "    ac = it.combinations(A,2) # returns tuple of all possible combinations in given size \n",
    "    for i in ac:\n",
    "        if sum(i) == k:\n",
    "            return (True, i)\n",
    "    else:\n",
    "        return False\n",
    "\n",
    "a = [10, 15, 3, 7]\n",
    "day1(a, 17)"
   ]
  },
  {
   "cell_type": "markdown",
   "metadata": {},
   "source": [
    "## Day 99\n",
    "Good morning! Here's your coding interview problem for today.\n",
    "\n",
    "This problem was asked by Microsoft.\n",
    "\n",
    "Given an unsorted array of integers, find the length of the longest consecutive elements sequence.\n",
    "\n",
    "For example, given [100, 4, 200, 1, 3, 2], the longest consecutive element sequence is [1, 2, 3, 4]. Return its length: 4.\n",
    "\n",
    "Your algorithm should run in O(n) complexity."
   ]
  },
  {
   "cell_type": "code",
   "execution_count": 6,
   "metadata": {},
   "outputs": [
    {
     "data": {
      "text/plain": [
       "4"
      ]
     },
     "execution_count": 6,
     "metadata": {},
     "output_type": "execute_result"
    }
   ],
   "source": [
    "def consecutive(nums):\n",
    "    nums = set(nums)\n",
    "    best = 0\n",
    "    for x in nums:\n",
    "        if x - 1 not in nums:\n",
    "            y = x + 1\n",
    "            while y in nums:\n",
    "                y += 1\n",
    "            best = max(best, y - x)\n",
    "    return best\n",
    "\n",
    "\n",
    "consecutive([100, 4, 200, 2, 1, 3])"
   ]
  },
  {
   "cell_type": "markdown",
   "metadata": {},
   "source": [
    "## Sliding window\n",
    "You are given a string s and an array of strings words of the same length. Return all starting indices of substring(s) in s that is a concatenation of each word in words exactly once, in any order, and without any intervening characters.\n",
    "\n",
    "You can return the answer in any order.\n",
    "\n"
   ]
  },
  {
   "cell_type": "code",
   "execution_count": 11,
   "metadata": {},
   "outputs": [
    {
     "data": {
      "text/plain": [
       "[6, 9, 12]"
      ]
     },
     "execution_count": 11,
     "metadata": {},
     "output_type": "execute_result"
    }
   ],
   "source": [
    "import itertools as it\n",
    "import collections\n",
    "def findSubstring(s: str, words: 'List[str]') -> 'List[int]':\n",
    "        if not words:\n",
    "            return []\n",
    "        \n",
    "        word_len, res = len(words[0]), []\n",
    "        \n",
    "        # start offset from 0 to word_len, and step is word_len\n",
    "        for i in range(word_len):\n",
    "            # reset state every epoch\n",
    "\t\t\t# counter maintain current state\n",
    "            counter = collections.Counter(words)\n",
    "\t\t\t# two-pointer as boundary of sliding window to traverse, and count as condition checker, update it when trigger some key changes\n",
    "            start, end, count = i, i, len(words)\n",
    "            while end < len(s):\n",
    "                cur_word = s[end:end + word_len]\n",
    "                # check is not necessary here, just for performance\n",
    "                if cur_word in counter:\n",
    "                    counter[cur_word] -= 1\n",
    "                    if counter[cur_word] >= 0:\n",
    "                        count -= 1\n",
    "                end += word_len\n",
    "\n",
    "                if count == 0:\n",
    "                    res.append(start)\n",
    "\n",
    "                # ensure consecutive words\n",
    "                if end - start == word_len * len(words):\n",
    "                    cur_word = s[start:start + word_len]\n",
    "                    if cur_word in counter:\n",
    "                        counter[cur_word] += 1\n",
    "                        if counter[cur_word] > 0:\n",
    "                            count += 1\n",
    "                    start += word_len\n",
    "\n",
    "        # the order is not necessary here\n",
    "        return res\n",
    "\n",
    "s = \"barfoothefoobarman\"\n",
    "words = [\"foo\",\"bar\"]\n",
    "\n",
    "s = \"wordgoodgoodgoodbestword\"\n",
    "words = [\"word\",\"good\",\"best\",\"word\"]\n",
    "\n",
    "s = \"barfoofoobarthefoobarman\"\n",
    "words = [\"bar\",\"foo\",\"the\"]\n",
    "findSubstring(s, words)"
   ]
  },
  {
   "cell_type": "code",
   "execution_count": 7,
   "metadata": {},
   "outputs": [
    {
     "data": {
      "text/plain": [
       "[0, 9]"
      ]
     },
     "execution_count": 7,
     "metadata": {},
     "output_type": "execute_result"
    }
   ],
   "source": [
    "from collections import Counter\n",
    "class Solution:\n",
    "    def findSubstring(self, s, words):\n",
    "        \"\"\"\n",
    "        :type s: str\n",
    "        :type words: List[str]\n",
    "        :rtype: List[int]\n",
    "        \"\"\"\n",
    "        if not s or not words:\n",
    "            return []\n",
    "        \n",
    "        word_map = Counter(words)\n",
    "        results = []\n",
    "        word_size = len(words[0])\n",
    "        num_word = len(words)\n",
    "        list_size = word_size*num_word\n",
    "        for i in range(len(s) - list_size + 1):\n",
    "            seen = dict(word_map)\n",
    "            word_used = 0\n",
    "            for j in range(i, i + list_size, word_size):\n",
    "                sub_str = s[j: j + word_size]\n",
    "                if sub_str in seen and seen[sub_str] > 0:\n",
    "                    seen[sub_str] -= 1\n",
    "                    word_used += 1\n",
    "                else:\n",
    "                    break\n",
    "            if word_used == num_word:\n",
    "                results.append(i)\n",
    "        return results\n",
    "\n",
    "\n",
    "s = \"barfoothefoobarman\"\n",
    "words = [\"foo\",\"bar\"]\n",
    "obj = Solution()\n",
    "obj.findSubstring(s, words )"
   ]
  },
  {
   "cell_type": "markdown",
   "metadata": {
    "tags": []
   },
   "source": [
    "## Day 100\n",
    "Good morning! Here's your coding interview problem for today.\n",
    "\n",
    "This problem was asked by Google.\n",
    "\n",
    "You are in an infinite 2D grid where you can move in any of the 8 directions:\n",
    "\n",
    " (x,y) to\n",
    "    (x+1, y),\n",
    "    (x - 1, y),\n",
    "    (x, y+1),\n",
    "    (x, y-1),\n",
    "    (x-1, y-1),\n",
    "    (x+1,y+1),\n",
    "    (x-1,y+1),\n",
    "    (x+1,y-1)\n",
    "You are given a sequence of points and the order in which you need to cover the points. Give the minimum number of steps in which you can achieve it. You start from the first point.\n",
    "\n",
    "Example:\n",
    "\n",
    "Input: [(0, 0), (1, 1), (1, 2)]\n",
    "Output: 2\n",
    "It takes 1 step to move from (0, 0) to (1, 1). It takes one more step to move from (1, 1) to (1, 2)."
   ]
  },
  {
   "cell_type": "code",
   "execution_count": null,
   "metadata": {},
   "outputs": [],
   "source": []
  },
  {
   "cell_type": "code",
   "execution_count": 20,
   "metadata": {},
   "outputs": [
    {
     "data": {
      "text/plain": [
       "14"
      ]
     },
     "execution_count": 20,
     "metadata": {},
     "output_type": "execute_result"
    }
   ],
   "source": [
    "def coverPoints(points: list):\n",
    "    \n",
    "    totalStep = 0\n",
    "\n",
    "    currentX, currentY = points[0] \n",
    "    for i in range(1, len(points)):\n",
    "        totalStep += max(abs(currentX - points[i][0] ), abs(currentY - points[i][1]))\n",
    "        currentX = points[i][0]\n",
    "        currentY = points[i][1]\n",
    "    return totalStep\n",
    "\n",
    "xypoints = [(0, 0), (1, 1), (1, 2)]\n",
    "\n",
    "xypoints = [(4, 6), (1, 2), (4, 5), (10, 12)]\n",
    "\n",
    "coverPoints(xypoints)"
   ]
  },
  {
   "cell_type": "markdown",
   "metadata": {},
   "source": [
    "## Day 101\n",
    "Good morning! Here's your coding interview problem for today.\n",
    "\n",
    "This problem was asked by Alibaba.\n",
    "\n",
    "Given an even number (greater than 2), return two prime numbers whose sum will be equal to the given number.\n",
    "\n",
    "A solution will always exist. See Goldbach’s conjecture.\n",
    "\n",
    "Example:\n",
    "\n",
    "Input: 4\n",
    "Output: 2 + 2 = 4\n",
    "If there are more than one solution possible, return the lexicographically smaller solution.\n",
    "\n",
    "If [a, b] is one solution with a <= b, and [c, d] is another solution with c <= d, then\n",
    "\n",
    "[a, b] < [c, d]\n",
    "If a < c OR a==c AND b < d."
   ]
  },
  {
   "cell_type": "code",
   "execution_count": 29,
   "metadata": {},
   "outputs": [
    {
     "data": {
      "text/plain": [
       "[5, 31]"
      ]
     },
     "execution_count": 29,
     "metadata": {},
     "output_type": "execute_result"
    }
   ],
   "source": [
    "def is_prime(n):\n",
    "    if n in (2, 3):\n",
    "        return True\n",
    "    if n % 2 == 0:\n",
    "        return False\n",
    "    stop = round(n**0.5) + 1\n",
    "    for divisor in range(3, stop, 2):\n",
    "        if n % divisor == 0:\n",
    "            return False\n",
    "    return True\n",
    "\n",
    "def primesum(n):\n",
    "    for i in range(2,n+1):\n",
    "        if is_prime(i) and is_prime(n-i):\n",
    "            return [i, n-i]\n",
    "\n",
    "primesum(36)"
   ]
  },
  {
   "cell_type": "markdown",
   "metadata": {},
   "source": [
    "## Day 102\n",
    "Good morning! Here's your coding interview problem for today.\n",
    "\n",
    "This problem was asked by Square.\n",
    "\n",
    "Given a string and a set of characters, return the shortest substring containing all the characters in the set.\n",
    "\n",
    "For example, given the string \"figehaeci\" and the set of characters {a, e, i}, you should return \"aeci\".\n",
    "\n",
    "If there is no substring containing all the characters in the set, return null.\n"
   ]
  },
  {
   "cell_type": "code",
   "execution_count": 24,
   "metadata": {},
   "outputs": [
    {
     "name": "stdout",
     "output_type": "stream",
     "text": [
      "0 4\n"
     ]
    },
    {
     "data": {
      "text/plain": [
       "'afei'"
      ]
     },
     "execution_count": 24,
     "metadata": {},
     "output_type": "execute_result"
    }
   ],
   "source": [
    "import collections\n",
    "\n",
    "def minWindow(s: str, t: str) -> str:\n",
    "    # hash table to store the required char frequency\n",
    "    need = collections.Counter(t)            \n",
    "    #print(need)\n",
    "    # total character count we need to care about\n",
    "    missing = len(t)                         \n",
    "\n",
    "    # windowStart and windowEnd to be\n",
    "    windowStart, windowEnd = 0, 0\n",
    "    i = 0\n",
    "\n",
    "    # iterate over s starting over index 1\n",
    "    for j, char in enumerate(s, 1):          \n",
    "        #print(need[char])\n",
    "        # if char is required then decrease missing\n",
    "        if need[char] > 0:                   \n",
    "            missing -= 1\n",
    "\n",
    "        # decrease the freq of char from need (maybe be negative - which basically denotes\n",
    "        # that we have few extra characters which are not required but present in between current window)\n",
    "        need[char] -= 1                      \n",
    "\n",
    "        # we found a valid window\n",
    "        if missing == 0:                     \n",
    "            # chars from start to find the real windowStart\n",
    "            while i < j and need[s[i]] < 0:  \n",
    "                need[s[i]] += 1\n",
    "                i += 1\n",
    "                #print(i)\n",
    "            \n",
    "            # if it's only one char case or curr window is smaller, then update window\n",
    "            if windowEnd == 0 or j-i < windowEnd-windowStart:  \n",
    "                windowStart, windowEnd = i, j\n",
    "\n",
    "            # now resetting the window to make it invalid\n",
    "            # sure the first appearing char in new window satisfies need[char]>0\n",
    "            need[s[i]] += 1\n",
    "            \n",
    "            # print(need[s[i]], s[i])\n",
    "            # missed this first char, so add missing by 1\n",
    "            missing += 1                     \n",
    "\n",
    "            #update i to windowStart+1 for next window\n",
    "            i += 1                          \n",
    "    \n",
    "    print(windowStart, windowEnd)\n",
    "    return s[windowStart:windowEnd]\n",
    "\n",
    "s = \"afeigehaeci\"\n",
    "t = \"aei\"\n",
    "\n",
    "minWindow(s,t)"
   ]
  },
  {
   "cell_type": "markdown",
   "metadata": {},
   "source": [
    "## Day 103\n",
    "Good morning! Here's your coding interview problem for today.\n",
    "\n",
    "This problem was asked by Square.\n",
    "\n",
    "Given a string and a set of characters, return the shortest substring containing all the characters in the set.\n",
    "\n",
    "For example, given the string \"figehaeci\" and the set of characters {a, e, i}, you should return \"aeci\".\n",
    "\n",
    "If there is no substring containing all the characters in the set, return null."
   ]
  },
  {
   "cell_type": "markdown",
   "metadata": {},
   "source": [
    "## Day 104\n",
    "Good morning! Here's your coding interview problem for today.\n",
    "\n",
    "This problem was asked by Google.\n",
    "\n",
    "Determine whether a doubly linked list is a palindrome. What if it’s singly linked?\n",
    "\n",
    "For example, 1 -> 4 -> 3 -> 4 -> 1 returns True while 1 -> 4 returns False."
   ]
  },
  {
   "cell_type": "markdown",
   "metadata": {},
   "source": [
    "## Day 105\n",
    "Good morning! Here's your coding interview problem for today.\n",
    "\n",
    "This problem was asked by Facebook.\n",
    "\n",
    "Given a function f, and N return a debounced f of N milliseconds.\n",
    "\n",
    "That is, as long as the debounced f continues to be invoked, f itself will not be called for N milliseconds."
   ]
  },
  {
   "cell_type": "markdown",
   "metadata": {},
   "source": [
    "## Day 106\n",
    "Good morning! Here's your coding interview problem for today.\n",
    "\n",
    "This problem was asked by Microsoft.\n",
    "\n",
    "Print the nodes in a binary tree level-wise. For example, the following should print 1, 2, 3, 4, 5.\n",
    "\n",
    "  1\n",
    " / \\\n",
    "2   3\n",
    "   / \\\n",
    "  4   5"
   ]
  },
  {
   "cell_type": "markdown",
   "metadata": {},
   "source": [
    "## Day 107\n",
    "Good morning! Here's your coding interview problem for today.\n",
    "\n",
    "This problem was asked by Google.\n",
    "\n",
    "Given two strings A and B, return whether or not A can be shifted some number of times to get B.\n",
    "\n",
    "For example, if A is abcde and B is cdeab, return true. If A is abc and B is acb, return false."
   ]
  },
  {
   "cell_type": "markdown",
   "metadata": {},
   "source": [
    "## Day 108\n",
    "Good morning! Here's your coding interview problem for today.\n",
    "\n",
    "This problem was asked by Google.\n",
    "\n",
    "Given two strings A and B, return whether or not A can be shifted some number of times to get B.\n",
    "\n",
    "For example, if A is abcde and B is cdeab, return true. If A is abc and B is acb, return false."
   ]
  },
  {
   "cell_type": "code",
   "execution_count": 5,
   "metadata": {},
   "outputs": [
    {
     "name": "stdout",
     "output_type": "stream",
     "text": [
      "False\n"
     ]
    }
   ],
   "source": [
    "def shift_string(a, b):\n",
    "    for i in range(1, len(a)):\n",
    "        s = a[:i]\n",
    "        c = a.replace(s, '')\n",
    "        for j in range(1, len(c)+1):\n",
    "            t = list(c)\n",
    "            t.insert(j, s)\n",
    "            if ''.join(t) == b: return True\n",
    "    \n",
    "    else: return False\n",
    "\n",
    "print(shift_string('abc', 'acb'))"
   ]
  },
  {
   "cell_type": "markdown",
   "metadata": {},
   "source": [
    "## Day 109\n",
    "Good morning! Here's your coding interview problem for today.\n",
    "\n",
    "This problem was asked by Cisco.\n",
    "\n",
    "Given an unsigned 8-bit integer, swap its even and odd bits. The 1st and 2nd bit should be swapped, the 3rd and 4th bit should be swapped, and so on.\n",
    "\n",
    "For example, 10101010 should be 01010101. 11100010 should be 11010001.\n",
    "\n",
    "Bonus: Can you do this in one line?"
   ]
  },
  {
   "cell_type": "code",
   "execution_count": 6,
   "metadata": {},
   "outputs": [
    {
     "data": {
      "text/plain": [
       "11010001"
      ]
     },
     "execution_count": 6,
     "metadata": {},
     "output_type": "execute_result"
    }
   ],
   "source": [
    "def reverse_bytes(b):\n",
    "    b = list(str(b))\n",
    "    for i in range(0,8,2):\n",
    "        b[i],b[i+1] = b[i+1], b[i]\n",
    "    return int(''.join(b))\n",
    "\n",
    "reverse_bytes(11100010)"
   ]
  },
  {
   "cell_type": "markdown",
   "metadata": {},
   "source": [
    "## Day 110\n",
    "Good morning! Here's your coding interview problem for today.\n",
    "\n",
    "This problem was asked by Facebook.\n",
    "\n",
    "Given a binary tree, return all paths from the root to leaves.\n",
    "\n",
    "For example, given the tree:"
   ]
  },
  {
   "cell_type": "markdown",
   "metadata": {},
   "source": [
    "## Day 111\n",
    "Good morning! Here's your coding interview problem for today.\n",
    "\n",
    "This problem was asked by Google.\n",
    "\n",
    "Given a word W and a string S, find all starting indices in S which are anagrams of W.\n",
    "\n",
    "For example, given that W is \"ab\", and S is \"abxaba\", return 0, 3, and 4"
   ]
  },
  {
   "cell_type": "code",
   "execution_count": 7,
   "metadata": {},
   "outputs": [
    {
     "data": {
      "text/plain": [
       "[0, 3, 4]"
      ]
     },
     "execution_count": 7,
     "metadata": {},
     "output_type": "execute_result"
    }
   ],
   "source": [
    "def anagram_index(w, s):\n",
    "    a = [''.join(i) for i in it.permutations(w, len(w))]\n",
    "    start = 0\n",
    "    indexes = []\n",
    "    #for i in range(len(s)):\n",
    "    for j in a:\n",
    "        for i in range(len(s)):\n",
    "            v = s.find(j, start)\n",
    "            if v == -1:\n",
    "                break\n",
    "            indexes.append(v)\n",
    "            start = v + len(w)\n",
    "        start = 0\n",
    "    return indexes\n",
    "\n",
    "\n",
    "anagram_index('ab', 'abxaba')"
   ]
  },
  {
   "cell_type": "markdown",
   "metadata": {},
   "source": [
    "## Day 112\n",
    "Good morning! Here's your coding interview problem for today.\n",
    "\n",
    "This problem was asked by Twitter.\n",
    "\n",
    "Given a binary tree, find the lowest common ancestor (LCA) of two given nodes in the tree. Assume that each node in the tree also has a pointer to its parent.\n",
    "\n",
    "According to the definition of LCA on Wikipedia: “The lowest common ancestor is defined between two nodes v and w as the lowest node in T that has both v and w as descendants (where we allow a node to be a descendant of itself).”"
   ]
  },
  {
   "cell_type": "markdown",
   "metadata": {},
   "source": [
    "## Day 113\n",
    "This problem was asked by Google.\n",
    "\n",
    "Given a string of words delimited by spaces, reverse the words in string. For example, given \"hello world here\", return \"here world hello\"\n",
    "\n",
    "Follow-up: given a mutable string representation, can you perform this operation in-place?"
   ]
  },
  {
   "cell_type": "code",
   "execution_count": 8,
   "metadata": {},
   "outputs": [
    {
     "data": {
      "text/plain": [
       "'here world hello'"
      ]
     },
     "execution_count": 8,
     "metadata": {},
     "output_type": "execute_result"
    }
   ],
   "source": [
    "def reverse_string(s):\n",
    "    ss = s.split(' ')\n",
    "    w = ss[::-1]\n",
    "    w = ' '.join(w)\n",
    "    return w\n",
    "\n",
    "reverse_string('hello world here')"
   ]
  },
  {
   "cell_type": "markdown",
   "metadata": {},
   "source": [
    "## Day 114\n",
    "Good morning! Here's your coding interview problem for today.\n",
    "\n",
    "This problem was asked by Jane Street.\n",
    "\n",
    "Generate a finite, but an arbitrarily large binary tree quickly in O(1).\n",
    "\n",
    "That is, generate() should return a tree whose size is unbounded but finite."
   ]
  },
  {
   "cell_type": "markdown",
   "metadata": {},
   "source": [
    "## Day 115\n",
    "Good morning! Here's your coding interview problem for today.\n",
    "\n",
    "This problem was asked by Google.\n",
    "\n",
    "Given two non-empty binary trees s and t, check whether tree t has exactly the same structure and node values with a subtree of s. A subtree of s is a tree consists of a node in s and all of this node's descendants. The tree s could also be considered as a subtree of itself.\n"
   ]
  },
  {
   "cell_type": "markdown",
   "metadata": {},
   "source": [
    "## Day 116\n",
    "Good morning! Here's your coding interview problem for today.\n",
    "\n",
    "This problem was asked by Jane Street.\n",
    "\n",
    "Generate a finite, but an arbitrarily large binary tree quickly in O(1).\n",
    "\n",
    "That is, generate() should return a tree whose size is unbounded but finite."
   ]
  },
  {
   "cell_type": "code",
   "execution_count": 8,
   "metadata": {},
   "outputs": [],
   "source": []
  },
  {
   "cell_type": "markdown",
   "metadata": {},
   "source": [
    "## Day 117\n",
    "This problem was asked by Facebook.\n",
    "\n",
    "Given a binary tree, return the level of the tree with minimum sum."
   ]
  },
  {
   "cell_type": "markdown",
   "metadata": {},
   "source": [
    "## Day 118\n",
    "Good morning! Here's your coding interview problem for today.\n",
    "\n",
    "This problem was asked by Google.\n",
    "\n",
    "Given a sorted list of integers, square the elements and give the output in sorted order.\n",
    "\n",
    "For example, given [-9, -2, 0, 2, 3], return [0, 4, 4, 9, 81]."
   ]
  },
  {
   "cell_type": "code",
   "execution_count": 9,
   "metadata": {},
   "outputs": [
    {
     "data": {
      "text/plain": [
       "[4, 49, 64, 81, 81]"
      ]
     },
     "execution_count": 9,
     "metadata": {},
     "output_type": "execute_result"
    }
   ],
   "source": [
    "def square_sorted(a):\n",
    "    a = [i**2 for i in a]\n",
    "    a.sort()\n",
    "    return a\n",
    "\n",
    "a = [-9, -2, 7, 8, 9]\n",
    "square_sorted(a)"
   ]
  },
  {
   "cell_type": "markdown",
   "metadata": {},
   "source": [
    "## Day 119\n",
    "Good morning! Here's your coding interview problem for today.\n",
    "\n",
    "This problem was asked by Google.\n",
    "\n",
    "Given a set of closed intervals, find the smallest set of numbers that covers all the intervals. If there are multiple smallest sets, return any of them.\n",
    "\n",
    "For example, given the intervals [0, 3], [2, 6], [3, 4], [6, 9], one set of numbers that covers all these intervals is {3, 6}."
   ]
  },
  {
   "cell_type": "code",
   "execution_count": 10,
   "metadata": {},
   "outputs": [
    {
     "data": {
      "text/plain": [
       "{3, 6}"
      ]
     },
     "execution_count": 10,
     "metadata": {},
     "output_type": "execute_result"
    }
   ],
   "source": [
    "def smallest_interval(s):\n",
    "    start = min(s, key=lambda s: s[0])\n",
    "    end = max(s, key=lambda s: s[1])\n",
    "    return {start[1], end[0]}\n",
    "\n",
    "\n",
    "smallest_interval([[0,3], [2, 6], [3, 4], [6, 9]])"
   ]
  },
  {
   "cell_type": "markdown",
   "metadata": {},
   "source": [
    "## Day 120\n",
    "Good morning! Here's your coding interview problem for today.\n",
    "\n",
    "This problem was asked by Microsoft.\n",
    "\n",
    "Implement the singleton pattern with a twist. First, instead of storing one instance, store two instances. And in every even call of getInstance(), return the first instance and in every odd call of getInstance(), return the second instance."
   ]
  },
  {
   "cell_type": "code",
   "execution_count": 11,
   "metadata": {},
   "outputs": [
    {
     "name": "stdout",
     "output_type": "stream",
     "text": [
      "Writing OddEven\n"
     ]
    }
   ],
   "source": [
    "%%writefile OddEven\n",
    "\"\"\"Good morning! Here's your coding interview problem for today.\n",
    "This problem was asked by Microsoft.\n",
    "Implement the singleton pattern with a twist. First, instead of storing one instance, store two instances. \n",
    "And in every even call of getInstance(), return the first instance and in every odd call of getInstance(), \n",
    "return the second instance.\"\"\"\n",
    "\n",
    "\n",
    "def singleton(cls):\n",
    "    instance = [None, None]\n",
    "    counter = 0\n",
    "    @wraps(cls)\n",
    "    def _singleton(*args, **kwargs):\n",
    "        nonlocal counter, instance\n",
    "\n",
    "        if counter > 1:\n",
    "            counter = 0\n",
    "            \n",
    "        if instance[counter] is None:\n",
    "            instance[counter] = cls(*args, **kwargs)           \n",
    "        \n",
    "        counter += 1\n",
    "        return instance[counter-1]\n",
    "    return _singleton\n",
    "\n",
    "\n",
    "@singleton\n",
    "class TwistedSingleton:\n",
    "    \n",
    "    def __init__(self, m):\n",
    "        self.m = m\n",
    "        self.w = m*2\n",
    "\n",
    "\n",
    "a = TwistedSingleton(100)  \n",
    "print(a.m)\n",
    "b = TwistedSingleton(400)\n",
    "print(b.m)\n",
    "c = TwistedSingleton(200)\n",
    "print(c.m)\n",
    "d = TwistedSingleton(300)\n",
    "print(d.m)"
   ]
  },
  {
   "cell_type": "markdown",
   "metadata": {},
   "source": [
    "## Day 121\n",
    "Good morning! Here's your coding interview problem for today.\n",
    "\n",
    "This problem was asked by Google.\n",
    "\n",
    "Given a string which we can delete at most k, return whether you can make a palindrome.\n",
    "\n",
    "For example, given 'waterrfetawx' and a k of 2, you could delete f and x to get 'waterretaw'."
   ]
  },
  {
   "cell_type": "code",
   "execution_count": 12,
   "metadata": {},
   "outputs": [
    {
     "data": {
      "text/plain": [
       "'waterretaw'"
      ]
     },
     "execution_count": 12,
     "metadata": {},
     "output_type": "execute_result"
    }
   ],
   "source": [
    "def makepalindrome(s, k):\n",
    "    d = list(s)\n",
    "    for i in d:\n",
    "        b = d[:]\n",
    "        b.remove(i)\n",
    "        w = ''.join(b)\n",
    "        if w == w[::-1]:\n",
    "            return w\n",
    "            print(w, 'end')\n",
    "        c = b[:]\n",
    "        for j in c:\n",
    "            c.remove(j)\n",
    "            v = ''.join(c)\n",
    "            if v == v[::-1]:\n",
    "                return v\n",
    "            c = b[:]\n",
    "    else:\n",
    "        print(f\"can't make palindrom by removing at most 2 letters from {s}\")\n",
    "\n",
    "makepalindrome('waterrfetawx', 2)"
   ]
  },
  {
   "cell_type": "markdown",
   "metadata": {},
   "source": [
    "## Day 122\n",
    "Good morning! Here's your coding interview problem for today.\n",
    "\n",
    "This question was asked by Zillow.\n",
    "\n",
    "You are given a 2-d matrix where each cell represents number of coins in that cell. Assuming we start at matrix[0][0], and can only move right or down, find the maximum number of coins you can collect by the bottom right corner.\n",
    "\n",
    "For example, in this matrix\n",
    "\n",
    "0 3 1 1\n",
    "2 0 0 4\n",
    "1 5 3 1\n",
    "The most we can collect is 0 + 2 + 1 + 5 + 3 + 1 = 12 coins."
   ]
  },
  {
   "cell_type": "code",
   "execution_count": 13,
   "metadata": {},
   "outputs": [
    {
     "data": {
      "text/plain": [
       "12"
      ]
     },
     "execution_count": 13,
     "metadata": {},
     "output_type": "execute_result"
    }
   ],
   "source": [
    "def bottom_right(n): \n",
    "    c = n.shape[1] - 1\n",
    "    r = n.shape[0] - 1\n",
    "    right_down = np.sum(n[0]) + np.sum(n[:, c]) - n[0, c]\n",
    "    down_right = np.sum(n[:, 0]) + np.sum(n[r]) - n[r, 0]\n",
    "    return max(right_down, down_right)\n",
    "\n",
    "\n",
    "n = np.array([0, 3, 1, 1, 2, 0, 0, 4, 1, 5, 3, 1]).reshape(3,4)\n",
    "bottom_right(n)"
   ]
  },
  {
   "cell_type": "markdown",
   "metadata": {},
   "source": [
    "## Day 123\n",
    "Good morning! Here's your coding interview problem for today.\n",
    "\n",
    "This problem was asked by LinkedIn.\n",
    "\n",
    "Given a string, return whether it represents a number. Here are the different kinds of numbers:\n",
    "\n",
    "\"10\", a positive integer\n",
    "\"-10\", a negative integer\n",
    "\"10.1\", a positive real number\n",
    "\"-10.1\", a negative real number\n",
    "\"1e5\", a number in scientific notation\n",
    "And here are examples of non-numbers:\n",
    "\n",
    "\"a\"\n",
    "\"x 1\"\n",
    "\"a -2\"\n",
    "\"-\""
   ]
  },
  {
   "cell_type": "code",
   "execution_count": 14,
   "metadata": {},
   "outputs": [
    {
     "data": {
      "text/plain": [
       "'-90.8-e5 is an invalid literal for string to number conversion'"
      ]
     },
     "execution_count": 14,
     "metadata": {},
     "output_type": "execute_result"
    }
   ],
   "source": [
    "def strtonum(s):\n",
    "    try:\n",
    "        value = float(s)\n",
    "        return f'{s} is a valid literal for string to number conversion'\n",
    "    except ValueError:\n",
    "        return f'{s} is an invalid literal for string to number conversion'\n",
    "\n",
    "\n",
    "strtonum('-90.8-e5')"
   ]
  },
  {
   "cell_type": "markdown",
   "metadata": {},
   "source": [
    "## Day 124\n",
    "This problem was asked by Microsoft.\n",
    "\n",
    "You have n fair coins and you flip them all at the same time. Any that come up tails you set aside. The ones that come up heads you flip again. How many rounds do you expect to play before only one coin remains?\n",
    "\n",
    "Write a function that, given n, returns the number of rounds you'd expect to play until one coin remains."
   ]
  },
  {
   "cell_type": "code",
   "execution_count": 15,
   "metadata": {},
   "outputs": [
    {
     "name": "stdout",
     "output_type": "stream",
     "text": [
      "Overwriting rounds.py\n"
     ]
    }
   ],
   "source": [
    "%%writefile rounds.py\n",
    "\"\"\"This problem was asked by Microsoft.\n",
    "\n",
    "You have n fair coins and you flip them all at the same time. Any that come up tails you set aside. The ones that come up heads you flip again. How many rounds do you expect to play before only one coin remains?\n",
    "\n",
    "Write a function that, given n, returns the number of rounds you'd expect to play until one coin remains. \"\"\"\n",
    "\n",
    "def rounds(n):\n",
    "    r = 0\n",
    "    while n > 1:\n",
    "        # 0 heads 1 for tails\n",
    "        p = [random.randint(0,1) for i in range(n)]\n",
    "        h = [i for i in p if i==0]\n",
    "        n = len(h)\n",
    "        r += 1\n",
    "    return r\n",
    "\n",
    "rounds(5)"
   ]
  },
  {
   "cell_type": "markdown",
   "metadata": {},
   "source": [
    "## Day 125\n",
    "Good morning! Here's your coding interview problem for today.\n",
    "\n",
    "This problem was asked by Google.\n",
    "\n",
    "Given the root of a binary search tree, and a target K, return two nodes in the tree whose sum equals K.\n",
    "\n",
    "For example, given the following tree and K of 20\n",
    "\n",
    "    10\n",
    "   /   \\\n",
    " 5      15\n",
    "       /  \\\n",
    "     11    15\n",
    "Return the nodes 5 and 15."
   ]
  },
  {
   "cell_type": "markdown",
   "metadata": {},
   "source": [
    "## Day 126\n",
    "Good morning! Here's your coding interview problem for today.\n",
    "\n",
    "This problem was asked by Facebook.\n",
    "\n",
    "Write a function that rotates a list by k elements. For example, [1, 2, 3, 4, 5, 6] rotated by two becomes [3, 4, 5, 6, 1, 2]. Try solving this without creating a copy of the list. How many swap or move operations do you need?"
   ]
  },
  {
   "cell_type": "code",
   "execution_count": 16,
   "metadata": {},
   "outputs": [
    {
     "data": {
      "text/plain": [
       "[3, 4, 5, 6, 1, 2]"
      ]
     },
     "execution_count": 16,
     "metadata": {},
     "output_type": "execute_result"
    }
   ],
   "source": [
    "def rotate(a, n):\n",
    "    for i in a[:n]:\n",
    "        a.remove(i)\n",
    "        a.append(i)\n",
    "\n",
    "        \n",
    "def rotate_list(a, n):\n",
    "    a.extend(a[:n])\n",
    "    return a[n:]\n",
    "\n",
    "             \n",
    "a = [1, 2, 3, 4, 5, 6]\n",
    "rotate_list(a, 2)"
   ]
  },
  {
   "cell_type": "markdown",
   "metadata": {},
   "source": [
    "## Day 127\n",
    "Good morning! Here's your coding interview problem for today.\n",
    "\n",
    "This problem was asked by Microsoft.\n",
    "\n",
    "Let's represent an integer in a linked list format by having each node represent a digit in the number. The nodes make up the number in reversed order.\n",
    "\n",
    "For example, the following linked list:\n",
    "\n",
    "1 -> 2 -> 3 -> 4 -> 5\n",
    "is the number 54321.\n",
    "\n",
    "Given two linked lists in this format, return their sum in the same linked list format.\n",
    "\n",
    "For example, given\n",
    "\n",
    "9 -> 9\n",
    "5 -> 2\n",
    "return 124 (99 + 25) as:\n",
    "\n",
    "4 -> 2 -> 1"
   ]
  },
  {
   "cell_type": "code",
   "execution_count": 17,
   "metadata": {},
   "outputs": [
    {
     "data": {
      "text/plain": [
       "4->2->1"
      ]
     },
     "execution_count": 17,
     "metadata": {},
     "output_type": "execute_result"
    }
   ],
   "source": [
    "class Node:\n",
    "    \n",
    "    def __init__(self, data=None):\n",
    "        self.data = data\n",
    "        self.next = None\n",
    "    \n",
    "    def __repr__(self):\n",
    "        return str(self.data)\n",
    "    \n",
    "    def __str__(self):\n",
    "        return str(self.data)\n",
    "    \n",
    "\n",
    "class LinkedList:\n",
    "    \n",
    "    def __init__(self, num):\n",
    "        self.head = None\n",
    "        self.num = num\n",
    "        self.l = []\n",
    "        self.growlist()\n",
    "    \n",
    "    def __repr__(self):\n",
    "        rep = '->'.join(self.l)\n",
    "        return rep\n",
    "\n",
    "    def growlist(self):\n",
    "        n = str(self.num)\n",
    "        for i in n[::-1]:\n",
    "            node = Node(int(i))\n",
    "            node.next = self.head\n",
    "            self.head = node\n",
    "            self.l.append(str(self.head))\n",
    "    \n",
    "    def printlist(self):\n",
    "        cnode = self.head\n",
    "        while cnode:\n",
    "            print(cnode)\n",
    "            cnode = cnode.next\n",
    "    \n",
    "    def __add__(self, other):\n",
    "        ans = self.num + other.num\n",
    "        return LinkedList(ans)\n",
    "        \n",
    "        \n",
    "A = LinkedList(25)   \n",
    "B = LinkedList(99)\n",
    "A + B"
   ]
  },
  {
   "cell_type": "markdown",
   "metadata": {},
   "source": [
    "## Day 128\n",
    "Good morning! Here's your coding interview problem for today.\n",
    "\n",
    "The Tower of Hanoi is a puzzle game with three rods and n disks, each a different size.\n",
    "\n",
    "All the disks start off on the first rod in a stack. They are ordered by size, with the largest disk on the bottom and the smallest one at the top.\n",
    "\n",
    "The goal of this puzzle is to move all the disks from the first rod to the last rod while following these rules:\n",
    "\n",
    "You can only move one disk at a time.\n",
    "A move consists of taking the uppermost disk from one of the stacks and placing it on top of another stack.\n",
    "You cannot place a larger disk on top of a smaller disk.\n",
    "Write a function that prints out all the steps necessary to complete the Tower of Hanoi. You should assume that the rods are numbered, with the first rod being 1, the second (auxiliary) rod being 2, and the last (goal) rod being 3.\n",
    "\n",
    "For example, with n = 3, we can do this in 7 moves:\n",
    "\n",
    "Move 1 to 3\n",
    "Move 1 to 2\n",
    "Move 3 to 2\n",
    "Move 1 to 3\n",
    "Move 2 to 1\n",
    "Move 2 to 3\n",
    "Move 1 to 3"
   ]
  },
  {
   "cell_type": "code",
   "execution_count": 18,
   "metadata": {},
   "outputs": [
    {
     "ename": "SyntaxError",
     "evalue": "invalid syntax (<ipython-input-18-7ed6964264d1>, line 2)",
     "output_type": "error",
     "traceback": [
      "\u001b[1;36m  File \u001b[1;32m\"<ipython-input-18-7ed6964264d1>\"\u001b[1;36m, line \u001b[1;32m2\u001b[0m\n\u001b[1;33m    t1 [i for i in range(n)]\u001b[0m\n\u001b[1;37m          ^\u001b[0m\n\u001b[1;31mSyntaxError\u001b[0m\u001b[1;31m:\u001b[0m invalid syntax\n"
     ]
    }
   ],
   "source": [
    "def hanoi(n):\n",
    "    t1 [i for i in range(n)]\n",
    "    t2 []\n",
    "    t3 []\n",
    "    if len(t1) < 0:\n",
    "        return(max(t2, t3))\n",
    "    ef move(t1, t2, t3):\n",
    "        t2.appen(t1.pop(0))\n",
    "        "
   ]
  },
  {
   "cell_type": "code",
   "execution_count": null,
   "metadata": {},
   "outputs": [],
   "source": [
    "g =[3,4,6,7]\n",
    "g.pop()"
   ]
  },
  {
   "cell_type": "markdown",
   "metadata": {},
   "source": [
    "## Day 129\n",
    "Good morning! Here's your coding interview problem for today.\n",
    "Given a real number n, find the square root of n. For example, given n = 9, return 3."
   ]
  },
  {
   "cell_type": "markdown",
   "metadata": {},
   "source": [
    "## Day 130\n",
    "Good morning! Here's your coding interview problem for today.\n",
    "\n",
    "This problem was asked by Facebook.\n",
    "\n",
    "Given an array of numbers representing the stock prices of a company in chronological order and an integer k, return the maximum profit you can make from k buys and sells. You must buy the stock before you can sell it, and you must sell the stock before you can buy it again.\n",
    "\n",
    "For example, given k = 2 and the array [5, 2, 4, 0, 1], you should return 3."
   ]
  },
  {
   "cell_type": "code",
   "execution_count": null,
   "metadata": {},
   "outputs": [],
   "source": [
    "def buy_stocks(a, k):\n",
    "    for i in a:\n",
    "        d = a.index(i)\n",
    "        for j in a[d+1:]:\n",
    "            "
   ]
  },
  {
   "cell_type": "markdown",
   "metadata": {},
   "source": [
    "## Day 131\n",
    "Good morning! Here's your coding interview problem for today.\n",
    "\n",
    "This question was asked by Snapchat.\n",
    "\n",
    "Given the head to a singly linked list, where each node also has a “random” pointer that points to anywhere in the linked list, deep clone the list."
   ]
  },
  {
   "cell_type": "markdown",
   "metadata": {},
   "source": [
    "## Day 290\n",
    "Good morning! Here's your coding interview problem for today.\n",
    "\n",
    "This problem was asked by Facebook.\n",
    "\n",
    "On a mysterious island there are creatures known as Quxes which come in three colors: red, green, and blue. One power of the Qux is that if two of them are standing next to each other, they can transform into a single creature of the third color.\n",
    "\n",
    "Given N Quxes standing in a line, determine the smallest number of them remaining after any possible sequence of such transformations."
   ]
  },
  {
   "cell_type": "code",
   "execution_count": 5,
   "metadata": {},
   "outputs": [
    {
     "name": "stdout",
     "output_type": "stream",
     "text": [
      "['R', 'G'] B\n",
      "['B', 'B', 'G', 'B']\n",
      "['B', 'G'] R\n",
      "['B', 'R', 'B']\n",
      "['B', 'R'] G\n",
      "['G', 'B']\n",
      "['G', 'B'] R\n",
      "['R']\n",
      "1\n"
     ]
    }
   ],
   "source": [
    "c = ['R', 'G', 'B', 'G', 'B']\n",
    "test = ['R', 'G', 'B', 'G', 'B']\n",
    "\n",
    "\n",
    "def merge_colors(array):\n",
    "    \"\"\"\n",
    "    For example, given the input ['R', 'G', 'B', 'G', 'B'], it is possible to end up with a single Qux through the following steps:\n",
    "\n",
    "            Arrangement       |   Change\n",
    "    ----------------------------------------\n",
    "    ['R', 'G', 'B', 'G', 'B'] | (R, G) -> B\n",
    "    ['B', 'B', 'G', 'B']      | (B, G) -> R\n",
    "    ['B', 'R', 'B']           | (R, B) -> G\n",
    "    ['B', 'G']                | (B, G) -> R\n",
    "    ['R']                     |\n",
    "    :param array: input array containing the colors\n",
    "    :return: An integer representing the smallest number of elements in the array after reduction\n",
    "    \"\"\"\n",
    "    s = {'R', 'G', 'B'}\n",
    "    colors = list(array)\n",
    "    while len(set(colors)) > 1:\n",
    "        for i in range(0, len(colors)):\n",
    "            a = set(colors[i:i+2])\n",
    "            if len(a) == 2:\n",
    "                #print(colors[i:i+2], (s-a).pop())\n",
    "                # it works for strings only\n",
    "                colors[i:i+2] = (s - a).pop()\n",
    "                print(colors)\n",
    "    return len(colors)\n",
    "\n",
    "\n",
    "result = merge_colors(test)\n",
    "print(result)"
   ]
  },
  {
   "cell_type": "code",
   "execution_count": 13,
   "metadata": {},
   "outputs": [
    {
     "data": {
      "text/plain": [
       "['Red', '1', 'Green', 'Blue']"
      ]
     },
     "execution_count": 13,
     "metadata": {},
     "output_type": "execute_result"
    }
   ],
   "source": [
    "s = ['Red', 'Green', 'Blue', 'Green', 'Blue']\n",
    "\n",
    "s[1:3] = '1'\n",
    "\n",
    "s"
   ]
  },
  {
   "cell_type": "markdown",
   "metadata": {},
   "source": [
    "## Problem 464\n",
    "Good morning! Here's your coding interview problem for today.\n",
    "\n",
    "This problem was asked by Google.\n",
    "\n",
    "Given a set of distinct positive integers, find the largest subset such that every pair of elements in the subset (i, j) satisfies either i % j = 0 or j % i = 0.\n",
    "\n",
    "For example, given the set [3, 5, 10, 20, 21], you should return [5, 10, 20]. Given [1, 3, 6, 24], return [1, 3, 6, 24]."
   ]
  },
  {
   "cell_type": "code",
   "execution_count": 6,
   "metadata": {},
   "outputs": [],
   "source": [
    "test = [1, 3, 6, 24]\n",
    "\n",
    "\n",
    "def subset(array):\n",
    "    \"\"\"\n",
    "    Given a set of distinct positive integers, find the largest subset such that every pair of elements in the subset (i, j) satisfies either\n",
    "    i % j = 0 or j % i = 0.\n",
    "    For example, given the set [3, 5, 10, 20, 21], you should return [5, 10, 20]. Given [1, 3, 6, 24], return [1, 3, 6, 24].\n",
    "    :param array:\n",
    "    :return: the largest subset that satisfy the condition\n",
    "    \"\"\"\n",
    "    d = []\n",
    "    for i in range(len(array)):\n",
    "        j = array[i]\n",
    "        a = [j]\n",
    "        for k in array[i + 1:]:\n",
    "            if j % k == 0 or k % j == 0:\n",
    "                a.append(k)\n",
    "            else: break\n",
    "        d.append(a)\n",
    "    return max(d, key=lambda x: len(x))\n",
    "\n",
    "\n",
    "result = subset(test)\n",
    "# print(result)\n"
   ]
  },
  {
   "cell_type": "code",
   "execution_count": null,
   "metadata": {},
   "outputs": [],
   "source": []
  }
 ],
 "metadata": {
  "kernelspec": {
   "display_name": "Python 3 (ipykernel)",
   "language": "python",
   "name": "python3"
  },
  "language_info": {
   "codemirror_mode": {
    "name": "ipython",
    "version": 3
   },
   "file_extension": ".py",
   "mimetype": "text/x-python",
   "name": "python",
   "nbconvert_exporter": "python",
   "pygments_lexer": "ipython3",
   "version": "3.9.7"
  }
 },
 "nbformat": 4,
 "nbformat_minor": 4
}
