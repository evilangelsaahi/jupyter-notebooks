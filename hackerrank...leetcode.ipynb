{
 "cells": [
  {
   "cell_type": "markdown",
   "id": "56de8de7-c839-4dee-bbbe-9fd3be102021",
   "metadata": {},
   "source": [
    "## Magic Square"
   ]
  },
  {
   "cell_type": "code",
   "execution_count": 7,
   "id": "048810b1-96bf-4614-a44d-c878981f18eb",
   "metadata": {},
   "outputs": [],
   "source": [
    "import pprint"
   ]
  },
  {
   "cell_type": "code",
   "execution_count": 10,
   "id": "9282e6fe-2ca5-4797-b3cc-3c705eda61af",
   "metadata": {},
   "outputs": [
    {
     "name": "stdout",
     "output_type": "stream",
     "text": [
      "[[5, 3, 4], [1, 5, 8], [6, 4, 2]]\n"
     ]
    }
   ],
   "source": [
    "a = [[5, 3, 4],\n",
    "     [1, 5, 8],\n",
    "     [6, 4, 2]]\n",
    "pprint.pprint(a)"
   ]
  },
  {
   "cell_type": "code",
   "execution_count": null,
   "id": "2c7b9f13-dac5-4798-aaec-81d5046f24f6",
   "metadata": {},
   "outputs": [],
   "source": []
  },
  {
   "cell_type": "code",
   "execution_count": 6,
   "id": "e4f1a532-2bbb-4bbf-99a1-5ffbc807c355",
   "metadata": {},
   "outputs": [
    {
     "name": "stdout",
     "output_type": "stream",
     "text": [
      "15.0\n",
      "[0, 1, 2] [0, 1, 2]\n"
     ]
    }
   ],
   "source": [
    "import numpy as np\n",
    "from collections import Counter\n",
    "import copy\n",
    "\n",
    "def magic_square(a):\n",
    "    s = np.array(a)\n",
    "    \n",
    "    sums = []\n",
    "#print(\"diagonal sum :\", sum(s.diagonal()))\n",
    "    sums.append(sum(s.diagonal()))\n",
    "    for i in range(len(s)):\n",
    "        sums.append(sum(s[i]))\n",
    "        sums.append(sum(s[:,i]))\n",
    "#        print(\"row \", sum(s[i]))\n",
    "#        print(\"col \", sum(s[:,i]))\n",
    "#    common = Counter(sums).most_common(1)[0][0]\n",
    "    n = len(s)\n",
    "    common = n * ((n**2)+1)/2\n",
    "    print(common)\n",
    "    row, col = [],[]\n",
    "    \n",
    "    for i in range(len(s)):\n",
    "        if sum(s[i]) != common:\n",
    "            row.append(i)\n",
    "        if sum(s[:,i]) != common:\n",
    "            col.append(i)\n",
    "    print(row, col)\n",
    "    \n",
    "    \"\"\"for i,j in zip(row, col):\n",
    "        s[i][j] = \n",
    "\"\"\"\n",
    "        \n",
    "magic_square(a)"
   ]
  },
  {
   "cell_type": "code",
   "execution_count": 14,
   "id": "404cb8ae-75cf-4200-944c-ee97c2eb5fa5",
   "metadata": {},
   "outputs": [],
   "source": [
    "def increment(arr):\n",
    "    arr.sort()\n",
    "    res = 0\n",
    "    l  = len(arr)\n",
    "    if len(arr) == arr.count(max(arr)):\n",
    "        return 0\n",
    "    \n",
    "    while l != arr.count(max(arr)):\n",
    "        index_max_number = arr.index(max(arr))\n",
    "        \n",
    "        for index in range(len(arr)):\n",
    "            if index == index_max_number:\n",
    "                print(index)\n",
    "                pass\n",
    "            else:\n",
    "                arr[index] = arr[index] +1\n",
    "        print(arr)\n",
    "        res +=1\n",
    "    return res"
   ]
  },
  {
   "cell_type": "code",
   "execution_count": 28,
   "id": "48f01c7c-f872-4a4e-875f-f3478ec78e99",
   "metadata": {},
   "outputs": [
    {
     "name": "stdout",
     "output_type": "stream",
     "text": [
      "4\n",
      "[6, 8, 9, 10, 10]\n",
      "3\n",
      "[7, 9, 10, 10, 11]\n",
      "4\n",
      "[8, 10, 11, 11, 11]\n",
      "2\n",
      "[9, 11, 11, 12, 12]\n",
      "3\n",
      "[10, 12, 12, 12, 13]\n",
      "4\n",
      "[11, 13, 13, 13, 13]\n",
      "1\n",
      "[12, 13, 14, 14, 14]\n",
      "2\n",
      "[13, 14, 14, 15, 15]\n",
      "3\n",
      "[14, 15, 15, 15, 16]\n",
      "4\n",
      "[15, 16, 16, 16, 16]\n",
      "1\n",
      "[16, 16, 17, 17, 17]\n",
      "2\n",
      "[17, 17, 17, 18, 18]\n",
      "3\n",
      "[18, 18, 18, 18, 19]\n",
      "4\n",
      "[19, 19, 19, 19, 19]\n"
     ]
    },
    {
     "data": {
      "text/plain": [
       "14"
      ]
     },
     "execution_count": 28,
     "metadata": {},
     "output_type": "execute_result"
    }
   ],
   "source": [
    "#increment([10,9,8,7,5])\n",
    "increment([10,9,8,7,5][::-1])"
   ]
  },
  {
   "cell_type": "code",
   "execution_count": 24,
   "id": "a4366f30-d079-4aa1-8f4b-d07370e6feb1",
   "metadata": {},
   "outputs": [
    {
     "data": {
      "text/plain": [
       "[4, 3, 3, 2, 1]"
      ]
     },
     "execution_count": 24,
     "metadata": {},
     "output_type": "execute_result"
    }
   ],
   "source": [
    "[1,2,3,3,4][::-1]"
   ]
  },
  {
   "cell_type": "code",
   "execution_count": null,
   "id": "1707d041-54ac-4d5e-9deb-729fe63ef1fd",
   "metadata": {},
   "outputs": [],
   "source": []
  },
  {
   "cell_type": "code",
   "execution_count": 21,
   "id": "35e75f29-a43e-45dd-9320-963915a7fc6b",
   "metadata": {},
   "outputs": [
    {
     "data": {
      "text/plain": [
       "False"
      ]
     },
     "execution_count": 21,
     "metadata": {},
     "output_type": "execute_result"
    }
   ],
   "source": [
    "\"abe\" in \"abcdefg\""
   ]
  },
  {
   "cell_type": "code",
   "execution_count": 88,
   "id": "bf403583-f4f6-4db2-b14f-e6cc2153efa5",
   "metadata": {},
   "outputs": [],
   "source": [
    "def longestCommonPrefix(strs: list[str]) -> str:\n",
    "        d = {}\n",
    "        res = []\n",
    "        minn = min(strs, key=len)\n",
    "        #print(minn)\n",
    "        \n",
    "        for i in range(1, len(minn)+1):\n",
    "            count = len(strs)\n",
    "            for word in strs:\n",
    "                if minn[:i] in word[:i]:\n",
    "                    count -=1\n",
    "            if count == 0:\n",
    "                res.append(minn[:i])\n",
    "        print(res)\n",
    "        if res:\n",
    "            return max(res, key=len)\n",
    "        else:\n",
    "            return \"\""
   ]
  },
  {
   "cell_type": "code",
   "execution_count": 91,
   "id": "a73a2c2a-8695-4b70-bb77-44b860127ffc",
   "metadata": {},
   "outputs": [
    {
     "name": "stdout",
     "output_type": "stream",
     "text": [
      "['f', 'fl', 'fli']\n"
     ]
    },
    {
     "data": {
      "text/plain": [
       "'fli'"
      ]
     },
     "execution_count": 91,
     "metadata": {},
     "output_type": "execute_result"
    }
   ],
   "source": [
    "strs = [\"fliower\",\"fliow\",\"flights\", \"fliws\", \"flitts\"]\n",
    "\n",
    "longestCommonPrefix(strs)"
   ]
  },
  {
   "cell_type": "code",
   "execution_count": 79,
   "id": "ab7a8b7d-5452-4f5b-b61c-862f3c5bf5f2",
   "metadata": {},
   "outputs": [
    {
     "data": {
      "text/plain": [
       "''"
      ]
     },
     "execution_count": 79,
     "metadata": {},
     "output_type": "execute_result"
    }
   ],
   "source": [
    "strs = [\"reflower\",\"flow\",\"flight\"]\n",
    "longestCommonPrefix(strs)"
   ]
  },
  {
   "cell_type": "code",
   "execution_count": 86,
   "id": "2982d130-0c5c-49cf-817b-ed26c5dcb18e",
   "metadata": {},
   "outputs": [],
   "source": [
    "def longestCommonPrefix(strs):\n",
    "        \"\"\"\n",
    "        :type strs: List[str]\n",
    "        :rtype: str\n",
    "        \"\"\"\n",
    "        if not strs:\n",
    "            return \"\"\n",
    "        shortest = min(strs,key=len)\n",
    "        #print(shortest)\n",
    "        \n",
    "        for i, ch in enumerate(shortest):\n",
    "            print(i,\" \",ch)\n",
    "            for other in strs:\n",
    "                print(other)\n",
    "                if other[i] != ch:\n",
    "                    return shortest[:i]\n",
    "        return shortest "
   ]
  },
  {
   "cell_type": "code",
   "execution_count": 92,
   "id": "a3339ff0-58ac-4a58-87b9-cd8269e15ca6",
   "metadata": {},
   "outputs": [
    {
     "name": "stdout",
     "output_type": "stream",
     "text": [
      "['f', 'fl']\n"
     ]
    },
    {
     "data": {
      "text/plain": [
       "'fl'"
      ]
     },
     "execution_count": 92,
     "metadata": {},
     "output_type": "execute_result"
    }
   ],
   "source": [
    "strs = [\"flower\",\"flow\",\"flights\"]\n",
    "\n",
    "longestCommonPrefix(strs)"
   ]
  }
 ],
 "metadata": {
  "kernelspec": {
   "display_name": "Python 3 (ipykernel)",
   "language": "python",
   "name": "python3"
  },
  "language_info": {
   "codemirror_mode": {
    "name": "ipython",
    "version": 3
   },
   "file_extension": ".py",
   "mimetype": "text/x-python",
   "name": "python",
   "nbconvert_exporter": "python",
   "pygments_lexer": "ipython3",
   "version": "3.9.12"
  }
 },
 "nbformat": 4,
 "nbformat_minor": 5
}
